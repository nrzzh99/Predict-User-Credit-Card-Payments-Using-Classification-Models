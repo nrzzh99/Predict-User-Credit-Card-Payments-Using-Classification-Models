{
  "cells": [
    {
      "cell_type": "markdown",
      "metadata": {
        "id": "yRcVYSFPoAqE"
      },
      "source": [
        "#I. Perkenalan\n",
        "Nama : Nurul Izzah\n",
        "\n",
        "Batch : 018\n",
        "\n",
        "Object : memprediksi default_payment_next_month menggunakan model klasifikasi\n",
        "\n",
        "Query SQL :\n",
        "(membuat tabel baru lalu di save di akun bigquery)\n",
        "\n",
        "CREATE TABLE test.credit_card_default AS\n",
        "SELECT \n",
        "\n",
        "  CAST(sex AS INT64) AS sex,\n",
        "  CAST(education_level AS INT64) AS education_level,\n",
        "  CAST(marital_status AS INT64) AS marital_status,\n",
        "  CAST(pay_5 AS FLOAT64) AS pay_5,\n",
        "  CAST(pay_6 AS FLOAT64) AS pay_6,\n",
        "  CAST(default_payment_next_month AS INT64) AS default_payment_next_month,\n",
        "  limit_balance, age, pay_0, pay_2, pay_3, pay_4, \n",
        "  bill_amt_1, bill_amt_2, bill_amt_3, bill_amt_4, bill_amt_5, bill_amt_6, \n",
        "  pay_amt_1, pay_amt_2, pay_amt_3, pay_amt_4, pay_amt_5, pay_amt_6\n",
        "\n",
        "FROM bigquery-public-data.ml_datasets.credit_card_default\n",
        "LIMIT 35982;\n",
        "\n",
        "(mengambil semua data yg sudah di save dan diedit)\n",
        "\n",
        "SELECT * FROM galvanic-crow-375802.test.credit_card_default;"
      ]
    },
    {
      "cell_type": "markdown",
      "metadata": {
        "id": "caH2O-YFsHca"
      },
      "source": [
        "#II. Import Libraries"
      ]
    },
    {
      "cell_type": "code",
      "execution_count": 87,
      "metadata": {
        "id": "f7H4t9gUn_0x"
      },
      "outputs": [],
      "source": [
        "#import libraries\n",
        "import pandas as pd\n",
        "import numpy as np\n",
        "import matplotlib.pyplot as plt\n",
        "import seaborn as sns\n",
        "import scipy.stats as stats\n",
        "from sklearn import metrics\n",
        "\n",
        "\n",
        "from scipy.stats import kendalltau\n",
        "from sklearn.model_selection import train_test_split\n",
        "from sklearn.preprocessing import StandardScaler\n",
        "from sklearn.pipeline import Pipeline\n",
        "from sklearn.linear_model import LogisticRegression\n",
        "from sklearn.svm import SVC\n",
        "from sklearn.tree import DecisionTreeClassifier\n",
        "from sklearn.neighbors import KNeighborsClassifier\n",
        "from sklearn.naive_bayes import GaussianNB\n",
        "from sklearn.ensemble import RandomForestClassifier\n",
        "from sklearn.ensemble import GradientBoostingClassifier\n",
        "from sklearn.metrics import roc_auc_score, roc_curve\n",
        "from sklearn.metrics import classification_report\n",
        "from sklearn.metrics import confusion_matrix\n",
        "from sklearn.metrics import precision_recall_curve\n",
        "from sklearn.model_selection import GridSearchCV\n",
        "from sklearn.model_selection import cross_val_score\n",
        "from imblearn.pipeline import Pipeline as make_pipeline\n",
        "from imblearn.over_sampling import SMOTE\n",
        "from imblearn.over_sampling import RandomOverSampler\n",
        "\n",
        "import pickle\n",
        "import json"
      ]
    },
    {
      "cell_type": "code",
      "execution_count": 88,
      "metadata": {
        "id": "CjC0qk1jstKm"
      },
      "outputs": [],
      "source": [
        "#read dataset\n",
        "df = pd.read_csv('/content/h8dsft_P1M1_Nurul-Izzah (1).csv')"
      ]
    },
    {
      "cell_type": "markdown",
      "metadata": {
        "id": "bTuvqsYq1swb"
      },
      "source": [
        "#III. Data Loading"
      ]
    },
    {
      "cell_type": "code",
      "execution_count": 89,
      "metadata": {
        "colab": {
          "base_uri": "https://localhost:8080/",
          "height": 488
        },
        "id": "86uWrZ-jwOkj",
        "outputId": "5b1ea73f-5d27-4bde-aa77-93e1c85e0ea7"
      },
      "outputs": [
        {
          "output_type": "execute_result",
          "data": {
            "text/plain": [
              "      sex  education_level  marital_status  pay_5  pay_6  \\\n",
              "0       1                1               1      0      0   \n",
              "1       1                1               1      0      0   \n",
              "2       2                1               1      0      0   \n",
              "3       2                1               2      0      0   \n",
              "4       2                1               1      0      0   \n",
              "...   ...              ...             ...    ...    ...   \n",
              "2960    1                1               1     -1     -1   \n",
              "2961    2                1               1     -1     -1   \n",
              "2962    2                1               2     -1     -1   \n",
              "2963    2                2               2     -1     -1   \n",
              "2964    2                2               1     -1     -1   \n",
              "\n",
              "      default_payment_next_month  limit_balance  age  pay_0  pay_2  ...  \\\n",
              "0                              0         460000   49      0      0  ...   \n",
              "1                              0         240000   53      0      0  ...   \n",
              "2                              0         110000   51      0      0  ...   \n",
              "3                              0         110000   23      0      0  ...   \n",
              "4                              0         320000   42      0      0  ...   \n",
              "...                          ...            ...  ...    ...    ...  ...   \n",
              "2960                           0         390000   46     -1     -1  ...   \n",
              "2961                           0         350000   55     -1     -1  ...   \n",
              "2962                           0         460000   34     -1     -1  ...   \n",
              "2963                           0         160000   29     -1     -1  ...   \n",
              "2964                           0         210000   48     -1     -1  ...   \n",
              "\n",
              "      bill_amt_3  bill_amt_4  bill_amt_5  bill_amt_6  pay_amt_1  pay_amt_2  \\\n",
              "0         295807      291616      289529      289449      13200      14000   \n",
              "1         133385      136654      136639      123951       9700       5000   \n",
              "2          92724       94573       65034       66241       3771       3656   \n",
              "3          76460       60136       41872       38158       3400       4000   \n",
              "4         103278       62891       64948       66961       9000       6000   \n",
              "...          ...         ...         ...         ...        ...        ...   \n",
              "2960       53796        6009        9096        3267      94921      53796   \n",
              "2961        1630        7461        4124        1261       1935       1630   \n",
              "2962       21494       12657        5739       10184       8869      23664   \n",
              "2963        1086        1874        2920           0       2108       1086   \n",
              "2964         355       12816           0         102          0        358   \n",
              "\n",
              "      pay_amt_3  pay_amt_4  pay_amt_5  pay_amt_6  \n",
              "0         11500      10500      10500      10000  \n",
              "1          5500       5500       5000       5000  \n",
              "2          3687       2476       2406       2427  \n",
              "3          2951       1600       1540       1400  \n",
              "4          3000       3000       3000       3000  \n",
              "...         ...        ...        ...        ...  \n",
              "2960       6009       9096       3267       2901  \n",
              "2961       7461       4124       1261       2798  \n",
              "2962      12659       5752      10192       7419  \n",
              "2963       1874       2920          0       1222  \n",
              "2964      12816          0        102        210  \n",
              "\n",
              "[2965 rows x 24 columns]"
            ],
            "text/html": [
              "\n",
              "  <div id=\"df-04cac2fa-0bb0-473c-9509-7a56949299a4\">\n",
              "    <div class=\"colab-df-container\">\n",
              "      <div>\n",
              "<style scoped>\n",
              "    .dataframe tbody tr th:only-of-type {\n",
              "        vertical-align: middle;\n",
              "    }\n",
              "\n",
              "    .dataframe tbody tr th {\n",
              "        vertical-align: top;\n",
              "    }\n",
              "\n",
              "    .dataframe thead th {\n",
              "        text-align: right;\n",
              "    }\n",
              "</style>\n",
              "<table border=\"1\" class=\"dataframe\">\n",
              "  <thead>\n",
              "    <tr style=\"text-align: right;\">\n",
              "      <th></th>\n",
              "      <th>sex</th>\n",
              "      <th>education_level</th>\n",
              "      <th>marital_status</th>\n",
              "      <th>pay_5</th>\n",
              "      <th>pay_6</th>\n",
              "      <th>default_payment_next_month</th>\n",
              "      <th>limit_balance</th>\n",
              "      <th>age</th>\n",
              "      <th>pay_0</th>\n",
              "      <th>pay_2</th>\n",
              "      <th>...</th>\n",
              "      <th>bill_amt_3</th>\n",
              "      <th>bill_amt_4</th>\n",
              "      <th>bill_amt_5</th>\n",
              "      <th>bill_amt_6</th>\n",
              "      <th>pay_amt_1</th>\n",
              "      <th>pay_amt_2</th>\n",
              "      <th>pay_amt_3</th>\n",
              "      <th>pay_amt_4</th>\n",
              "      <th>pay_amt_5</th>\n",
              "      <th>pay_amt_6</th>\n",
              "    </tr>\n",
              "  </thead>\n",
              "  <tbody>\n",
              "    <tr>\n",
              "      <th>0</th>\n",
              "      <td>1</td>\n",
              "      <td>1</td>\n",
              "      <td>1</td>\n",
              "      <td>0</td>\n",
              "      <td>0</td>\n",
              "      <td>0</td>\n",
              "      <td>460000</td>\n",
              "      <td>49</td>\n",
              "      <td>0</td>\n",
              "      <td>0</td>\n",
              "      <td>...</td>\n",
              "      <td>295807</td>\n",
              "      <td>291616</td>\n",
              "      <td>289529</td>\n",
              "      <td>289449</td>\n",
              "      <td>13200</td>\n",
              "      <td>14000</td>\n",
              "      <td>11500</td>\n",
              "      <td>10500</td>\n",
              "      <td>10500</td>\n",
              "      <td>10000</td>\n",
              "    </tr>\n",
              "    <tr>\n",
              "      <th>1</th>\n",
              "      <td>1</td>\n",
              "      <td>1</td>\n",
              "      <td>1</td>\n",
              "      <td>0</td>\n",
              "      <td>0</td>\n",
              "      <td>0</td>\n",
              "      <td>240000</td>\n",
              "      <td>53</td>\n",
              "      <td>0</td>\n",
              "      <td>0</td>\n",
              "      <td>...</td>\n",
              "      <td>133385</td>\n",
              "      <td>136654</td>\n",
              "      <td>136639</td>\n",
              "      <td>123951</td>\n",
              "      <td>9700</td>\n",
              "      <td>5000</td>\n",
              "      <td>5500</td>\n",
              "      <td>5500</td>\n",
              "      <td>5000</td>\n",
              "      <td>5000</td>\n",
              "    </tr>\n",
              "    <tr>\n",
              "      <th>2</th>\n",
              "      <td>2</td>\n",
              "      <td>1</td>\n",
              "      <td>1</td>\n",
              "      <td>0</td>\n",
              "      <td>0</td>\n",
              "      <td>0</td>\n",
              "      <td>110000</td>\n",
              "      <td>51</td>\n",
              "      <td>0</td>\n",
              "      <td>0</td>\n",
              "      <td>...</td>\n",
              "      <td>92724</td>\n",
              "      <td>94573</td>\n",
              "      <td>65034</td>\n",
              "      <td>66241</td>\n",
              "      <td>3771</td>\n",
              "      <td>3656</td>\n",
              "      <td>3687</td>\n",
              "      <td>2476</td>\n",
              "      <td>2406</td>\n",
              "      <td>2427</td>\n",
              "    </tr>\n",
              "    <tr>\n",
              "      <th>3</th>\n",
              "      <td>2</td>\n",
              "      <td>1</td>\n",
              "      <td>2</td>\n",
              "      <td>0</td>\n",
              "      <td>0</td>\n",
              "      <td>0</td>\n",
              "      <td>110000</td>\n",
              "      <td>23</td>\n",
              "      <td>0</td>\n",
              "      <td>0</td>\n",
              "      <td>...</td>\n",
              "      <td>76460</td>\n",
              "      <td>60136</td>\n",
              "      <td>41872</td>\n",
              "      <td>38158</td>\n",
              "      <td>3400</td>\n",
              "      <td>4000</td>\n",
              "      <td>2951</td>\n",
              "      <td>1600</td>\n",
              "      <td>1540</td>\n",
              "      <td>1400</td>\n",
              "    </tr>\n",
              "    <tr>\n",
              "      <th>4</th>\n",
              "      <td>2</td>\n",
              "      <td>1</td>\n",
              "      <td>1</td>\n",
              "      <td>0</td>\n",
              "      <td>0</td>\n",
              "      <td>0</td>\n",
              "      <td>320000</td>\n",
              "      <td>42</td>\n",
              "      <td>0</td>\n",
              "      <td>0</td>\n",
              "      <td>...</td>\n",
              "      <td>103278</td>\n",
              "      <td>62891</td>\n",
              "      <td>64948</td>\n",
              "      <td>66961</td>\n",
              "      <td>9000</td>\n",
              "      <td>6000</td>\n",
              "      <td>3000</td>\n",
              "      <td>3000</td>\n",
              "      <td>3000</td>\n",
              "      <td>3000</td>\n",
              "    </tr>\n",
              "    <tr>\n",
              "      <th>...</th>\n",
              "      <td>...</td>\n",
              "      <td>...</td>\n",
              "      <td>...</td>\n",
              "      <td>...</td>\n",
              "      <td>...</td>\n",
              "      <td>...</td>\n",
              "      <td>...</td>\n",
              "      <td>...</td>\n",
              "      <td>...</td>\n",
              "      <td>...</td>\n",
              "      <td>...</td>\n",
              "      <td>...</td>\n",
              "      <td>...</td>\n",
              "      <td>...</td>\n",
              "      <td>...</td>\n",
              "      <td>...</td>\n",
              "      <td>...</td>\n",
              "      <td>...</td>\n",
              "      <td>...</td>\n",
              "      <td>...</td>\n",
              "      <td>...</td>\n",
              "    </tr>\n",
              "    <tr>\n",
              "      <th>2960</th>\n",
              "      <td>1</td>\n",
              "      <td>1</td>\n",
              "      <td>1</td>\n",
              "      <td>-1</td>\n",
              "      <td>-1</td>\n",
              "      <td>0</td>\n",
              "      <td>390000</td>\n",
              "      <td>46</td>\n",
              "      <td>-1</td>\n",
              "      <td>-1</td>\n",
              "      <td>...</td>\n",
              "      <td>53796</td>\n",
              "      <td>6009</td>\n",
              "      <td>9096</td>\n",
              "      <td>3267</td>\n",
              "      <td>94921</td>\n",
              "      <td>53796</td>\n",
              "      <td>6009</td>\n",
              "      <td>9096</td>\n",
              "      <td>3267</td>\n",
              "      <td>2901</td>\n",
              "    </tr>\n",
              "    <tr>\n",
              "      <th>2961</th>\n",
              "      <td>2</td>\n",
              "      <td>1</td>\n",
              "      <td>1</td>\n",
              "      <td>-1</td>\n",
              "      <td>-1</td>\n",
              "      <td>0</td>\n",
              "      <td>350000</td>\n",
              "      <td>55</td>\n",
              "      <td>-1</td>\n",
              "      <td>-1</td>\n",
              "      <td>...</td>\n",
              "      <td>1630</td>\n",
              "      <td>7461</td>\n",
              "      <td>4124</td>\n",
              "      <td>1261</td>\n",
              "      <td>1935</td>\n",
              "      <td>1630</td>\n",
              "      <td>7461</td>\n",
              "      <td>4124</td>\n",
              "      <td>1261</td>\n",
              "      <td>2798</td>\n",
              "    </tr>\n",
              "    <tr>\n",
              "      <th>2962</th>\n",
              "      <td>2</td>\n",
              "      <td>1</td>\n",
              "      <td>2</td>\n",
              "      <td>-1</td>\n",
              "      <td>-1</td>\n",
              "      <td>0</td>\n",
              "      <td>460000</td>\n",
              "      <td>34</td>\n",
              "      <td>-1</td>\n",
              "      <td>-1</td>\n",
              "      <td>...</td>\n",
              "      <td>21494</td>\n",
              "      <td>12657</td>\n",
              "      <td>5739</td>\n",
              "      <td>10184</td>\n",
              "      <td>8869</td>\n",
              "      <td>23664</td>\n",
              "      <td>12659</td>\n",
              "      <td>5752</td>\n",
              "      <td>10192</td>\n",
              "      <td>7419</td>\n",
              "    </tr>\n",
              "    <tr>\n",
              "      <th>2963</th>\n",
              "      <td>2</td>\n",
              "      <td>2</td>\n",
              "      <td>2</td>\n",
              "      <td>-1</td>\n",
              "      <td>-1</td>\n",
              "      <td>0</td>\n",
              "      <td>160000</td>\n",
              "      <td>29</td>\n",
              "      <td>-1</td>\n",
              "      <td>-1</td>\n",
              "      <td>...</td>\n",
              "      <td>1086</td>\n",
              "      <td>1874</td>\n",
              "      <td>2920</td>\n",
              "      <td>0</td>\n",
              "      <td>2108</td>\n",
              "      <td>1086</td>\n",
              "      <td>1874</td>\n",
              "      <td>2920</td>\n",
              "      <td>0</td>\n",
              "      <td>1222</td>\n",
              "    </tr>\n",
              "    <tr>\n",
              "      <th>2964</th>\n",
              "      <td>2</td>\n",
              "      <td>2</td>\n",
              "      <td>1</td>\n",
              "      <td>-1</td>\n",
              "      <td>-1</td>\n",
              "      <td>0</td>\n",
              "      <td>210000</td>\n",
              "      <td>48</td>\n",
              "      <td>-1</td>\n",
              "      <td>-1</td>\n",
              "      <td>...</td>\n",
              "      <td>355</td>\n",
              "      <td>12816</td>\n",
              "      <td>0</td>\n",
              "      <td>102</td>\n",
              "      <td>0</td>\n",
              "      <td>358</td>\n",
              "      <td>12816</td>\n",
              "      <td>0</td>\n",
              "      <td>102</td>\n",
              "      <td>210</td>\n",
              "    </tr>\n",
              "  </tbody>\n",
              "</table>\n",
              "<p>2965 rows × 24 columns</p>\n",
              "</div>\n",
              "      <button class=\"colab-df-convert\" onclick=\"convertToInteractive('df-04cac2fa-0bb0-473c-9509-7a56949299a4')\"\n",
              "              title=\"Convert this dataframe to an interactive table.\"\n",
              "              style=\"display:none;\">\n",
              "        \n",
              "  <svg xmlns=\"http://www.w3.org/2000/svg\" height=\"24px\"viewBox=\"0 0 24 24\"\n",
              "       width=\"24px\">\n",
              "    <path d=\"M0 0h24v24H0V0z\" fill=\"none\"/>\n",
              "    <path d=\"M18.56 5.44l.94 2.06.94-2.06 2.06-.94-2.06-.94-.94-2.06-.94 2.06-2.06.94zm-11 1L8.5 8.5l.94-2.06 2.06-.94-2.06-.94L8.5 2.5l-.94 2.06-2.06.94zm10 10l.94 2.06.94-2.06 2.06-.94-2.06-.94-.94-2.06-.94 2.06-2.06.94z\"/><path d=\"M17.41 7.96l-1.37-1.37c-.4-.4-.92-.59-1.43-.59-.52 0-1.04.2-1.43.59L10.3 9.45l-7.72 7.72c-.78.78-.78 2.05 0 2.83L4 21.41c.39.39.9.59 1.41.59.51 0 1.02-.2 1.41-.59l7.78-7.78 2.81-2.81c.8-.78.8-2.07 0-2.86zM5.41 20L4 18.59l7.72-7.72 1.47 1.35L5.41 20z\"/>\n",
              "  </svg>\n",
              "      </button>\n",
              "      \n",
              "  <style>\n",
              "    .colab-df-container {\n",
              "      display:flex;\n",
              "      flex-wrap:wrap;\n",
              "      gap: 12px;\n",
              "    }\n",
              "\n",
              "    .colab-df-convert {\n",
              "      background-color: #E8F0FE;\n",
              "      border: none;\n",
              "      border-radius: 50%;\n",
              "      cursor: pointer;\n",
              "      display: none;\n",
              "      fill: #1967D2;\n",
              "      height: 32px;\n",
              "      padding: 0 0 0 0;\n",
              "      width: 32px;\n",
              "    }\n",
              "\n",
              "    .colab-df-convert:hover {\n",
              "      background-color: #E2EBFA;\n",
              "      box-shadow: 0px 1px 2px rgba(60, 64, 67, 0.3), 0px 1px 3px 1px rgba(60, 64, 67, 0.15);\n",
              "      fill: #174EA6;\n",
              "    }\n",
              "\n",
              "    [theme=dark] .colab-df-convert {\n",
              "      background-color: #3B4455;\n",
              "      fill: #D2E3FC;\n",
              "    }\n",
              "\n",
              "    [theme=dark] .colab-df-convert:hover {\n",
              "      background-color: #434B5C;\n",
              "      box-shadow: 0px 1px 3px 1px rgba(0, 0, 0, 0.15);\n",
              "      filter: drop-shadow(0px 1px 2px rgba(0, 0, 0, 0.3));\n",
              "      fill: #FFFFFF;\n",
              "    }\n",
              "  </style>\n",
              "\n",
              "      <script>\n",
              "        const buttonEl =\n",
              "          document.querySelector('#df-04cac2fa-0bb0-473c-9509-7a56949299a4 button.colab-df-convert');\n",
              "        buttonEl.style.display =\n",
              "          google.colab.kernel.accessAllowed ? 'block' : 'none';\n",
              "\n",
              "        async function convertToInteractive(key) {\n",
              "          const element = document.querySelector('#df-04cac2fa-0bb0-473c-9509-7a56949299a4');\n",
              "          const dataTable =\n",
              "            await google.colab.kernel.invokeFunction('convertToInteractive',\n",
              "                                                     [key], {});\n",
              "          if (!dataTable) return;\n",
              "\n",
              "          const docLinkHtml = 'Like what you see? Visit the ' +\n",
              "            '<a target=\"_blank\" href=https://colab.research.google.com/notebooks/data_table.ipynb>data table notebook</a>'\n",
              "            + ' to learn more about interactive tables.';\n",
              "          element.innerHTML = '';\n",
              "          dataTable['output_type'] = 'display_data';\n",
              "          await google.colab.output.renderOutput(dataTable, element);\n",
              "          const docLink = document.createElement('div');\n",
              "          docLink.innerHTML = docLinkHtml;\n",
              "          element.appendChild(docLink);\n",
              "        }\n",
              "      </script>\n",
              "    </div>\n",
              "  </div>\n",
              "  "
            ]
          },
          "metadata": {},
          "execution_count": 89
        }
      ],
      "source": [
        "#show dataset\n",
        "df"
      ]
    },
    {
      "cell_type": "markdown",
      "source": [
        "- data ini terdiri dari 2965 baris dan 24 kolom\n",
        "- Terdapat beberapa kolom yang mengindikasikan informasi tentang pengguna, seperti jenis kelamin (sex), tingkat pendidikan (education_level), status pernikahan (marital_status), dan usia (age)\n",
        "- Terdapat kolom default_payment_next_month yang merupakan target prediksi dari model, yaitu apakah pengguna akan mengalami gagal bayar pada bulan berikutnya atau tidak.\n",
        "- Terdapat juga kolom limit_balance yang menunjukkan batas kredit pengguna"
      ],
      "metadata": {
        "id": "kfG6UkDPMfp-"
      }
    },
    {
      "cell_type": "code",
      "execution_count": 90,
      "metadata": {
        "id": "kCvu0OPCwZml"
      },
      "outputs": [],
      "source": [
        "#menduplikat data agar tidak kehilangan data asli\n",
        "df_copy = df.copy()"
      ]
    },
    {
      "cell_type": "code",
      "execution_count": 91,
      "metadata": {
        "colab": {
          "base_uri": "https://localhost:8080/",
          "height": 456
        },
        "id": "2k3wWDw0whxV",
        "outputId": "c6414cd7-dbc1-48cf-ca80-ab6e70124197"
      },
      "outputs": [
        {
          "output_type": "execute_result",
          "data": {
            "text/plain": [
              "   sex  education_level  marital_status  pay_5  pay_6  \\\n",
              "0    1                1               1      0      0   \n",
              "1    1                1               1      0      0   \n",
              "2    2                1               1      0      0   \n",
              "3    2                1               2      0      0   \n",
              "4    2                1               1      0      0   \n",
              "5    2                1               2      0      0   \n",
              "6    2                1               2      0      0   \n",
              "7    2                1               1      0      2   \n",
              "8    1                2               1      0      0   \n",
              "9    1                2               2      0      0   \n",
              "\n",
              "   default_payment_next_month  limit_balance  age  pay_0  pay_2  ...  \\\n",
              "0                           0         460000   49      0      0  ...   \n",
              "1                           0         240000   53      0      0  ...   \n",
              "2                           0         110000   51      0      0  ...   \n",
              "3                           0         110000   23      0      0  ...   \n",
              "4                           0         320000   42      0      0  ...   \n",
              "5                           0          90000   33      0      0  ...   \n",
              "6                           0          20000   23      0      0  ...   \n",
              "7                           1         100000   44      0      0  ...   \n",
              "8                           0          20000   45      0      0  ...   \n",
              "9                           0          50000   34      0     -1  ...   \n",
              "\n",
              "   bill_amt_3  bill_amt_4  bill_amt_5  bill_amt_6  pay_amt_1  pay_amt_2  \\\n",
              "0      295807      291616      289529      289449      13200      14000   \n",
              "1      133385      136654      136639      123951       9700       5000   \n",
              "2       92724       94573       65034       66241       3771       3656   \n",
              "3       76460       60136       41872       38158       3400       4000   \n",
              "4      103278       62891       64948       66961       9000       6000   \n",
              "5       59753       61755       63629       54423       2100       4000   \n",
              "6       17146       16319       15687       16948       2000       2080   \n",
              "7       73525       75303       79994       78550       5000       3000   \n",
              "8       16749       17538       13840        7370       1896       1417   \n",
              "9       49805       27605       29447       30045      91000       1200   \n",
              "\n",
              "   pay_amt_3  pay_amt_4  pay_amt_5  pay_amt_6  \n",
              "0      11500      10500      10500      10000  \n",
              "1       5500       5500       5000       5000  \n",
              "2       3687       2476       2406       2427  \n",
              "3       2951       1600       1540       1400  \n",
              "4       3000       3000       3000       3000  \n",
              "5       3000       3000       2323       2000  \n",
              "6       2000        600       1500       1000  \n",
              "7       3000       5900          0       5000  \n",
              "8       1206        284        147       4937  \n",
              "9        600      29057       1076       1300  \n",
              "\n",
              "[10 rows x 24 columns]"
            ],
            "text/html": [
              "\n",
              "  <div id=\"df-9e51335f-1235-418c-8437-00f582e7a0ec\">\n",
              "    <div class=\"colab-df-container\">\n",
              "      <div>\n",
              "<style scoped>\n",
              "    .dataframe tbody tr th:only-of-type {\n",
              "        vertical-align: middle;\n",
              "    }\n",
              "\n",
              "    .dataframe tbody tr th {\n",
              "        vertical-align: top;\n",
              "    }\n",
              "\n",
              "    .dataframe thead th {\n",
              "        text-align: right;\n",
              "    }\n",
              "</style>\n",
              "<table border=\"1\" class=\"dataframe\">\n",
              "  <thead>\n",
              "    <tr style=\"text-align: right;\">\n",
              "      <th></th>\n",
              "      <th>sex</th>\n",
              "      <th>education_level</th>\n",
              "      <th>marital_status</th>\n",
              "      <th>pay_5</th>\n",
              "      <th>pay_6</th>\n",
              "      <th>default_payment_next_month</th>\n",
              "      <th>limit_balance</th>\n",
              "      <th>age</th>\n",
              "      <th>pay_0</th>\n",
              "      <th>pay_2</th>\n",
              "      <th>...</th>\n",
              "      <th>bill_amt_3</th>\n",
              "      <th>bill_amt_4</th>\n",
              "      <th>bill_amt_5</th>\n",
              "      <th>bill_amt_6</th>\n",
              "      <th>pay_amt_1</th>\n",
              "      <th>pay_amt_2</th>\n",
              "      <th>pay_amt_3</th>\n",
              "      <th>pay_amt_4</th>\n",
              "      <th>pay_amt_5</th>\n",
              "      <th>pay_amt_6</th>\n",
              "    </tr>\n",
              "  </thead>\n",
              "  <tbody>\n",
              "    <tr>\n",
              "      <th>0</th>\n",
              "      <td>1</td>\n",
              "      <td>1</td>\n",
              "      <td>1</td>\n",
              "      <td>0</td>\n",
              "      <td>0</td>\n",
              "      <td>0</td>\n",
              "      <td>460000</td>\n",
              "      <td>49</td>\n",
              "      <td>0</td>\n",
              "      <td>0</td>\n",
              "      <td>...</td>\n",
              "      <td>295807</td>\n",
              "      <td>291616</td>\n",
              "      <td>289529</td>\n",
              "      <td>289449</td>\n",
              "      <td>13200</td>\n",
              "      <td>14000</td>\n",
              "      <td>11500</td>\n",
              "      <td>10500</td>\n",
              "      <td>10500</td>\n",
              "      <td>10000</td>\n",
              "    </tr>\n",
              "    <tr>\n",
              "      <th>1</th>\n",
              "      <td>1</td>\n",
              "      <td>1</td>\n",
              "      <td>1</td>\n",
              "      <td>0</td>\n",
              "      <td>0</td>\n",
              "      <td>0</td>\n",
              "      <td>240000</td>\n",
              "      <td>53</td>\n",
              "      <td>0</td>\n",
              "      <td>0</td>\n",
              "      <td>...</td>\n",
              "      <td>133385</td>\n",
              "      <td>136654</td>\n",
              "      <td>136639</td>\n",
              "      <td>123951</td>\n",
              "      <td>9700</td>\n",
              "      <td>5000</td>\n",
              "      <td>5500</td>\n",
              "      <td>5500</td>\n",
              "      <td>5000</td>\n",
              "      <td>5000</td>\n",
              "    </tr>\n",
              "    <tr>\n",
              "      <th>2</th>\n",
              "      <td>2</td>\n",
              "      <td>1</td>\n",
              "      <td>1</td>\n",
              "      <td>0</td>\n",
              "      <td>0</td>\n",
              "      <td>0</td>\n",
              "      <td>110000</td>\n",
              "      <td>51</td>\n",
              "      <td>0</td>\n",
              "      <td>0</td>\n",
              "      <td>...</td>\n",
              "      <td>92724</td>\n",
              "      <td>94573</td>\n",
              "      <td>65034</td>\n",
              "      <td>66241</td>\n",
              "      <td>3771</td>\n",
              "      <td>3656</td>\n",
              "      <td>3687</td>\n",
              "      <td>2476</td>\n",
              "      <td>2406</td>\n",
              "      <td>2427</td>\n",
              "    </tr>\n",
              "    <tr>\n",
              "      <th>3</th>\n",
              "      <td>2</td>\n",
              "      <td>1</td>\n",
              "      <td>2</td>\n",
              "      <td>0</td>\n",
              "      <td>0</td>\n",
              "      <td>0</td>\n",
              "      <td>110000</td>\n",
              "      <td>23</td>\n",
              "      <td>0</td>\n",
              "      <td>0</td>\n",
              "      <td>...</td>\n",
              "      <td>76460</td>\n",
              "      <td>60136</td>\n",
              "      <td>41872</td>\n",
              "      <td>38158</td>\n",
              "      <td>3400</td>\n",
              "      <td>4000</td>\n",
              "      <td>2951</td>\n",
              "      <td>1600</td>\n",
              "      <td>1540</td>\n",
              "      <td>1400</td>\n",
              "    </tr>\n",
              "    <tr>\n",
              "      <th>4</th>\n",
              "      <td>2</td>\n",
              "      <td>1</td>\n",
              "      <td>1</td>\n",
              "      <td>0</td>\n",
              "      <td>0</td>\n",
              "      <td>0</td>\n",
              "      <td>320000</td>\n",
              "      <td>42</td>\n",
              "      <td>0</td>\n",
              "      <td>0</td>\n",
              "      <td>...</td>\n",
              "      <td>103278</td>\n",
              "      <td>62891</td>\n",
              "      <td>64948</td>\n",
              "      <td>66961</td>\n",
              "      <td>9000</td>\n",
              "      <td>6000</td>\n",
              "      <td>3000</td>\n",
              "      <td>3000</td>\n",
              "      <td>3000</td>\n",
              "      <td>3000</td>\n",
              "    </tr>\n",
              "    <tr>\n",
              "      <th>5</th>\n",
              "      <td>2</td>\n",
              "      <td>1</td>\n",
              "      <td>2</td>\n",
              "      <td>0</td>\n",
              "      <td>0</td>\n",
              "      <td>0</td>\n",
              "      <td>90000</td>\n",
              "      <td>33</td>\n",
              "      <td>0</td>\n",
              "      <td>0</td>\n",
              "      <td>...</td>\n",
              "      <td>59753</td>\n",
              "      <td>61755</td>\n",
              "      <td>63629</td>\n",
              "      <td>54423</td>\n",
              "      <td>2100</td>\n",
              "      <td>4000</td>\n",
              "      <td>3000</td>\n",
              "      <td>3000</td>\n",
              "      <td>2323</td>\n",
              "      <td>2000</td>\n",
              "    </tr>\n",
              "    <tr>\n",
              "      <th>6</th>\n",
              "      <td>2</td>\n",
              "      <td>1</td>\n",
              "      <td>2</td>\n",
              "      <td>0</td>\n",
              "      <td>0</td>\n",
              "      <td>0</td>\n",
              "      <td>20000</td>\n",
              "      <td>23</td>\n",
              "      <td>0</td>\n",
              "      <td>0</td>\n",
              "      <td>...</td>\n",
              "      <td>17146</td>\n",
              "      <td>16319</td>\n",
              "      <td>15687</td>\n",
              "      <td>16948</td>\n",
              "      <td>2000</td>\n",
              "      <td>2080</td>\n",
              "      <td>2000</td>\n",
              "      <td>600</td>\n",
              "      <td>1500</td>\n",
              "      <td>1000</td>\n",
              "    </tr>\n",
              "    <tr>\n",
              "      <th>7</th>\n",
              "      <td>2</td>\n",
              "      <td>1</td>\n",
              "      <td>1</td>\n",
              "      <td>0</td>\n",
              "      <td>2</td>\n",
              "      <td>1</td>\n",
              "      <td>100000</td>\n",
              "      <td>44</td>\n",
              "      <td>0</td>\n",
              "      <td>0</td>\n",
              "      <td>...</td>\n",
              "      <td>73525</td>\n",
              "      <td>75303</td>\n",
              "      <td>79994</td>\n",
              "      <td>78550</td>\n",
              "      <td>5000</td>\n",
              "      <td>3000</td>\n",
              "      <td>3000</td>\n",
              "      <td>5900</td>\n",
              "      <td>0</td>\n",
              "      <td>5000</td>\n",
              "    </tr>\n",
              "    <tr>\n",
              "      <th>8</th>\n",
              "      <td>1</td>\n",
              "      <td>2</td>\n",
              "      <td>1</td>\n",
              "      <td>0</td>\n",
              "      <td>0</td>\n",
              "      <td>0</td>\n",
              "      <td>20000</td>\n",
              "      <td>45</td>\n",
              "      <td>0</td>\n",
              "      <td>0</td>\n",
              "      <td>...</td>\n",
              "      <td>16749</td>\n",
              "      <td>17538</td>\n",
              "      <td>13840</td>\n",
              "      <td>7370</td>\n",
              "      <td>1896</td>\n",
              "      <td>1417</td>\n",
              "      <td>1206</td>\n",
              "      <td>284</td>\n",
              "      <td>147</td>\n",
              "      <td>4937</td>\n",
              "    </tr>\n",
              "    <tr>\n",
              "      <th>9</th>\n",
              "      <td>1</td>\n",
              "      <td>2</td>\n",
              "      <td>2</td>\n",
              "      <td>0</td>\n",
              "      <td>0</td>\n",
              "      <td>0</td>\n",
              "      <td>50000</td>\n",
              "      <td>34</td>\n",
              "      <td>0</td>\n",
              "      <td>-1</td>\n",
              "      <td>...</td>\n",
              "      <td>49805</td>\n",
              "      <td>27605</td>\n",
              "      <td>29447</td>\n",
              "      <td>30045</td>\n",
              "      <td>91000</td>\n",
              "      <td>1200</td>\n",
              "      <td>600</td>\n",
              "      <td>29057</td>\n",
              "      <td>1076</td>\n",
              "      <td>1300</td>\n",
              "    </tr>\n",
              "  </tbody>\n",
              "</table>\n",
              "<p>10 rows × 24 columns</p>\n",
              "</div>\n",
              "      <button class=\"colab-df-convert\" onclick=\"convertToInteractive('df-9e51335f-1235-418c-8437-00f582e7a0ec')\"\n",
              "              title=\"Convert this dataframe to an interactive table.\"\n",
              "              style=\"display:none;\">\n",
              "        \n",
              "  <svg xmlns=\"http://www.w3.org/2000/svg\" height=\"24px\"viewBox=\"0 0 24 24\"\n",
              "       width=\"24px\">\n",
              "    <path d=\"M0 0h24v24H0V0z\" fill=\"none\"/>\n",
              "    <path d=\"M18.56 5.44l.94 2.06.94-2.06 2.06-.94-2.06-.94-.94-2.06-.94 2.06-2.06.94zm-11 1L8.5 8.5l.94-2.06 2.06-.94-2.06-.94L8.5 2.5l-.94 2.06-2.06.94zm10 10l.94 2.06.94-2.06 2.06-.94-2.06-.94-.94-2.06-.94 2.06-2.06.94z\"/><path d=\"M17.41 7.96l-1.37-1.37c-.4-.4-.92-.59-1.43-.59-.52 0-1.04.2-1.43.59L10.3 9.45l-7.72 7.72c-.78.78-.78 2.05 0 2.83L4 21.41c.39.39.9.59 1.41.59.51 0 1.02-.2 1.41-.59l7.78-7.78 2.81-2.81c.8-.78.8-2.07 0-2.86zM5.41 20L4 18.59l7.72-7.72 1.47 1.35L5.41 20z\"/>\n",
              "  </svg>\n",
              "      </button>\n",
              "      \n",
              "  <style>\n",
              "    .colab-df-container {\n",
              "      display:flex;\n",
              "      flex-wrap:wrap;\n",
              "      gap: 12px;\n",
              "    }\n",
              "\n",
              "    .colab-df-convert {\n",
              "      background-color: #E8F0FE;\n",
              "      border: none;\n",
              "      border-radius: 50%;\n",
              "      cursor: pointer;\n",
              "      display: none;\n",
              "      fill: #1967D2;\n",
              "      height: 32px;\n",
              "      padding: 0 0 0 0;\n",
              "      width: 32px;\n",
              "    }\n",
              "\n",
              "    .colab-df-convert:hover {\n",
              "      background-color: #E2EBFA;\n",
              "      box-shadow: 0px 1px 2px rgba(60, 64, 67, 0.3), 0px 1px 3px 1px rgba(60, 64, 67, 0.15);\n",
              "      fill: #174EA6;\n",
              "    }\n",
              "\n",
              "    [theme=dark] .colab-df-convert {\n",
              "      background-color: #3B4455;\n",
              "      fill: #D2E3FC;\n",
              "    }\n",
              "\n",
              "    [theme=dark] .colab-df-convert:hover {\n",
              "      background-color: #434B5C;\n",
              "      box-shadow: 0px 1px 3px 1px rgba(0, 0, 0, 0.15);\n",
              "      filter: drop-shadow(0px 1px 2px rgba(0, 0, 0, 0.3));\n",
              "      fill: #FFFFFF;\n",
              "    }\n",
              "  </style>\n",
              "\n",
              "      <script>\n",
              "        const buttonEl =\n",
              "          document.querySelector('#df-9e51335f-1235-418c-8437-00f582e7a0ec button.colab-df-convert');\n",
              "        buttonEl.style.display =\n",
              "          google.colab.kernel.accessAllowed ? 'block' : 'none';\n",
              "\n",
              "        async function convertToInteractive(key) {\n",
              "          const element = document.querySelector('#df-9e51335f-1235-418c-8437-00f582e7a0ec');\n",
              "          const dataTable =\n",
              "            await google.colab.kernel.invokeFunction('convertToInteractive',\n",
              "                                                     [key], {});\n",
              "          if (!dataTable) return;\n",
              "\n",
              "          const docLinkHtml = 'Like what you see? Visit the ' +\n",
              "            '<a target=\"_blank\" href=https://colab.research.google.com/notebooks/data_table.ipynb>data table notebook</a>'\n",
              "            + ' to learn more about interactive tables.';\n",
              "          element.innerHTML = '';\n",
              "          dataTable['output_type'] = 'display_data';\n",
              "          await google.colab.output.renderOutput(dataTable, element);\n",
              "          const docLink = document.createElement('div');\n",
              "          docLink.innerHTML = docLinkHtml;\n",
              "          element.appendChild(docLink);\n",
              "        }\n",
              "      </script>\n",
              "    </div>\n",
              "  </div>\n",
              "  "
            ]
          },
          "metadata": {},
          "execution_count": 91
        }
      ],
      "source": [
        "#melihat 10 data teratas\n",
        "df.head(10)"
      ]
    },
    {
      "cell_type": "markdown",
      "source": [
        "Data ini menunjukkan informasi mengenai data awal yang terdiri dari 10 baris dan 24 kolom"
      ],
      "metadata": {
        "id": "-YnJJFrkPUGZ"
      }
    },
    {
      "cell_type": "code",
      "execution_count": 92,
      "metadata": {
        "colab": {
          "base_uri": "https://localhost:8080/",
          "height": 456
        },
        "id": "CGqUzXGxwnQg",
        "outputId": "5ba2a9b9-4b8d-45c0-b484-550fcf2328d6"
      },
      "outputs": [
        {
          "output_type": "execute_result",
          "data": {
            "text/plain": [
              "      sex  education_level  marital_status  pay_5  pay_6  \\\n",
              "2955    1                3               2     -1     -1   \n",
              "2956    2                2               1     -1     -1   \n",
              "2957    1                3               1     -1      0   \n",
              "2958    1                3               2     -1     -1   \n",
              "2959    2                2               1     -1     -1   \n",
              "2960    1                1               1     -1     -1   \n",
              "2961    2                1               1     -1     -1   \n",
              "2962    2                1               2     -1     -1   \n",
              "2963    2                2               2     -1     -1   \n",
              "2964    2                2               1     -1     -1   \n",
              "\n",
              "      default_payment_next_month  limit_balance  age  pay_0  pay_2  ...  \\\n",
              "2955                           0          20000   23     -1      2  ...   \n",
              "2956                           1         160000   36     -1     -1  ...   \n",
              "2957                           0         300000   45     -1     -1  ...   \n",
              "2958                           0         350000   36     -1     -1  ...   \n",
              "2959                           0         200000   34     -1     -1  ...   \n",
              "2960                           0         390000   46     -1     -1  ...   \n",
              "2961                           0         350000   55     -1     -1  ...   \n",
              "2962                           0         460000   34     -1     -1  ...   \n",
              "2963                           0         160000   29     -1     -1  ...   \n",
              "2964                           0         210000   48     -1     -1  ...   \n",
              "\n",
              "      bill_amt_3  bill_amt_4  bill_amt_5  bill_amt_6  pay_amt_1  pay_amt_2  \\\n",
              "2955         380         390           0         780          0        380   \n",
              "2956        6109        2500        2689           0       2242       6745   \n",
              "2957         780         390         780         780        390        780   \n",
              "2958       12622       18103       13547       38868       6088      12635   \n",
              "2959         390         561         390         390        390        390   \n",
              "2960       53796        6009        9096        3267      94921      53796   \n",
              "2961        1630        7461        4124        1261       1935       1630   \n",
              "2962       21494       12657        5739       10184       8869      23664   \n",
              "2963        1086        1874        2920           0       2108       1086   \n",
              "2964         355       12816           0         102          0        358   \n",
              "\n",
              "      pay_amt_3  pay_amt_4  pay_amt_5  pay_amt_6  \n",
              "2955        400          0        780          0  \n",
              "2956       2500       2689          0          0  \n",
              "2957          0        780          0          0  \n",
              "2958      18119      13547      38868       4650  \n",
              "2959        561        390        390        390  \n",
              "2960       6009       9096       3267       2901  \n",
              "2961       7461       4124       1261       2798  \n",
              "2962      12659       5752      10192       7419  \n",
              "2963       1874       2920          0       1222  \n",
              "2964      12816          0        102        210  \n",
              "\n",
              "[10 rows x 24 columns]"
            ],
            "text/html": [
              "\n",
              "  <div id=\"df-b9c88f46-f0a4-49c0-a760-54610bf7cb6f\">\n",
              "    <div class=\"colab-df-container\">\n",
              "      <div>\n",
              "<style scoped>\n",
              "    .dataframe tbody tr th:only-of-type {\n",
              "        vertical-align: middle;\n",
              "    }\n",
              "\n",
              "    .dataframe tbody tr th {\n",
              "        vertical-align: top;\n",
              "    }\n",
              "\n",
              "    .dataframe thead th {\n",
              "        text-align: right;\n",
              "    }\n",
              "</style>\n",
              "<table border=\"1\" class=\"dataframe\">\n",
              "  <thead>\n",
              "    <tr style=\"text-align: right;\">\n",
              "      <th></th>\n",
              "      <th>sex</th>\n",
              "      <th>education_level</th>\n",
              "      <th>marital_status</th>\n",
              "      <th>pay_5</th>\n",
              "      <th>pay_6</th>\n",
              "      <th>default_payment_next_month</th>\n",
              "      <th>limit_balance</th>\n",
              "      <th>age</th>\n",
              "      <th>pay_0</th>\n",
              "      <th>pay_2</th>\n",
              "      <th>...</th>\n",
              "      <th>bill_amt_3</th>\n",
              "      <th>bill_amt_4</th>\n",
              "      <th>bill_amt_5</th>\n",
              "      <th>bill_amt_6</th>\n",
              "      <th>pay_amt_1</th>\n",
              "      <th>pay_amt_2</th>\n",
              "      <th>pay_amt_3</th>\n",
              "      <th>pay_amt_4</th>\n",
              "      <th>pay_amt_5</th>\n",
              "      <th>pay_amt_6</th>\n",
              "    </tr>\n",
              "  </thead>\n",
              "  <tbody>\n",
              "    <tr>\n",
              "      <th>2955</th>\n",
              "      <td>1</td>\n",
              "      <td>3</td>\n",
              "      <td>2</td>\n",
              "      <td>-1</td>\n",
              "      <td>-1</td>\n",
              "      <td>0</td>\n",
              "      <td>20000</td>\n",
              "      <td>23</td>\n",
              "      <td>-1</td>\n",
              "      <td>2</td>\n",
              "      <td>...</td>\n",
              "      <td>380</td>\n",
              "      <td>390</td>\n",
              "      <td>0</td>\n",
              "      <td>780</td>\n",
              "      <td>0</td>\n",
              "      <td>380</td>\n",
              "      <td>400</td>\n",
              "      <td>0</td>\n",
              "      <td>780</td>\n",
              "      <td>0</td>\n",
              "    </tr>\n",
              "    <tr>\n",
              "      <th>2956</th>\n",
              "      <td>2</td>\n",
              "      <td>2</td>\n",
              "      <td>1</td>\n",
              "      <td>-1</td>\n",
              "      <td>-1</td>\n",
              "      <td>1</td>\n",
              "      <td>160000</td>\n",
              "      <td>36</td>\n",
              "      <td>-1</td>\n",
              "      <td>-1</td>\n",
              "      <td>...</td>\n",
              "      <td>6109</td>\n",
              "      <td>2500</td>\n",
              "      <td>2689</td>\n",
              "      <td>0</td>\n",
              "      <td>2242</td>\n",
              "      <td>6745</td>\n",
              "      <td>2500</td>\n",
              "      <td>2689</td>\n",
              "      <td>0</td>\n",
              "      <td>0</td>\n",
              "    </tr>\n",
              "    <tr>\n",
              "      <th>2957</th>\n",
              "      <td>1</td>\n",
              "      <td>3</td>\n",
              "      <td>1</td>\n",
              "      <td>-1</td>\n",
              "      <td>0</td>\n",
              "      <td>0</td>\n",
              "      <td>300000</td>\n",
              "      <td>45</td>\n",
              "      <td>-1</td>\n",
              "      <td>-1</td>\n",
              "      <td>...</td>\n",
              "      <td>780</td>\n",
              "      <td>390</td>\n",
              "      <td>780</td>\n",
              "      <td>780</td>\n",
              "      <td>390</td>\n",
              "      <td>780</td>\n",
              "      <td>0</td>\n",
              "      <td>780</td>\n",
              "      <td>0</td>\n",
              "      <td>0</td>\n",
              "    </tr>\n",
              "    <tr>\n",
              "      <th>2958</th>\n",
              "      <td>1</td>\n",
              "      <td>3</td>\n",
              "      <td>2</td>\n",
              "      <td>-1</td>\n",
              "      <td>-1</td>\n",
              "      <td>0</td>\n",
              "      <td>350000</td>\n",
              "      <td>36</td>\n",
              "      <td>-1</td>\n",
              "      <td>-1</td>\n",
              "      <td>...</td>\n",
              "      <td>12622</td>\n",
              "      <td>18103</td>\n",
              "      <td>13547</td>\n",
              "      <td>38868</td>\n",
              "      <td>6088</td>\n",
              "      <td>12635</td>\n",
              "      <td>18119</td>\n",
              "      <td>13547</td>\n",
              "      <td>38868</td>\n",
              "      <td>4650</td>\n",
              "    </tr>\n",
              "    <tr>\n",
              "      <th>2959</th>\n",
              "      <td>2</td>\n",
              "      <td>2</td>\n",
              "      <td>1</td>\n",
              "      <td>-1</td>\n",
              "      <td>-1</td>\n",
              "      <td>0</td>\n",
              "      <td>200000</td>\n",
              "      <td>34</td>\n",
              "      <td>-1</td>\n",
              "      <td>-1</td>\n",
              "      <td>...</td>\n",
              "      <td>390</td>\n",
              "      <td>561</td>\n",
              "      <td>390</td>\n",
              "      <td>390</td>\n",
              "      <td>390</td>\n",
              "      <td>390</td>\n",
              "      <td>561</td>\n",
              "      <td>390</td>\n",
              "      <td>390</td>\n",
              "      <td>390</td>\n",
              "    </tr>\n",
              "    <tr>\n",
              "      <th>2960</th>\n",
              "      <td>1</td>\n",
              "      <td>1</td>\n",
              "      <td>1</td>\n",
              "      <td>-1</td>\n",
              "      <td>-1</td>\n",
              "      <td>0</td>\n",
              "      <td>390000</td>\n",
              "      <td>46</td>\n",
              "      <td>-1</td>\n",
              "      <td>-1</td>\n",
              "      <td>...</td>\n",
              "      <td>53796</td>\n",
              "      <td>6009</td>\n",
              "      <td>9096</td>\n",
              "      <td>3267</td>\n",
              "      <td>94921</td>\n",
              "      <td>53796</td>\n",
              "      <td>6009</td>\n",
              "      <td>9096</td>\n",
              "      <td>3267</td>\n",
              "      <td>2901</td>\n",
              "    </tr>\n",
              "    <tr>\n",
              "      <th>2961</th>\n",
              "      <td>2</td>\n",
              "      <td>1</td>\n",
              "      <td>1</td>\n",
              "      <td>-1</td>\n",
              "      <td>-1</td>\n",
              "      <td>0</td>\n",
              "      <td>350000</td>\n",
              "      <td>55</td>\n",
              "      <td>-1</td>\n",
              "      <td>-1</td>\n",
              "      <td>...</td>\n",
              "      <td>1630</td>\n",
              "      <td>7461</td>\n",
              "      <td>4124</td>\n",
              "      <td>1261</td>\n",
              "      <td>1935</td>\n",
              "      <td>1630</td>\n",
              "      <td>7461</td>\n",
              "      <td>4124</td>\n",
              "      <td>1261</td>\n",
              "      <td>2798</td>\n",
              "    </tr>\n",
              "    <tr>\n",
              "      <th>2962</th>\n",
              "      <td>2</td>\n",
              "      <td>1</td>\n",
              "      <td>2</td>\n",
              "      <td>-1</td>\n",
              "      <td>-1</td>\n",
              "      <td>0</td>\n",
              "      <td>460000</td>\n",
              "      <td>34</td>\n",
              "      <td>-1</td>\n",
              "      <td>-1</td>\n",
              "      <td>...</td>\n",
              "      <td>21494</td>\n",
              "      <td>12657</td>\n",
              "      <td>5739</td>\n",
              "      <td>10184</td>\n",
              "      <td>8869</td>\n",
              "      <td>23664</td>\n",
              "      <td>12659</td>\n",
              "      <td>5752</td>\n",
              "      <td>10192</td>\n",
              "      <td>7419</td>\n",
              "    </tr>\n",
              "    <tr>\n",
              "      <th>2963</th>\n",
              "      <td>2</td>\n",
              "      <td>2</td>\n",
              "      <td>2</td>\n",
              "      <td>-1</td>\n",
              "      <td>-1</td>\n",
              "      <td>0</td>\n",
              "      <td>160000</td>\n",
              "      <td>29</td>\n",
              "      <td>-1</td>\n",
              "      <td>-1</td>\n",
              "      <td>...</td>\n",
              "      <td>1086</td>\n",
              "      <td>1874</td>\n",
              "      <td>2920</td>\n",
              "      <td>0</td>\n",
              "      <td>2108</td>\n",
              "      <td>1086</td>\n",
              "      <td>1874</td>\n",
              "      <td>2920</td>\n",
              "      <td>0</td>\n",
              "      <td>1222</td>\n",
              "    </tr>\n",
              "    <tr>\n",
              "      <th>2964</th>\n",
              "      <td>2</td>\n",
              "      <td>2</td>\n",
              "      <td>1</td>\n",
              "      <td>-1</td>\n",
              "      <td>-1</td>\n",
              "      <td>0</td>\n",
              "      <td>210000</td>\n",
              "      <td>48</td>\n",
              "      <td>-1</td>\n",
              "      <td>-1</td>\n",
              "      <td>...</td>\n",
              "      <td>355</td>\n",
              "      <td>12816</td>\n",
              "      <td>0</td>\n",
              "      <td>102</td>\n",
              "      <td>0</td>\n",
              "      <td>358</td>\n",
              "      <td>12816</td>\n",
              "      <td>0</td>\n",
              "      <td>102</td>\n",
              "      <td>210</td>\n",
              "    </tr>\n",
              "  </tbody>\n",
              "</table>\n",
              "<p>10 rows × 24 columns</p>\n",
              "</div>\n",
              "      <button class=\"colab-df-convert\" onclick=\"convertToInteractive('df-b9c88f46-f0a4-49c0-a760-54610bf7cb6f')\"\n",
              "              title=\"Convert this dataframe to an interactive table.\"\n",
              "              style=\"display:none;\">\n",
              "        \n",
              "  <svg xmlns=\"http://www.w3.org/2000/svg\" height=\"24px\"viewBox=\"0 0 24 24\"\n",
              "       width=\"24px\">\n",
              "    <path d=\"M0 0h24v24H0V0z\" fill=\"none\"/>\n",
              "    <path d=\"M18.56 5.44l.94 2.06.94-2.06 2.06-.94-2.06-.94-.94-2.06-.94 2.06-2.06.94zm-11 1L8.5 8.5l.94-2.06 2.06-.94-2.06-.94L8.5 2.5l-.94 2.06-2.06.94zm10 10l.94 2.06.94-2.06 2.06-.94-2.06-.94-.94-2.06-.94 2.06-2.06.94z\"/><path d=\"M17.41 7.96l-1.37-1.37c-.4-.4-.92-.59-1.43-.59-.52 0-1.04.2-1.43.59L10.3 9.45l-7.72 7.72c-.78.78-.78 2.05 0 2.83L4 21.41c.39.39.9.59 1.41.59.51 0 1.02-.2 1.41-.59l7.78-7.78 2.81-2.81c.8-.78.8-2.07 0-2.86zM5.41 20L4 18.59l7.72-7.72 1.47 1.35L5.41 20z\"/>\n",
              "  </svg>\n",
              "      </button>\n",
              "      \n",
              "  <style>\n",
              "    .colab-df-container {\n",
              "      display:flex;\n",
              "      flex-wrap:wrap;\n",
              "      gap: 12px;\n",
              "    }\n",
              "\n",
              "    .colab-df-convert {\n",
              "      background-color: #E8F0FE;\n",
              "      border: none;\n",
              "      border-radius: 50%;\n",
              "      cursor: pointer;\n",
              "      display: none;\n",
              "      fill: #1967D2;\n",
              "      height: 32px;\n",
              "      padding: 0 0 0 0;\n",
              "      width: 32px;\n",
              "    }\n",
              "\n",
              "    .colab-df-convert:hover {\n",
              "      background-color: #E2EBFA;\n",
              "      box-shadow: 0px 1px 2px rgba(60, 64, 67, 0.3), 0px 1px 3px 1px rgba(60, 64, 67, 0.15);\n",
              "      fill: #174EA6;\n",
              "    }\n",
              "\n",
              "    [theme=dark] .colab-df-convert {\n",
              "      background-color: #3B4455;\n",
              "      fill: #D2E3FC;\n",
              "    }\n",
              "\n",
              "    [theme=dark] .colab-df-convert:hover {\n",
              "      background-color: #434B5C;\n",
              "      box-shadow: 0px 1px 3px 1px rgba(0, 0, 0, 0.15);\n",
              "      filter: drop-shadow(0px 1px 2px rgba(0, 0, 0, 0.3));\n",
              "      fill: #FFFFFF;\n",
              "    }\n",
              "  </style>\n",
              "\n",
              "      <script>\n",
              "        const buttonEl =\n",
              "          document.querySelector('#df-b9c88f46-f0a4-49c0-a760-54610bf7cb6f button.colab-df-convert');\n",
              "        buttonEl.style.display =\n",
              "          google.colab.kernel.accessAllowed ? 'block' : 'none';\n",
              "\n",
              "        async function convertToInteractive(key) {\n",
              "          const element = document.querySelector('#df-b9c88f46-f0a4-49c0-a760-54610bf7cb6f');\n",
              "          const dataTable =\n",
              "            await google.colab.kernel.invokeFunction('convertToInteractive',\n",
              "                                                     [key], {});\n",
              "          if (!dataTable) return;\n",
              "\n",
              "          const docLinkHtml = 'Like what you see? Visit the ' +\n",
              "            '<a target=\"_blank\" href=https://colab.research.google.com/notebooks/data_table.ipynb>data table notebook</a>'\n",
              "            + ' to learn more about interactive tables.';\n",
              "          element.innerHTML = '';\n",
              "          dataTable['output_type'] = 'display_data';\n",
              "          await google.colab.output.renderOutput(dataTable, element);\n",
              "          const docLink = document.createElement('div');\n",
              "          docLink.innerHTML = docLinkHtml;\n",
              "          element.appendChild(docLink);\n",
              "        }\n",
              "      </script>\n",
              "    </div>\n",
              "  </div>\n",
              "  "
            ]
          },
          "metadata": {},
          "execution_count": 92
        }
      ],
      "source": [
        "#melihat 10 data terbawah\n",
        "df.tail(10)"
      ]
    },
    {
      "cell_type": "markdown",
      "source": [
        "Data ini menunjukkan informasi mengenai data akhir yang terdiri dari 10 baris dan 24 kolom"
      ],
      "metadata": {
        "id": "4l1uOslCPie-"
      }
    },
    {
      "cell_type": "code",
      "execution_count": 93,
      "metadata": {
        "colab": {
          "base_uri": "https://localhost:8080/"
        },
        "id": "6v6EHCifwp7u",
        "outputId": "0b63eb16-f031-487e-9111-0d7fed87d5ec"
      },
      "outputs": [
        {
          "output_type": "stream",
          "name": "stdout",
          "text": [
            "<class 'pandas.core.frame.DataFrame'>\n",
            "RangeIndex: 2965 entries, 0 to 2964\n",
            "Data columns (total 24 columns):\n",
            " #   Column                      Non-Null Count  Dtype\n",
            "---  ------                      --------------  -----\n",
            " 0   sex                         2965 non-null   int64\n",
            " 1   education_level             2965 non-null   int64\n",
            " 2   marital_status              2965 non-null   int64\n",
            " 3   pay_5                       2965 non-null   int64\n",
            " 4   pay_6                       2965 non-null   int64\n",
            " 5   default_payment_next_month  2965 non-null   int64\n",
            " 6   limit_balance               2965 non-null   int64\n",
            " 7   age                         2965 non-null   int64\n",
            " 8   pay_0                       2965 non-null   int64\n",
            " 9   pay_2                       2965 non-null   int64\n",
            " 10  pay_3                       2965 non-null   int64\n",
            " 11  pay_4                       2965 non-null   int64\n",
            " 12  bill_amt_1                  2965 non-null   int64\n",
            " 13  bill_amt_2                  2965 non-null   int64\n",
            " 14  bill_amt_3                  2965 non-null   int64\n",
            " 15  bill_amt_4                  2965 non-null   int64\n",
            " 16  bill_amt_5                  2965 non-null   int64\n",
            " 17  bill_amt_6                  2965 non-null   int64\n",
            " 18  pay_amt_1                   2965 non-null   int64\n",
            " 19  pay_amt_2                   2965 non-null   int64\n",
            " 20  pay_amt_3                   2965 non-null   int64\n",
            " 21  pay_amt_4                   2965 non-null   int64\n",
            " 22  pay_amt_5                   2965 non-null   int64\n",
            " 23  pay_amt_6                   2965 non-null   int64\n",
            "dtypes: int64(24)\n",
            "memory usage: 556.1 KB\n"
          ]
        }
      ],
      "source": [
        "#melihat tipe data dataset\n",
        "df.info()"
      ]
    },
    {
      "cell_type": "markdown",
      "metadata": {
        "id": "3Edk1POSxB6j"
      },
      "source": [
        "- Terdapat 2965 data dengan 24 kolom\n",
        "- semua data bertipe data interger\n",
        "- semua data sudah dalam bentuk numerik, sehingga tidak perlu di encoder"
      ]
    },
    {
      "cell_type": "code",
      "execution_count": 94,
      "metadata": {
        "colab": {
          "base_uri": "https://localhost:8080/",
          "height": 394
        },
        "id": "36zacY-Vwk57",
        "outputId": "f34e4d09-6322-453b-e1da-b2038be1f0fe"
      },
      "outputs": [
        {
          "output_type": "execute_result",
          "data": {
            "text/plain": [
              "               sex  education_level  marital_status        pay_5        pay_6  \\\n",
              "count  2965.000000      2965.000000     2965.000000  2965.000000  2965.000000   \n",
              "mean      1.607757         1.849578        1.559865    -0.225295    -0.254637   \n",
              "std       0.488333         0.778184        0.522317     1.159003     1.167305   \n",
              "min       1.000000         0.000000        0.000000    -2.000000    -2.000000   \n",
              "25%       1.000000         1.000000        1.000000    -1.000000    -1.000000   \n",
              "50%       2.000000         2.000000        2.000000     0.000000     0.000000   \n",
              "75%       2.000000         2.000000        2.000000     0.000000     0.000000   \n",
              "max       2.000000         6.000000        3.000000     7.000000     7.000000   \n",
              "\n",
              "       default_payment_next_month  limit_balance          age        pay_0  \\\n",
              "count                 2965.000000    2965.000000  2965.000000  2965.000000   \n",
              "mean                     0.214165  163369.308600    35.193255     0.005059   \n",
              "std                      0.410311  125030.415472     9.109439     1.114395   \n",
              "min                      0.000000   10000.000000    21.000000    -2.000000   \n",
              "25%                      0.000000   50000.000000    28.000000    -1.000000   \n",
              "50%                      0.000000  140000.000000    34.000000     0.000000   \n",
              "75%                      0.000000  230000.000000    41.000000     0.000000   \n",
              "max                      1.000000  800000.000000    69.000000     8.000000   \n",
              "\n",
              "             pay_2  ...     bill_amt_3     bill_amt_4     bill_amt_5  \\\n",
              "count  2965.000000  ...    2965.000000    2965.000000    2965.000000   \n",
              "mean     -0.122428  ...   48239.757504   44089.683305   40956.080607   \n",
              "std       1.180784  ...   68145.710745   61907.454056   58271.904751   \n",
              "min      -2.000000  ...  -25443.000000  -46627.000000  -46627.000000   \n",
              "25%      -1.000000  ...    3302.000000    2582.000000    1958.000000   \n",
              "50%       0.000000  ...   21520.000000   19894.000000   18814.000000   \n",
              "75%       0.000000  ...   63023.000000   58622.000000   53373.000000   \n",
              "max       7.000000  ...  578971.000000  488808.000000  441981.000000   \n",
              "\n",
              "          bill_amt_6      pay_amt_1     pay_amt_2      pay_amt_3  \\\n",
              "count    2965.000000    2965.000000  2.965000e+03    2965.000000   \n",
              "mean    39773.072513    6348.902867  6.272494e+03    5150.497133   \n",
              "std     57303.488981   20885.735336  2.887967e+04   14287.079982   \n",
              "min    -73895.000000       0.000000  0.000000e+00       0.000000   \n",
              "25%      1430.000000    1013.000000  9.900000e+02     477.000000   \n",
              "50%     18508.000000    2234.000000  2.175000e+03    1994.000000   \n",
              "75%     52287.000000    5087.000000  5.000000e+03    4500.000000   \n",
              "max    436172.000000  493358.000000  1.227082e+06  199209.000000   \n",
              "\n",
              "           pay_amt_4      pay_amt_5      pay_amt_6  \n",
              "count    2965.000000    2965.000000    2965.000000  \n",
              "mean     4561.376054    4913.286678    5382.701518  \n",
              "std     13281.499599   16734.340778   17275.953029  \n",
              "min         0.000000       0.000000       0.000000  \n",
              "25%       313.000000     323.000000     173.000000  \n",
              "50%      1600.000000    1646.000000    1615.000000  \n",
              "75%      4000.000000    4021.000000    4081.000000  \n",
              "max    202076.000000  388071.000000  403500.000000  \n",
              "\n",
              "[8 rows x 24 columns]"
            ],
            "text/html": [
              "\n",
              "  <div id=\"df-671782ad-4f4c-4faf-9fcd-de8b615122de\">\n",
              "    <div class=\"colab-df-container\">\n",
              "      <div>\n",
              "<style scoped>\n",
              "    .dataframe tbody tr th:only-of-type {\n",
              "        vertical-align: middle;\n",
              "    }\n",
              "\n",
              "    .dataframe tbody tr th {\n",
              "        vertical-align: top;\n",
              "    }\n",
              "\n",
              "    .dataframe thead th {\n",
              "        text-align: right;\n",
              "    }\n",
              "</style>\n",
              "<table border=\"1\" class=\"dataframe\">\n",
              "  <thead>\n",
              "    <tr style=\"text-align: right;\">\n",
              "      <th></th>\n",
              "      <th>sex</th>\n",
              "      <th>education_level</th>\n",
              "      <th>marital_status</th>\n",
              "      <th>pay_5</th>\n",
              "      <th>pay_6</th>\n",
              "      <th>default_payment_next_month</th>\n",
              "      <th>limit_balance</th>\n",
              "      <th>age</th>\n",
              "      <th>pay_0</th>\n",
              "      <th>pay_2</th>\n",
              "      <th>...</th>\n",
              "      <th>bill_amt_3</th>\n",
              "      <th>bill_amt_4</th>\n",
              "      <th>bill_amt_5</th>\n",
              "      <th>bill_amt_6</th>\n",
              "      <th>pay_amt_1</th>\n",
              "      <th>pay_amt_2</th>\n",
              "      <th>pay_amt_3</th>\n",
              "      <th>pay_amt_4</th>\n",
              "      <th>pay_amt_5</th>\n",
              "      <th>pay_amt_6</th>\n",
              "    </tr>\n",
              "  </thead>\n",
              "  <tbody>\n",
              "    <tr>\n",
              "      <th>count</th>\n",
              "      <td>2965.000000</td>\n",
              "      <td>2965.000000</td>\n",
              "      <td>2965.000000</td>\n",
              "      <td>2965.000000</td>\n",
              "      <td>2965.000000</td>\n",
              "      <td>2965.000000</td>\n",
              "      <td>2965.000000</td>\n",
              "      <td>2965.000000</td>\n",
              "      <td>2965.000000</td>\n",
              "      <td>2965.000000</td>\n",
              "      <td>...</td>\n",
              "      <td>2965.000000</td>\n",
              "      <td>2965.000000</td>\n",
              "      <td>2965.000000</td>\n",
              "      <td>2965.000000</td>\n",
              "      <td>2965.000000</td>\n",
              "      <td>2.965000e+03</td>\n",
              "      <td>2965.000000</td>\n",
              "      <td>2965.000000</td>\n",
              "      <td>2965.000000</td>\n",
              "      <td>2965.000000</td>\n",
              "    </tr>\n",
              "    <tr>\n",
              "      <th>mean</th>\n",
              "      <td>1.607757</td>\n",
              "      <td>1.849578</td>\n",
              "      <td>1.559865</td>\n",
              "      <td>-0.225295</td>\n",
              "      <td>-0.254637</td>\n",
              "      <td>0.214165</td>\n",
              "      <td>163369.308600</td>\n",
              "      <td>35.193255</td>\n",
              "      <td>0.005059</td>\n",
              "      <td>-0.122428</td>\n",
              "      <td>...</td>\n",
              "      <td>48239.757504</td>\n",
              "      <td>44089.683305</td>\n",
              "      <td>40956.080607</td>\n",
              "      <td>39773.072513</td>\n",
              "      <td>6348.902867</td>\n",
              "      <td>6.272494e+03</td>\n",
              "      <td>5150.497133</td>\n",
              "      <td>4561.376054</td>\n",
              "      <td>4913.286678</td>\n",
              "      <td>5382.701518</td>\n",
              "    </tr>\n",
              "    <tr>\n",
              "      <th>std</th>\n",
              "      <td>0.488333</td>\n",
              "      <td>0.778184</td>\n",
              "      <td>0.522317</td>\n",
              "      <td>1.159003</td>\n",
              "      <td>1.167305</td>\n",
              "      <td>0.410311</td>\n",
              "      <td>125030.415472</td>\n",
              "      <td>9.109439</td>\n",
              "      <td>1.114395</td>\n",
              "      <td>1.180784</td>\n",
              "      <td>...</td>\n",
              "      <td>68145.710745</td>\n",
              "      <td>61907.454056</td>\n",
              "      <td>58271.904751</td>\n",
              "      <td>57303.488981</td>\n",
              "      <td>20885.735336</td>\n",
              "      <td>2.887967e+04</td>\n",
              "      <td>14287.079982</td>\n",
              "      <td>13281.499599</td>\n",
              "      <td>16734.340778</td>\n",
              "      <td>17275.953029</td>\n",
              "    </tr>\n",
              "    <tr>\n",
              "      <th>min</th>\n",
              "      <td>1.000000</td>\n",
              "      <td>0.000000</td>\n",
              "      <td>0.000000</td>\n",
              "      <td>-2.000000</td>\n",
              "      <td>-2.000000</td>\n",
              "      <td>0.000000</td>\n",
              "      <td>10000.000000</td>\n",
              "      <td>21.000000</td>\n",
              "      <td>-2.000000</td>\n",
              "      <td>-2.000000</td>\n",
              "      <td>...</td>\n",
              "      <td>-25443.000000</td>\n",
              "      <td>-46627.000000</td>\n",
              "      <td>-46627.000000</td>\n",
              "      <td>-73895.000000</td>\n",
              "      <td>0.000000</td>\n",
              "      <td>0.000000e+00</td>\n",
              "      <td>0.000000</td>\n",
              "      <td>0.000000</td>\n",
              "      <td>0.000000</td>\n",
              "      <td>0.000000</td>\n",
              "    </tr>\n",
              "    <tr>\n",
              "      <th>25%</th>\n",
              "      <td>1.000000</td>\n",
              "      <td>1.000000</td>\n",
              "      <td>1.000000</td>\n",
              "      <td>-1.000000</td>\n",
              "      <td>-1.000000</td>\n",
              "      <td>0.000000</td>\n",
              "      <td>50000.000000</td>\n",
              "      <td>28.000000</td>\n",
              "      <td>-1.000000</td>\n",
              "      <td>-1.000000</td>\n",
              "      <td>...</td>\n",
              "      <td>3302.000000</td>\n",
              "      <td>2582.000000</td>\n",
              "      <td>1958.000000</td>\n",
              "      <td>1430.000000</td>\n",
              "      <td>1013.000000</td>\n",
              "      <td>9.900000e+02</td>\n",
              "      <td>477.000000</td>\n",
              "      <td>313.000000</td>\n",
              "      <td>323.000000</td>\n",
              "      <td>173.000000</td>\n",
              "    </tr>\n",
              "    <tr>\n",
              "      <th>50%</th>\n",
              "      <td>2.000000</td>\n",
              "      <td>2.000000</td>\n",
              "      <td>2.000000</td>\n",
              "      <td>0.000000</td>\n",
              "      <td>0.000000</td>\n",
              "      <td>0.000000</td>\n",
              "      <td>140000.000000</td>\n",
              "      <td>34.000000</td>\n",
              "      <td>0.000000</td>\n",
              "      <td>0.000000</td>\n",
              "      <td>...</td>\n",
              "      <td>21520.000000</td>\n",
              "      <td>19894.000000</td>\n",
              "      <td>18814.000000</td>\n",
              "      <td>18508.000000</td>\n",
              "      <td>2234.000000</td>\n",
              "      <td>2.175000e+03</td>\n",
              "      <td>1994.000000</td>\n",
              "      <td>1600.000000</td>\n",
              "      <td>1646.000000</td>\n",
              "      <td>1615.000000</td>\n",
              "    </tr>\n",
              "    <tr>\n",
              "      <th>75%</th>\n",
              "      <td>2.000000</td>\n",
              "      <td>2.000000</td>\n",
              "      <td>2.000000</td>\n",
              "      <td>0.000000</td>\n",
              "      <td>0.000000</td>\n",
              "      <td>0.000000</td>\n",
              "      <td>230000.000000</td>\n",
              "      <td>41.000000</td>\n",
              "      <td>0.000000</td>\n",
              "      <td>0.000000</td>\n",
              "      <td>...</td>\n",
              "      <td>63023.000000</td>\n",
              "      <td>58622.000000</td>\n",
              "      <td>53373.000000</td>\n",
              "      <td>52287.000000</td>\n",
              "      <td>5087.000000</td>\n",
              "      <td>5.000000e+03</td>\n",
              "      <td>4500.000000</td>\n",
              "      <td>4000.000000</td>\n",
              "      <td>4021.000000</td>\n",
              "      <td>4081.000000</td>\n",
              "    </tr>\n",
              "    <tr>\n",
              "      <th>max</th>\n",
              "      <td>2.000000</td>\n",
              "      <td>6.000000</td>\n",
              "      <td>3.000000</td>\n",
              "      <td>7.000000</td>\n",
              "      <td>7.000000</td>\n",
              "      <td>1.000000</td>\n",
              "      <td>800000.000000</td>\n",
              "      <td>69.000000</td>\n",
              "      <td>8.000000</td>\n",
              "      <td>7.000000</td>\n",
              "      <td>...</td>\n",
              "      <td>578971.000000</td>\n",
              "      <td>488808.000000</td>\n",
              "      <td>441981.000000</td>\n",
              "      <td>436172.000000</td>\n",
              "      <td>493358.000000</td>\n",
              "      <td>1.227082e+06</td>\n",
              "      <td>199209.000000</td>\n",
              "      <td>202076.000000</td>\n",
              "      <td>388071.000000</td>\n",
              "      <td>403500.000000</td>\n",
              "    </tr>\n",
              "  </tbody>\n",
              "</table>\n",
              "<p>8 rows × 24 columns</p>\n",
              "</div>\n",
              "      <button class=\"colab-df-convert\" onclick=\"convertToInteractive('df-671782ad-4f4c-4faf-9fcd-de8b615122de')\"\n",
              "              title=\"Convert this dataframe to an interactive table.\"\n",
              "              style=\"display:none;\">\n",
              "        \n",
              "  <svg xmlns=\"http://www.w3.org/2000/svg\" height=\"24px\"viewBox=\"0 0 24 24\"\n",
              "       width=\"24px\">\n",
              "    <path d=\"M0 0h24v24H0V0z\" fill=\"none\"/>\n",
              "    <path d=\"M18.56 5.44l.94 2.06.94-2.06 2.06-.94-2.06-.94-.94-2.06-.94 2.06-2.06.94zm-11 1L8.5 8.5l.94-2.06 2.06-.94-2.06-.94L8.5 2.5l-.94 2.06-2.06.94zm10 10l.94 2.06.94-2.06 2.06-.94-2.06-.94-.94-2.06-.94 2.06-2.06.94z\"/><path d=\"M17.41 7.96l-1.37-1.37c-.4-.4-.92-.59-1.43-.59-.52 0-1.04.2-1.43.59L10.3 9.45l-7.72 7.72c-.78.78-.78 2.05 0 2.83L4 21.41c.39.39.9.59 1.41.59.51 0 1.02-.2 1.41-.59l7.78-7.78 2.81-2.81c.8-.78.8-2.07 0-2.86zM5.41 20L4 18.59l7.72-7.72 1.47 1.35L5.41 20z\"/>\n",
              "  </svg>\n",
              "      </button>\n",
              "      \n",
              "  <style>\n",
              "    .colab-df-container {\n",
              "      display:flex;\n",
              "      flex-wrap:wrap;\n",
              "      gap: 12px;\n",
              "    }\n",
              "\n",
              "    .colab-df-convert {\n",
              "      background-color: #E8F0FE;\n",
              "      border: none;\n",
              "      border-radius: 50%;\n",
              "      cursor: pointer;\n",
              "      display: none;\n",
              "      fill: #1967D2;\n",
              "      height: 32px;\n",
              "      padding: 0 0 0 0;\n",
              "      width: 32px;\n",
              "    }\n",
              "\n",
              "    .colab-df-convert:hover {\n",
              "      background-color: #E2EBFA;\n",
              "      box-shadow: 0px 1px 2px rgba(60, 64, 67, 0.3), 0px 1px 3px 1px rgba(60, 64, 67, 0.15);\n",
              "      fill: #174EA6;\n",
              "    }\n",
              "\n",
              "    [theme=dark] .colab-df-convert {\n",
              "      background-color: #3B4455;\n",
              "      fill: #D2E3FC;\n",
              "    }\n",
              "\n",
              "    [theme=dark] .colab-df-convert:hover {\n",
              "      background-color: #434B5C;\n",
              "      box-shadow: 0px 1px 3px 1px rgba(0, 0, 0, 0.15);\n",
              "      filter: drop-shadow(0px 1px 2px rgba(0, 0, 0, 0.3));\n",
              "      fill: #FFFFFF;\n",
              "    }\n",
              "  </style>\n",
              "\n",
              "      <script>\n",
              "        const buttonEl =\n",
              "          document.querySelector('#df-671782ad-4f4c-4faf-9fcd-de8b615122de button.colab-df-convert');\n",
              "        buttonEl.style.display =\n",
              "          google.colab.kernel.accessAllowed ? 'block' : 'none';\n",
              "\n",
              "        async function convertToInteractive(key) {\n",
              "          const element = document.querySelector('#df-671782ad-4f4c-4faf-9fcd-de8b615122de');\n",
              "          const dataTable =\n",
              "            await google.colab.kernel.invokeFunction('convertToInteractive',\n",
              "                                                     [key], {});\n",
              "          if (!dataTable) return;\n",
              "\n",
              "          const docLinkHtml = 'Like what you see? Visit the ' +\n",
              "            '<a target=\"_blank\" href=https://colab.research.google.com/notebooks/data_table.ipynb>data table notebook</a>'\n",
              "            + ' to learn more about interactive tables.';\n",
              "          element.innerHTML = '';\n",
              "          dataTable['output_type'] = 'display_data';\n",
              "          await google.colab.output.renderOutput(dataTable, element);\n",
              "          const docLink = document.createElement('div');\n",
              "          docLink.innerHTML = docLinkHtml;\n",
              "          element.appendChild(docLink);\n",
              "        }\n",
              "      </script>\n",
              "    </div>\n",
              "  </div>\n",
              "  "
            ]
          },
          "metadata": {},
          "execution_count": 94
        }
      ],
      "source": [
        "#deskriptif analis\n",
        "df.describe()"
      ]
    },
    {
      "cell_type": "markdown",
      "metadata": {
        "id": "kxNNUxCZy7-j"
      },
      "source": [
        "dari data tersebut, bisa disimpulkan :\n",
        "\n",
        "- Rata-rata umur nasabah adalah 35 tahun dengan rentang usia antara 21 sampai 69 tahun.\n",
        "\n",
        "- Rata-rata limit_balance (batas kredit) nasabah adalah 163,369.31 dengan standar deviasi 125,030.42. Nilai minimum limit_balance adalah 10,000 dan nilai maksimumnya adalah 800,000.\n",
        "\n",
        "- Rata-rata tagihan bulanan (bill_amt) nasabah pada bulan ke-3 sampai ke-6 adalah lebih tinggi dibandingkan bulan sebelumnya.\n",
        "\n",
        "- Rata-rata jumlah pembayaran (pay_amt) nasabah pada bulan ke-1 sampai ke-3 lebih rendah dibandingkan bulan berikutnya.\n",
        "\n",
        "- Proporsi nasabah yang mengalami default payment next month adalah sekitar 21%.\n",
        "\n",
        "- Mayoritas nasabah berjenis kelamin wanita (rata-rata 1.61).\n",
        "\n",
        "- Mayoritas nasabah memiliki pendidikan level 2 (rata-rata 1.85).\n",
        "\n",
        "- Mayoritas nasabah sudah menikah (rata-rata 1.56).\n",
        "\n",
        "- Rata-rata nilai pay_0 dan pay_2 adalah mendekati 0, yang menunjukkan mayoritas nasabah membayar tagihan mereka pada waktu yang tepat.\n",
        "\n",
        "- Sedangkan nilai pay_5 dan pay_6 cenderung negatif, yang berarti sebagian besar nasabah melakukan pembayaran keterlambatan pada bulan tersebut."
      ]
    },
    {
      "cell_type": "markdown",
      "metadata": {
        "id": "Q316CdMs15rh"
      },
      "source": [
        "#IV. Exploratory Data Analysis (EDA)"
      ]
    },
    {
      "cell_type": "markdown",
      "metadata": {
        "id": "ZcxTABNgPWEs"
      },
      "source": [
        "> Melihat apakah variabel jenis kelamin mempengaruhi kemungkinan default_payment_next_month."
      ]
    },
    {
      "cell_type": "code",
      "execution_count": 95,
      "metadata": {
        "colab": {
          "base_uri": "https://localhost:8080/"
        },
        "id": "hTOR-rlmNaOA",
        "outputId": "8eed1100-60ac-4e75-b4bc-c1864d78638f"
      },
      "outputs": [
        {
          "output_type": "stream",
          "name": "stdout",
          "text": [
            "Jumlah pria yang melakukan default_payment_next_month: 262\n",
            "Jumlah wanita yang melakukan default_payment_next_month: 373\n"
          ]
        }
      ],
      "source": [
        "# Menghitung jumlah pria dan wanita yang melakukan default_payment_next_month\n",
        "men_default = df.loc[(df['sex'] == 1) & (df['default_payment_next_month'] == 1), 'default_payment_next_month'].count()\n",
        "women_default = df.loc[(df['sex'] == 2) & (df['default_payment_next_month'] == 1), 'default_payment_next_month'].count()\n",
        "\n",
        "# Menampilkan hasil\n",
        "print('Jumlah pria yang melakukan default_payment_next_month:', men_default)\n",
        "print('Jumlah wanita yang melakukan default_payment_next_month:', women_default)"
      ]
    },
    {
      "cell_type": "code",
      "execution_count": 96,
      "metadata": {
        "colab": {
          "base_uri": "https://localhost:8080/",
          "height": 281
        },
        "id": "Bx31BluDN9kV",
        "outputId": "07cf776a-9850-4503-a7fc-cbbe2dfb7c88"
      },
      "outputs": [
        {
          "output_type": "display_data",
          "data": {
            "text/plain": [
              "<Figure size 432x288 with 1 Axes>"
            ],
            "image/png": "[encoded data removed]"
          },
          "metadata": {
            "needs_background": "light"
          }
        }
      ],
      "source": [
        "# Membuat visualisasi\n",
        "labels = ['Pria', 'Wanita']\n",
        "values = [men_default, women_default]\n",
        "plt.bar(labels, values)\n",
        "plt.title('Jumlah default_payment_next_month berdasarkan jenis kelamin')\n",
        "plt.show()"
      ]
    },
    {
      "cell_type": "markdown",
      "metadata": {
        "id": "LIzj9_vzNqOo"
      },
      "source": [
        "- dapat dilihat bahwa jumlah wanita yang melakukan default_payment_next_month lebih tinggi dibandingkan dengan jumlah pria. Jumlah pria yang melakukan default_payment_next_month sebanyak 262, sedangkan jumlah wanita yang melakukan default_payment_next_month sebanyak 373"
      ]
    },
    {
      "cell_type": "markdown",
      "metadata": {
        "id": "EbqH_FDZQc7N"
      },
      "source": [
        "> Melihat apakah variabel tingkat pendidikan mempengaruhi kemungkinan default_payment_next_month."
      ]
    },
    {
      "cell_type": "code",
      "execution_count": 97,
      "metadata": {
        "id": "Kb3IbNOxOBAa"
      },
      "outputs": [],
      "source": [
        "#groupping\n",
        "edu_default = df.groupby(['education_level', 'default_payment_next_month'])['default_payment_next_month'].count()"
      ]
    },
    {
      "cell_type": "code",
      "execution_count": 98,
      "metadata": {
        "colab": {
          "base_uri": "https://localhost:8080/",
          "height": 293
        },
        "id": "1N-rmP8AOmbF",
        "outputId": "ca909171-e350-41bc-dfd2-a8452951cdbd"
      },
      "outputs": [
        {
          "output_type": "display_data",
          "data": {
            "text/plain": [
              "<Figure size 432x288 with 1 Axes>"
            ],
            "image/png": "[encoded data removed]"
          },
          "metadata": {
            "needs_background": "light"
          }
        }
      ],
      "source": [
        "# Membuat visualisasi\n",
        "edu_default.unstack().plot(kind='bar', stacked=True)\n",
        "plt.title('Jumlah default_payment_next_month berdasarkan tingkat pendidikan')\n",
        "plt.show()"
      ]
    },
    {
      "cell_type": "markdown",
      "metadata": {
        "id": "Y1rQwQhsO3OF"
      },
      "source": [
        "dari visualisasi tersebut, terlihat education_level 2 memiliki jumlah terbanyak sekitar 1400 untuk default_payment_next_month class 1 dan 1000 untuk default_payment_next_month class 0 diantara yg lainnya yg di education_level 1 memiliki jumlah 1000 untuk default_payment_next_month class 1 dan sekitar 900 untuk default_payment_next_month class 0 dan education_level 3 memiliki jumlah sekitar 390 untuk default_payment_next_month class 0 dan default_payment_next_month untuk class 1 nya sekitar 450"
      ]
    },
    {
      "cell_type": "markdown",
      "metadata": {
        "id": "_e7ISLRBSf0w"
      },
      "source": [
        "> Melihat apakah variabel status pernikahan mempengaruhi kemungkinan default_payment_next_month."
      ]
    },
    {
      "cell_type": "code",
      "execution_count": 99,
      "metadata": {
        "id": "2dIU7W1tOtsq"
      },
      "outputs": [],
      "source": [
        "# groupping\n",
        "marital_default = df.groupby(['marital_status', 'default_payment_next_month'])['default_payment_next_month'].count()"
      ]
    },
    {
      "cell_type": "code",
      "execution_count": 100,
      "metadata": {
        "colab": {
          "base_uri": "https://localhost:8080/",
          "height": 293
        },
        "id": "4CB9f2xXTDiA",
        "outputId": "c2e8f4d1-d552-47dd-9e2b-575cd9a77539"
      },
      "outputs": [
        {
          "output_type": "display_data",
          "data": {
            "text/plain": [
              "<Figure size 432x288 with 1 Axes>"
            ],
            "image/png": "[encoded data removed]"
          },
          "metadata": {
            "needs_background": "light"
          }
        }
      ],
      "source": [
        "# Membuat visualisasi\n",
        "marital_default.unstack().plot(kind='bar', stacked=True)\n",
        "plt.title('Jumlah default_payment_next_month berdasarkan status pernikahan')\n",
        "plt.show()\n"
      ]
    },
    {
      "cell_type": "markdown",
      "metadata": {
        "id": "pqSxJXaQTKzm"
      },
      "source": [
        "dari visualisasi tersebut terlihat marital_status class 2 tertinggi untuk default_payment_next_month class 1 memiliki jumlah 1600 dan untuk default_payment_next_month class 0 mmiliki jumlah sekitar 1250. sementara untuk marital_status class 1 untuk default_payment_next_month class 1 memiliki jumlah sekitar 1350 dan default_payment_next_month class 0 memiliki jumlah 1000  "
      ]
    },
    {
      "cell_type": "markdown",
      "metadata": {
        "id": "z2mNcII6UXKF"
      },
      "source": [
        "> Melihat apakah variabel limit saldo kredit mempengaruhi kemungkinan default_payment_next_month."
      ]
    },
    {
      "cell_type": "code",
      "execution_count": 101,
      "metadata": {
        "colab": {
          "base_uri": "https://localhost:8080/",
          "height": 295
        },
        "id": "8LcHvGuQTHSv",
        "outputId": "f0a75390-e257-4e81-f91f-b75e5c743ebf"
      },
      "outputs": [
        {
          "output_type": "display_data",
          "data": {
            "text/plain": [
              "<Figure size 432x288 with 1 Axes>"
            ],
            "image/png": "[encoded data removed]"
          },
          "metadata": {
            "needs_background": "light"
          }
        }
      ],
      "source": [
        "# Membuat visualisasi scatter plot\n",
        "plt.scatter(df['limit_balance'], df['default_payment_next_month'])\n",
        "plt.title('Scatter plot limit saldo kredit vs default_payment_next_month')\n",
        "plt.xlabel('Limit saldo kredit')\n",
        "plt.ylabel('Default_payment_next_month')\n",
        "plt.show()"
      ]
    },
    {
      "cell_type": "markdown",
      "metadata": {
        "id": "mTSosT9AV53J"
      },
      "source": [
        "hasil visualisasinya menujukan default_payment_next_month di class 1 titik berhenti di 500000 sedangkan untuk class 0 berhenti di 800000"
      ]
    },
    {
      "cell_type": "markdown",
      "metadata": {
        "id": "rgwrw-XOV7Xf"
      },
      "source": [
        "> Melihat apakah variabel umur mempengaruhi kemungkinan default_payment_next_month."
      ]
    },
    {
      "cell_type": "code",
      "execution_count": 102,
      "metadata": {
        "colab": {
          "base_uri": "https://localhost:8080/",
          "height": 295
        },
        "id": "p1H3-biqUqSY",
        "outputId": "508ee14b-056a-47d3-da75-d37501d2bcad"
      },
      "outputs": [
        {
          "output_type": "display_data",
          "data": {
            "text/plain": [
              "<Figure size 432x288 with 1 Axes>"
            ],
            "image/png": "[encoded data removed]"
          },
          "metadata": {
            "needs_background": "light"
          }
        }
      ],
      "source": [
        "# create histogram of age column\n",
        "plt.figure()\n",
        "sns.histplot(data=df, x='age', bins=30)\n",
        "plt.title('Distribution of Age')\n",
        "plt.xlabel('Age')\n",
        "plt.ylabel('Count')\n",
        "plt.show()"
      ]
    },
    {
      "cell_type": "markdown",
      "metadata": {
        "id": "6EwsusvieYi_"
      },
      "source": [
        "distribusi nilai dalam kolom age tertinggi ada di usia 30 dan kemudian menurun secara bertahap hingga usia 70, maka dapat disimpulkan bahwa mayoritas nasabah dalam dataset berada pada rentang usia antara 20 hingga 70 tahun"
      ]
    },
    {
      "cell_type": "markdown",
      "metadata": {
        "id": "kq3Yvx85cO2O"
      },
      "source": [
        "> Melihat apakah variabel pembayaran sebelumnya mempengaruhi kemungkinan default_payment_next_month."
      ]
    },
    {
      "cell_type": "code",
      "execution_count": 103,
      "metadata": {
        "id": "KlOAklMTdE1K"
      },
      "outputs": [],
      "source": [
        "# select columns to explore\n",
        "pay_cols = ['pay_0', 'pay_2', 'pay_3', 'pay_4', 'pay_5', 'pay_6']"
      ]
    },
    {
      "cell_type": "code",
      "execution_count": 104,
      "metadata": {
        "colab": {
          "base_uri": "https://localhost:8080/",
          "height": 1000
        },
        "id": "4f4fT560bS1A",
        "outputId": "48ae226b-ee2a-4853-873c-2825d0156cb0"
      },
      "outputs": [
        {
          "output_type": "display_data",
          "data": {
            "text/plain": [
              "<Figure size 432x288 with 1 Axes>"
            ],
            "image/png": "[encoded data removed]"
          },
          "metadata": {
            "needs_background": "light"
          }
        },
        {
          "output_type": "display_data",
          "data": {
            "text/plain": [
              "<Figure size 432x288 with 1 Axes>"
            ],
            "image/png": "[encoded data removed]"
          },
          "metadata": {
            "needs_background": "light"
          }
        },
        {
          "output_type": "display_data",
          "data": {
            "text/plain": [
              "<Figure size 432x288 with 1 Axes>"
            ],
            "image/png": "[encoded data removed]"
          },
          "metadata": {
            "needs_background": "light"
          }
        },
        {
          "output_type": "display_data",
          "data": {
            "text/plain": [
              "<Figure size 432x288 with 1 Axes>"
            ],
            "image/png": "[encoded data removed]"
          },
          "metadata": {
            "needs_background": "light"
          }
        },
        {
          "output_type": "display_data",
          "data": {
            "text/plain": [
              "<Figure size 432x288 with 1 Axes>"
            ],
            "image/png": "[encoded data removed]"
          },
          "metadata": {
            "needs_background": "light"
          }
        },
        {
          "output_type": "display_data",
          "data": {
            "text/plain": [
              "<Figure size 432x288 with 1 Axes>"
            ],
            "image/png": "[encoded data removed]"
          },
          "metadata": {
            "needs_background": "light"
          }
        }
      ],
      "source": [
        "# create histogram for each pay column\n",
        "for col in pay_cols:\n",
        "    plt.figure()\n",
        "    sns.histplot(data=df, x=col, bins=11)\n",
        "    plt.title(f'Distribution of {col}')\n",
        "    plt.xlabel('Payment status')\n",
        "    plt.ylabel('Count')\n",
        "    plt.show()"
      ]
    },
    {
      "cell_type": "markdown",
      "metadata": {
        "id": "Vz9RktwMdrZ5"
      },
      "source": [
        "semua distribusi datanya berada di sebelah kiri namun cenderung terdistribusi normal"
      ]
    },
    {
      "cell_type": "markdown",
      "metadata": {
        "id": "vS16Zip5eogr"
      },
      "source": [
        "> Melihat apakah variabel jumlah tagihan sebelumnya mempengaruhi kemungkinan default_payment_next_month."
      ]
    },
    {
      "cell_type": "code",
      "execution_count": 105,
      "metadata": {
        "id": "c9wR_MbTc1xV"
      },
      "outputs": [],
      "source": [
        "# select columns\n",
        "bill_cols = ['bill_amt_1', 'bill_amt_2', 'bill_amt_3', 'bill_amt_4', 'bill_amt_5', 'bill_amt_6']"
      ]
    },
    {
      "cell_type": "code",
      "execution_count": 106,
      "metadata": {
        "colab": {
          "base_uri": "https://localhost:8080/",
          "height": 1000
        },
        "id": "hsoml8zwfWlx",
        "outputId": "0e42b5a9-bb66-4d0e-81b6-4caea256fcaf"
      },
      "outputs": [
        {
          "output_type": "display_data",
          "data": {
            "text/plain": [
              "<Figure size 432x288 with 1 Axes>"
            ],
            "image/png": "[encoded data removed]"
          },
          "metadata": {
            "needs_background": "light"
          }
        },
        {
          "output_type": "display_data",
          "data": {
            "text/plain": [
              "<Figure size 432x288 with 1 Axes>"
            ],
            "image/png": "[encoded data removed]"
          },
          "metadata": {
            "needs_background": "light"
          }
        },
        {
          "output_type": "display_data",
          "data": {
            "text/plain": [
              "<Figure size 432x288 with 1 Axes>"
            ],
            "image/png": "[encoded data removed]"
          },
          "metadata": {
            "needs_background": "light"
          }
        },
        {
          "output_type": "display_data",
          "data": {
            "text/plain": [
              "<Figure size 432x288 with 1 Axes>"
            ],
            "image/png": "[encoded data removed]"
          },
          "metadata": {
            "needs_background": "light"
          }
        },
        {
          "output_type": "display_data",
          "data": {
            "text/plain": [
              "<Figure size 432x288 with 1 Axes>"
            ],
            "image/png": "[encoded data removed]"
          },
          "metadata": {
            "needs_background": "light"
          }
        },
        {
          "output_type": "display_data",
          "data": {
            "text/plain": [
              "<Figure size 432x288 with 1 Axes>"
            ],
            "image/png": "[encoded data removed]"
          },
          "metadata": {
            "needs_background": "light"
          }
        }
      ],
      "source": [
        "# create histogram for each bill column\n",
        "for col in bill_cols:\n",
        "    plt.figure()\n",
        "    sns.histplot(data=df, x=col, bins=30)\n",
        "    plt.title(f'Distribution of {col}')\n",
        "    plt.xlabel('Bill amount')\n",
        "    plt.ylabel('Count')\n",
        "    plt.show()"
      ]
    },
    {
      "cell_type": "markdown",
      "metadata": {
        "id": "npi5ksAzfedj"
      },
      "source": [
        "disimpulkan bahwa sebagian besar nasabah memiliki tagihan yang relatif kecil atau bahkan tidak memiliki tagihan pada bulan tersebut. Hal ini dapat menjadi indikasi bahwa sebagian besar nasabah cenderung membayar tagihan kredit mereka secara tepat waktu."
      ]
    },
    {
      "cell_type": "markdown",
      "metadata": {
        "id": "U6NVqawTfufQ"
      },
      "source": [
        "> Melihat apakah variabel jumlah pembayaran sebelumnya mempengaruhi kemungkinan default_payment_next_month"
      ]
    },
    {
      "cell_type": "code",
      "execution_count": 107,
      "metadata": {
        "id": "DdS5Oea5faYu"
      },
      "outputs": [],
      "source": [
        "#select column\n",
        "pay_cols = ['pay_amt_1', 'pay_amt_2', 'pay_amt_3', 'pay_amt_4', 'pay_amt_5', 'pay_amt_6']"
      ]
    },
    {
      "cell_type": "code",
      "execution_count": 108,
      "metadata": {
        "colab": {
          "base_uri": "https://localhost:8080/",
          "height": 1000
        },
        "id": "dnUYMjopf8k5",
        "outputId": "ad90f9f0-93a7-4fdf-fb88-7c3e10ad9131"
      },
      "outputs": [
        {
          "output_type": "display_data",
          "data": {
            "text/plain": [
              "<Figure size 432x288 with 1 Axes>"
            ],
            "image/png": "[encoded data removed]"
          },
          "metadata": {
            "needs_background": "light"
          }
        },
        {
          "output_type": "display_data",
          "data": {
            "text/plain": [
              "<Figure size 432x288 with 1 Axes>"
            ],
            "image/png": "[encoded data removed]"
          },
          "metadata": {
            "needs_background": "light"
          }
        },
        {
          "output_type": "display_data",
          "data": {
            "text/plain": [
              "<Figure size 432x288 with 1 Axes>"
            ],
            "image/png": "[encoded data removed]"
          },
          "metadata": {
            "needs_background": "light"
          }
        },
        {
          "output_type": "display_data",
          "data": {
            "text/plain": [
              "<Figure size 432x288 with 1 Axes>"
            ],
            "image/png": "[encoded data removed]"
          },
          "metadata": {
            "needs_background": "light"
          }
        },
        {
          "output_type": "display_data",
          "data": {
            "text/plain": [
              "<Figure size 432x288 with 1 Axes>"
            ],
            "image/png": "[encoded data removed]"
          },
          "metadata": {
            "needs_background": "light"
          }
        },
        {
          "output_type": "display_data",
          "data": {
            "text/plain": [
              "<Figure size 432x288 with 1 Axes>"
            ],
            "image/png": "[encoded data removed]"
          },
          "metadata": {
            "needs_background": "light"
          }
        }
      ],
      "source": [
        "# create histogram for each pay amount column\n",
        "for col in pay_cols:\n",
        "    plt.figure()\n",
        "    sns.histplot(data=df, x=col, bins=20)\n",
        "    plt.title(f'Distribution of {col}')\n",
        "    plt.xlabel('Payment amount')\n",
        "    plt.ylabel('Count')\n",
        "    plt.show()"
      ]
    },
    {
      "cell_type": "code",
      "execution_count": 109,
      "metadata": {
        "colab": {
          "base_uri": "https://localhost:8080/"
        },
        "id": "EEXI3-yWgACn",
        "outputId": "a357f603-6d36-42ec-92ad-ae1ae52d2caa"
      },
      "outputs": [
        {
          "output_type": "stream",
          "name": "stdout",
          "text": [
            "pay_amt_1    6348.902867\n",
            "pay_amt_2    6272.494435\n",
            "pay_amt_3    5150.497133\n",
            "pay_amt_4    4561.376054\n",
            "pay_amt_5    4913.286678\n",
            "pay_amt_6    5382.701518\n",
            "dtype: float64\n"
          ]
        }
      ],
      "source": [
        "# calculate mean payment amount for each column\n",
        "mean_payments = df[pay_cols].mean()\n",
        "print(mean_payments)"
      ]
    },
    {
      "cell_type": "markdown",
      "metadata": {
        "id": "Z73YgsQzg2j8"
      },
      "source": [
        "dari hasil visualisasi dan perhitungan rata-rata, terlihat bahwa sebagian besar nasabah melakukan pembayaran dalam jumlah yang relatif kecil. Hal ini juga terbukti bahwa nilai rata-rata pembayaran pada setiap bulan cenderung lebih rendah dari batas kredit yang diberikan pada nasabah"
      ]
    },
    {
      "cell_type": "markdown",
      "metadata": {
        "id": "ZpVo95A9hFv2"
      },
      "source": [
        "#V. Data Preprosessing"
      ]
    },
    {
      "cell_type": "markdown",
      "metadata": {
        "id": "pZ1pjtl5ikVm"
      },
      "source": [
        "###Split between X (Features), y (Target)"
      ]
    },
    {
      "cell_type": "code",
      "execution_count": 110,
      "metadata": {
        "colab": {
          "base_uri": "https://localhost:8080/",
          "height": 488
        },
        "id": "pC-Gr5QhhTsp",
        "outputId": "76e13b07-3cb9-4c26-9775-12ba8e8fa3e3"
      },
      "outputs": [
        {
          "output_type": "execute_result",
          "data": {
            "text/plain": [
              "      sex  education_level  marital_status  pay_5  pay_6  limit_balance  age  \\\n",
              "0       1                1               1      0      0         460000   49   \n",
              "1       1                1               1      0      0         240000   53   \n",
              "2       2                1               1      0      0         110000   51   \n",
              "3       2                1               2      0      0         110000   23   \n",
              "4       2                1               1      0      0         320000   42   \n",
              "...   ...              ...             ...    ...    ...            ...  ...   \n",
              "2960    1                1               1     -1     -1         390000   46   \n",
              "2961    2                1               1     -1     -1         350000   55   \n",
              "2962    2                1               2     -1     -1         460000   34   \n",
              "2963    2                2               2     -1     -1         160000   29   \n",
              "2964    2                2               1     -1     -1         210000   48   \n",
              "\n",
              "      pay_0  pay_2  pay_3  ...  bill_amt_3  bill_amt_4  bill_amt_5  \\\n",
              "0         0      0      0  ...      295807      291616      289529   \n",
              "1         0      0      0  ...      133385      136654      136639   \n",
              "2         0      0      0  ...       92724       94573       65034   \n",
              "3         0      0      0  ...       76460       60136       41872   \n",
              "4         0      0      0  ...      103278       62891       64948   \n",
              "...     ...    ...    ...  ...         ...         ...         ...   \n",
              "2960     -1     -1     -1  ...       53796        6009        9096   \n",
              "2961     -1     -1     -1  ...        1630        7461        4124   \n",
              "2962     -1     -1     -1  ...       21494       12657        5739   \n",
              "2963     -1     -1     -1  ...        1086        1874        2920   \n",
              "2964     -1     -1     -1  ...         355       12816           0   \n",
              "\n",
              "      bill_amt_6  pay_amt_1  pay_amt_2  pay_amt_3  pay_amt_4  pay_amt_5  \\\n",
              "0         289449      13200      14000      11500      10500      10500   \n",
              "1         123951       9700       5000       5500       5500       5000   \n",
              "2          66241       3771       3656       3687       2476       2406   \n",
              "3          38158       3400       4000       2951       1600       1540   \n",
              "4          66961       9000       6000       3000       3000       3000   \n",
              "...          ...        ...        ...        ...        ...        ...   \n",
              "2960        3267      94921      53796       6009       9096       3267   \n",
              "2961        1261       1935       1630       7461       4124       1261   \n",
              "2962       10184       8869      23664      12659       5752      10192   \n",
              "2963           0       2108       1086       1874       2920          0   \n",
              "2964         102          0        358      12816          0        102   \n",
              "\n",
              "      pay_amt_6  \n",
              "0         10000  \n",
              "1          5000  \n",
              "2          2427  \n",
              "3          1400  \n",
              "4          3000  \n",
              "...         ...  \n",
              "2960       2901  \n",
              "2961       2798  \n",
              "2962       7419  \n",
              "2963       1222  \n",
              "2964        210  \n",
              "\n",
              "[2965 rows x 23 columns]"
            ],
            "text/html": [
              "\n",
              "  <div id=\"df-82a2c24b-7a4f-40dd-980d-926f47eb87e6\">\n",
              "    <div class=\"colab-df-container\">\n",
              "      <div>\n",
              "<style scoped>\n",
              "    .dataframe tbody tr th:only-of-type {\n",
              "        vertical-align: middle;\n",
              "    }\n",
              "\n",
              "    .dataframe tbody tr th {\n",
              "        vertical-align: top;\n",
              "    }\n",
              "\n",
              "    .dataframe thead th {\n",
              "        text-align: right;\n",
              "    }\n",
              "</style>\n",
              "<table border=\"1\" class=\"dataframe\">\n",
              "  <thead>\n",
              "    <tr style=\"text-align: right;\">\n",
              "      <th></th>\n",
              "      <th>sex</th>\n",
              "      <th>education_level</th>\n",
              "      <th>marital_status</th>\n",
              "      <th>pay_5</th>\n",
              "      <th>pay_6</th>\n",
              "      <th>limit_balance</th>\n",
              "      <th>age</th>\n",
              "      <th>pay_0</th>\n",
              "      <th>pay_2</th>\n",
              "      <th>pay_3</th>\n",
              "      <th>...</th>\n",
              "      <th>bill_amt_3</th>\n",
              "      <th>bill_amt_4</th>\n",
              "      <th>bill_amt_5</th>\n",
              "      <th>bill_amt_6</th>\n",
              "      <th>pay_amt_1</th>\n",
              "      <th>pay_amt_2</th>\n",
              "      <th>pay_amt_3</th>\n",
              "      <th>pay_amt_4</th>\n",
              "      <th>pay_amt_5</th>\n",
              "      <th>pay_amt_6</th>\n",
              "    </tr>\n",
              "  </thead>\n",
              "  <tbody>\n",
              "    <tr>\n",
              "      <th>0</th>\n",
              "      <td>1</td>\n",
              "      <td>1</td>\n",
              "      <td>1</td>\n",
              "      <td>0</td>\n",
              "      <td>0</td>\n",
              "      <td>460000</td>\n",
              "      <td>49</td>\n",
              "      <td>0</td>\n",
              "      <td>0</td>\n",
              "      <td>0</td>\n",
              "      <td>...</td>\n",
              "      <td>295807</td>\n",
              "      <td>291616</td>\n",
              "      <td>289529</td>\n",
              "      <td>289449</td>\n",
              "      <td>13200</td>\n",
              "      <td>14000</td>\n",
              "      <td>11500</td>\n",
              "      <td>10500</td>\n",
              "      <td>10500</td>\n",
              "      <td>10000</td>\n",
              "    </tr>\n",
              "    <tr>\n",
              "      <th>1</th>\n",
              "      <td>1</td>\n",
              "      <td>1</td>\n",
              "      <td>1</td>\n",
              "      <td>0</td>\n",
              "      <td>0</td>\n",
              "      <td>240000</td>\n",
              "      <td>53</td>\n",
              "      <td>0</td>\n",
              "      <td>0</td>\n",
              "      <td>0</td>\n",
              "      <td>...</td>\n",
              "      <td>133385</td>\n",
              "      <td>136654</td>\n",
              "      <td>136639</td>\n",
              "      <td>123951</td>\n",
              "      <td>9700</td>\n",
              "      <td>5000</td>\n",
              "      <td>5500</td>\n",
              "      <td>5500</td>\n",
              "      <td>5000</td>\n",
              "      <td>5000</td>\n",
              "    </tr>\n",
              "    <tr>\n",
              "      <th>2</th>\n",
              "      <td>2</td>\n",
              "      <td>1</td>\n",
              "      <td>1</td>\n",
              "      <td>0</td>\n",
              "      <td>0</td>\n",
              "      <td>110000</td>\n",
              "      <td>51</td>\n",
              "      <td>0</td>\n",
              "      <td>0</td>\n",
              "      <td>0</td>\n",
              "      <td>...</td>\n",
              "      <td>92724</td>\n",
              "      <td>94573</td>\n",
              "      <td>65034</td>\n",
              "      <td>66241</td>\n",
              "      <td>3771</td>\n",
              "      <td>3656</td>\n",
              "      <td>3687</td>\n",
              "      <td>2476</td>\n",
              "      <td>2406</td>\n",
              "      <td>2427</td>\n",
              "    </tr>\n",
              "    <tr>\n",
              "      <th>3</th>\n",
              "      <td>2</td>\n",
              "      <td>1</td>\n",
              "      <td>2</td>\n",
              "      <td>0</td>\n",
              "      <td>0</td>\n",
              "      <td>110000</td>\n",
              "      <td>23</td>\n",
              "      <td>0</td>\n",
              "      <td>0</td>\n",
              "      <td>0</td>\n",
              "      <td>...</td>\n",
              "      <td>76460</td>\n",
              "      <td>60136</td>\n",
              "      <td>41872</td>\n",
              "      <td>38158</td>\n",
              "      <td>3400</td>\n",
              "      <td>4000</td>\n",
              "      <td>2951</td>\n",
              "      <td>1600</td>\n",
              "      <td>1540</td>\n",
              "      <td>1400</td>\n",
              "    </tr>\n",
              "    <tr>\n",
              "      <th>4</th>\n",
              "      <td>2</td>\n",
              "      <td>1</td>\n",
              "      <td>1</td>\n",
              "      <td>0</td>\n",
              "      <td>0</td>\n",
              "      <td>320000</td>\n",
              "      <td>42</td>\n",
              "      <td>0</td>\n",
              "      <td>0</td>\n",
              "      <td>0</td>\n",
              "      <td>...</td>\n",
              "      <td>103278</td>\n",
              "      <td>62891</td>\n",
              "      <td>64948</td>\n",
              "      <td>66961</td>\n",
              "      <td>9000</td>\n",
              "      <td>6000</td>\n",
              "      <td>3000</td>\n",
              "      <td>3000</td>\n",
              "      <td>3000</td>\n",
              "      <td>3000</td>\n",
              "    </tr>\n",
              "    <tr>\n",
              "      <th>...</th>\n",
              "      <td>...</td>\n",
              "      <td>...</td>\n",
              "      <td>...</td>\n",
              "      <td>...</td>\n",
              "      <td>...</td>\n",
              "      <td>...</td>\n",
              "      <td>...</td>\n",
              "      <td>...</td>\n",
              "      <td>...</td>\n",
              "      <td>...</td>\n",
              "      <td>...</td>\n",
              "      <td>...</td>\n",
              "      <td>...</td>\n",
              "      <td>...</td>\n",
              "      <td>...</td>\n",
              "      <td>...</td>\n",
              "      <td>...</td>\n",
              "      <td>...</td>\n",
              "      <td>...</td>\n",
              "      <td>...</td>\n",
              "      <td>...</td>\n",
              "    </tr>\n",
              "    <tr>\n",
              "      <th>2960</th>\n",
              "      <td>1</td>\n",
              "      <td>1</td>\n",
              "      <td>1</td>\n",
              "      <td>-1</td>\n",
              "      <td>-1</td>\n",
              "      <td>390000</td>\n",
              "      <td>46</td>\n",
              "      <td>-1</td>\n",
              "      <td>-1</td>\n",
              "      <td>-1</td>\n",
              "      <td>...</td>\n",
              "      <td>53796</td>\n",
              "      <td>6009</td>\n",
              "      <td>9096</td>\n",
              "      <td>3267</td>\n",
              "      <td>94921</td>\n",
              "      <td>53796</td>\n",
              "      <td>6009</td>\n",
              "      <td>9096</td>\n",
              "      <td>3267</td>\n",
              "      <td>2901</td>\n",
              "    </tr>\n",
              "    <tr>\n",
              "      <th>2961</th>\n",
              "      <td>2</td>\n",
              "      <td>1</td>\n",
              "      <td>1</td>\n",
              "      <td>-1</td>\n",
              "      <td>-1</td>\n",
              "      <td>350000</td>\n",
              "      <td>55</td>\n",
              "      <td>-1</td>\n",
              "      <td>-1</td>\n",
              "      <td>-1</td>\n",
              "      <td>...</td>\n",
              "      <td>1630</td>\n",
              "      <td>7461</td>\n",
              "      <td>4124</td>\n",
              "      <td>1261</td>\n",
              "      <td>1935</td>\n",
              "      <td>1630</td>\n",
              "      <td>7461</td>\n",
              "      <td>4124</td>\n",
              "      <td>1261</td>\n",
              "      <td>2798</td>\n",
              "    </tr>\n",
              "    <tr>\n",
              "      <th>2962</th>\n",
              "      <td>2</td>\n",
              "      <td>1</td>\n",
              "      <td>2</td>\n",
              "      <td>-1</td>\n",
              "      <td>-1</td>\n",
              "      <td>460000</td>\n",
              "      <td>34</td>\n",
              "      <td>-1</td>\n",
              "      <td>-1</td>\n",
              "      <td>-1</td>\n",
              "      <td>...</td>\n",
              "      <td>21494</td>\n",
              "      <td>12657</td>\n",
              "      <td>5739</td>\n",
              "      <td>10184</td>\n",
              "      <td>8869</td>\n",
              "      <td>23664</td>\n",
              "      <td>12659</td>\n",
              "      <td>5752</td>\n",
              "      <td>10192</td>\n",
              "      <td>7419</td>\n",
              "    </tr>\n",
              "    <tr>\n",
              "      <th>2963</th>\n",
              "      <td>2</td>\n",
              "      <td>2</td>\n",
              "      <td>2</td>\n",
              "      <td>-1</td>\n",
              "      <td>-1</td>\n",
              "      <td>160000</td>\n",
              "      <td>29</td>\n",
              "      <td>-1</td>\n",
              "      <td>-1</td>\n",
              "      <td>-1</td>\n",
              "      <td>...</td>\n",
              "      <td>1086</td>\n",
              "      <td>1874</td>\n",
              "      <td>2920</td>\n",
              "      <td>0</td>\n",
              "      <td>2108</td>\n",
              "      <td>1086</td>\n",
              "      <td>1874</td>\n",
              "      <td>2920</td>\n",
              "      <td>0</td>\n",
              "      <td>1222</td>\n",
              "    </tr>\n",
              "    <tr>\n",
              "      <th>2964</th>\n",
              "      <td>2</td>\n",
              "      <td>2</td>\n",
              "      <td>1</td>\n",
              "      <td>-1</td>\n",
              "      <td>-1</td>\n",
              "      <td>210000</td>\n",
              "      <td>48</td>\n",
              "      <td>-1</td>\n",
              "      <td>-1</td>\n",
              "      <td>-1</td>\n",
              "      <td>...</td>\n",
              "      <td>355</td>\n",
              "      <td>12816</td>\n",
              "      <td>0</td>\n",
              "      <td>102</td>\n",
              "      <td>0</td>\n",
              "      <td>358</td>\n",
              "      <td>12816</td>\n",
              "      <td>0</td>\n",
              "      <td>102</td>\n",
              "      <td>210</td>\n",
              "    </tr>\n",
              "  </tbody>\n",
              "</table>\n",
              "<p>2965 rows × 23 columns</p>\n",
              "</div>\n",
              "      <button class=\"colab-df-convert\" onclick=\"convertToInteractive('df-82a2c24b-7a4f-40dd-980d-926f47eb87e6')\"\n",
              "              title=\"Convert this dataframe to an interactive table.\"\n",
              "              style=\"display:none;\">\n",
              "        \n",
              "  <svg xmlns=\"http://www.w3.org/2000/svg\" height=\"24px\"viewBox=\"0 0 24 24\"\n",
              "       width=\"24px\">\n",
              "    <path d=\"M0 0h24v24H0V0z\" fill=\"none\"/>\n",
              "    <path d=\"M18.56 5.44l.94 2.06.94-2.06 2.06-.94-2.06-.94-.94-2.06-.94 2.06-2.06.94zm-11 1L8.5 8.5l.94-2.06 2.06-.94-2.06-.94L8.5 2.5l-.94 2.06-2.06.94zm10 10l.94 2.06.94-2.06 2.06-.94-2.06-.94-.94-2.06-.94 2.06-2.06.94z\"/><path d=\"M17.41 7.96l-1.37-1.37c-.4-.4-.92-.59-1.43-.59-.52 0-1.04.2-1.43.59L10.3 9.45l-7.72 7.72c-.78.78-.78 2.05 0 2.83L4 21.41c.39.39.9.59 1.41.59.51 0 1.02-.2 1.41-.59l7.78-7.78 2.81-2.81c.8-.78.8-2.07 0-2.86zM5.41 20L4 18.59l7.72-7.72 1.47 1.35L5.41 20z\"/>\n",
              "  </svg>\n",
              "      </button>\n",
              "      \n",
              "  <style>\n",
              "    .colab-df-container {\n",
              "      display:flex;\n",
              "      flex-wrap:wrap;\n",
              "      gap: 12px;\n",
              "    }\n",
              "\n",
              "    .colab-df-convert {\n",
              "      background-color: #E8F0FE;\n",
              "      border: none;\n",
              "      border-radius: 50%;\n",
              "      cursor: pointer;\n",
              "      display: none;\n",
              "      fill: #1967D2;\n",
              "      height: 32px;\n",
              "      padding: 0 0 0 0;\n",
              "      width: 32px;\n",
              "    }\n",
              "\n",
              "    .colab-df-convert:hover {\n",
              "      background-color: #E2EBFA;\n",
              "      box-shadow: 0px 1px 2px rgba(60, 64, 67, 0.3), 0px 1px 3px 1px rgba(60, 64, 67, 0.15);\n",
              "      fill: #174EA6;\n",
              "    }\n",
              "\n",
              "    [theme=dark] .colab-df-convert {\n",
              "      background-color: #3B4455;\n",
              "      fill: #D2E3FC;\n",
              "    }\n",
              "\n",
              "    [theme=dark] .colab-df-convert:hover {\n",
              "      background-color: #434B5C;\n",
              "      box-shadow: 0px 1px 3px 1px rgba(0, 0, 0, 0.15);\n",
              "      filter: drop-shadow(0px 1px 2px rgba(0, 0, 0, 0.3));\n",
              "      fill: #FFFFFF;\n",
              "    }\n",
              "  </style>\n",
              "\n",
              "      <script>\n",
              "        const buttonEl =\n",
              "          document.querySelector('#df-82a2c24b-7a4f-40dd-980d-926f47eb87e6 button.colab-df-convert');\n",
              "        buttonEl.style.display =\n",
              "          google.colab.kernel.accessAllowed ? 'block' : 'none';\n",
              "\n",
              "        async function convertToInteractive(key) {\n",
              "          const element = document.querySelector('#df-82a2c24b-7a4f-40dd-980d-926f47eb87e6');\n",
              "          const dataTable =\n",
              "            await google.colab.kernel.invokeFunction('convertToInteractive',\n",
              "                                                     [key], {});\n",
              "          if (!dataTable) return;\n",
              "\n",
              "          const docLinkHtml = 'Like what you see? Visit the ' +\n",
              "            '<a target=\"_blank\" href=https://colab.research.google.com/notebooks/data_table.ipynb>data table notebook</a>'\n",
              "            + ' to learn more about interactive tables.';\n",
              "          element.innerHTML = '';\n",
              "          dataTable['output_type'] = 'display_data';\n",
              "          await google.colab.output.renderOutput(dataTable, element);\n",
              "          const docLink = document.createElement('div');\n",
              "          docLink.innerHTML = docLinkHtml;\n",
              "          element.appendChild(docLink);\n",
              "        }\n",
              "      </script>\n",
              "    </div>\n",
              "  </div>\n",
              "  "
            ]
          },
          "metadata": {},
          "execution_count": 110
        }
      ],
      "source": [
        "# Memisahkan data input dan data target\n",
        "X = df.drop([\"default_payment_next_month\"], axis=1) \n",
        "y = df[\"default_payment_next_month\"]\n",
        "X"
      ]
    },
    {
      "cell_type": "markdown",
      "source": [
        "setelah di split, data X menjadi hanya 2965 baris dan 23 kolom karena data target sudah di pisahkan"
      ],
      "metadata": {
        "id": "qd7CzZ11P_7v"
      }
    },
    {
      "cell_type": "markdown",
      "metadata": {
        "id": "7vn8cp1uispN"
      },
      "source": [
        "###Feature Selection"
      ]
    },
    {
      "cell_type": "markdown",
      "metadata": {
        "id": "hjlBTVaTj2VB"
      },
      "source": [
        "menghitung koefisien korelasi kendall dan p-value untuk setiap fitur pada dataset untuk menentukan fitur-fitur yang memiliki korelasi yang signifikan dengan variabel target "
      ]
    },
    {
      "cell_type": "code",
      "execution_count": 111,
      "metadata": {
        "id": "o5jFp3D8hwyU"
      },
      "outputs": [],
      "source": [
        "#menghitung koefisien korelasi kendall dan p-value untuk setiap fitur\n",
        "corr_coef = []\n",
        "p_value = []\n",
        "for feature in X.columns:\n",
        "    coef, p = kendalltau(X[feature], y)\n",
        "    corr_coef.append(coef)\n",
        "    p_value.append(p)"
      ]
    },
    {
      "cell_type": "code",
      "execution_count": 112,
      "metadata": {
        "id": "EDxSQcKYi-fT"
      },
      "outputs": [],
      "source": [
        "#menggabungkan hasil\n",
        "kendall_results = pd.DataFrame({'feature': X.columns, 'corr_coef': corr_coef, 'p_value': p_value})"
      ]
    },
    {
      "cell_type": "code",
      "execution_count": 113,
      "metadata": {
        "id": "PcbJVQWLkPLh"
      },
      "outputs": [],
      "source": [
        "#mngurutan berdasarkan nilai koefisien korelasi\n",
        "kendall_results = kendall_results.sort_values(by='corr_coef', ascending=False)"
      ]
    },
    {
      "cell_type": "code",
      "execution_count": 114,
      "metadata": {
        "colab": {
          "base_uri": "https://localhost:8080/",
          "height": 771
        },
        "id": "tPriWr82kQ9j",
        "outputId": "576decf8-1270-44fc-9f83-7f12b5732899"
      },
      "outputs": [
        {
          "output_type": "execute_result",
          "data": {
            "text/plain": [
              "            feature  corr_coef       p_value\n",
              "7             pay_0   0.300573  7.240402e-71\n",
              "8             pay_2   0.229146  6.336351e-41\n",
              "9             pay_3   0.211919  3.329476e-35\n",
              "3             pay_5   0.197312  1.661341e-30\n",
              "10            pay_4   0.196775  1.907502e-30\n",
              "4             pay_6   0.181257  3.897521e-26\n",
              "1   education_level   0.057750  9.197740e-04\n",
              "16       bill_amt_6   0.023719  1.163445e-01\n",
              "15       bill_amt_5   0.018755  2.139745e-01\n",
              "14       bill_amt_4   0.014521  3.353631e-01\n",
              "13       bill_amt_3   0.008840  5.572288e-01\n",
              "6               age   0.008207  5.905299e-01\n",
              "12       bill_amt_2   0.005562  7.116105e-01\n",
              "11       bill_amt_1  -0.002947  8.445718e-01\n",
              "0               sex  -0.021765  2.360489e-01\n",
              "2    marital_status  -0.026240  1.505390e-01\n",
              "21        pay_amt_5  -0.071714  2.966426e-06\n",
              "19        pay_amt_3  -0.097175  2.080660e-10\n",
              "20        pay_amt_4  -0.098085  1.582063e-10\n",
              "22        pay_amt_6  -0.113439  1.670981e-13\n",
              "18        pay_amt_2  -0.119326  4.739087e-15\n",
              "17        pay_amt_1  -0.119347  4.437869e-15\n",
              "5     limit_balance  -0.144815  2.797130e-21"
            ],
            "text/html": [
              "\n",
              "  <div id=\"df-4f937159-2b3f-47cc-b9de-f19cbd237ede\">\n",
              "    <div class=\"colab-df-container\">\n",
              "      <div>\n",
              "<style scoped>\n",
              "    .dataframe tbody tr th:only-of-type {\n",
              "        vertical-align: middle;\n",
              "    }\n",
              "\n",
              "    .dataframe tbody tr th {\n",
              "        vertical-align: top;\n",
              "    }\n",
              "\n",
              "    .dataframe thead th {\n",
              "        text-align: right;\n",
              "    }\n",
              "</style>\n",
              "<table border=\"1\" class=\"dataframe\">\n",
              "  <thead>\n",
              "    <tr style=\"text-align: right;\">\n",
              "      <th></th>\n",
              "      <th>feature</th>\n",
              "      <th>corr_coef</th>\n",
              "      <th>p_value</th>\n",
              "    </tr>\n",
              "  </thead>\n",
              "  <tbody>\n",
              "    <tr>\n",
              "      <th>7</th>\n",
              "      <td>pay_0</td>\n",
              "      <td>0.300573</td>\n",
              "      <td>7.240402e-71</td>\n",
              "    </tr>\n",
              "    <tr>\n",
              "      <th>8</th>\n",
              "      <td>pay_2</td>\n",
              "      <td>0.229146</td>\n",
              "      <td>6.336351e-41</td>\n",
              "    </tr>\n",
              "    <tr>\n",
              "      <th>9</th>\n",
              "      <td>pay_3</td>\n",
              "      <td>0.211919</td>\n",
              "      <td>3.329476e-35</td>\n",
              "    </tr>\n",
              "    <tr>\n",
              "      <th>3</th>\n",
              "      <td>pay_5</td>\n",
              "      <td>0.197312</td>\n",
              "      <td>1.661341e-30</td>\n",
              "    </tr>\n",
              "    <tr>\n",
              "      <th>10</th>\n",
              "      <td>pay_4</td>\n",
              "      <td>0.196775</td>\n",
              "      <td>1.907502e-30</td>\n",
              "    </tr>\n",
              "    <tr>\n",
              "      <th>4</th>\n",
              "      <td>pay_6</td>\n",
              "      <td>0.181257</td>\n",
              "      <td>3.897521e-26</td>\n",
              "    </tr>\n",
              "    <tr>\n",
              "      <th>1</th>\n",
              "      <td>education_level</td>\n",
              "      <td>0.057750</td>\n",
              "      <td>9.197740e-04</td>\n",
              "    </tr>\n",
              "    <tr>\n",
              "      <th>16</th>\n",
              "      <td>bill_amt_6</td>\n",
              "      <td>0.023719</td>\n",
              "      <td>1.163445e-01</td>\n",
              "    </tr>\n",
              "    <tr>\n",
              "      <th>15</th>\n",
              "      <td>bill_amt_5</td>\n",
              "      <td>0.018755</td>\n",
              "      <td>2.139745e-01</td>\n",
              "    </tr>\n",
              "    <tr>\n",
              "      <th>14</th>\n",
              "      <td>bill_amt_4</td>\n",
              "      <td>0.014521</td>\n",
              "      <td>3.353631e-01</td>\n",
              "    </tr>\n",
              "    <tr>\n",
              "      <th>13</th>\n",
              "      <td>bill_amt_3</td>\n",
              "      <td>0.008840</td>\n",
              "      <td>5.572288e-01</td>\n",
              "    </tr>\n",
              "    <tr>\n",
              "      <th>6</th>\n",
              "      <td>age</td>\n",
              "      <td>0.008207</td>\n",
              "      <td>5.905299e-01</td>\n",
              "    </tr>\n",
              "    <tr>\n",
              "      <th>12</th>\n",
              "      <td>bill_amt_2</td>\n",
              "      <td>0.005562</td>\n",
              "      <td>7.116105e-01</td>\n",
              "    </tr>\n",
              "    <tr>\n",
              "      <th>11</th>\n",
              "      <td>bill_amt_1</td>\n",
              "      <td>-0.002947</td>\n",
              "      <td>8.445718e-01</td>\n",
              "    </tr>\n",
              "    <tr>\n",
              "      <th>0</th>\n",
              "      <td>sex</td>\n",
              "      <td>-0.021765</td>\n",
              "      <td>2.360489e-01</td>\n",
              "    </tr>\n",
              "    <tr>\n",
              "      <th>2</th>\n",
              "      <td>marital_status</td>\n",
              "      <td>-0.026240</td>\n",
              "      <td>1.505390e-01</td>\n",
              "    </tr>\n",
              "    <tr>\n",
              "      <th>21</th>\n",
              "      <td>pay_amt_5</td>\n",
              "      <td>-0.071714</td>\n",
              "      <td>2.966426e-06</td>\n",
              "    </tr>\n",
              "    <tr>\n",
              "      <th>19</th>\n",
              "      <td>pay_amt_3</td>\n",
              "      <td>-0.097175</td>\n",
              "      <td>2.080660e-10</td>\n",
              "    </tr>\n",
              "    <tr>\n",
              "      <th>20</th>\n",
              "      <td>pay_amt_4</td>\n",
              "      <td>-0.098085</td>\n",
              "      <td>1.582063e-10</td>\n",
              "    </tr>\n",
              "    <tr>\n",
              "      <th>22</th>\n",
              "      <td>pay_amt_6</td>\n",
              "      <td>-0.113439</td>\n",
              "      <td>1.670981e-13</td>\n",
              "    </tr>\n",
              "    <tr>\n",
              "      <th>18</th>\n",
              "      <td>pay_amt_2</td>\n",
              "      <td>-0.119326</td>\n",
              "      <td>4.739087e-15</td>\n",
              "    </tr>\n",
              "    <tr>\n",
              "      <th>17</th>\n",
              "      <td>pay_amt_1</td>\n",
              "      <td>-0.119347</td>\n",
              "      <td>4.437869e-15</td>\n",
              "    </tr>\n",
              "    <tr>\n",
              "      <th>5</th>\n",
              "      <td>limit_balance</td>\n",
              "      <td>-0.144815</td>\n",
              "      <td>2.797130e-21</td>\n",
              "    </tr>\n",
              "  </tbody>\n",
              "</table>\n",
              "</div>\n",
              "      <button class=\"colab-df-convert\" onclick=\"convertToInteractive('df-4f937159-2b3f-47cc-b9de-f19cbd237ede')\"\n",
              "              title=\"Convert this dataframe to an interactive table.\"\n",
              "              style=\"display:none;\">\n",
              "        \n",
              "  <svg xmlns=\"http://www.w3.org/2000/svg\" height=\"24px\"viewBox=\"0 0 24 24\"\n",
              "       width=\"24px\">\n",
              "    <path d=\"M0 0h24v24H0V0z\" fill=\"none\"/>\n",
              "    <path d=\"M18.56 5.44l.94 2.06.94-2.06 2.06-.94-2.06-.94-.94-2.06-.94 2.06-2.06.94zm-11 1L8.5 8.5l.94-2.06 2.06-.94-2.06-.94L8.5 2.5l-.94 2.06-2.06.94zm10 10l.94 2.06.94-2.06 2.06-.94-2.06-.94-.94-2.06-.94 2.06-2.06.94z\"/><path d=\"M17.41 7.96l-1.37-1.37c-.4-.4-.92-.59-1.43-.59-.52 0-1.04.2-1.43.59L10.3 9.45l-7.72 7.72c-.78.78-.78 2.05 0 2.83L4 21.41c.39.39.9.59 1.41.59.51 0 1.02-.2 1.41-.59l7.78-7.78 2.81-2.81c.8-.78.8-2.07 0-2.86zM5.41 20L4 18.59l7.72-7.72 1.47 1.35L5.41 20z\"/>\n",
              "  </svg>\n",
              "      </button>\n",
              "      \n",
              "  <style>\n",
              "    .colab-df-container {\n",
              "      display:flex;\n",
              "      flex-wrap:wrap;\n",
              "      gap: 12px;\n",
              "    }\n",
              "\n",
              "    .colab-df-convert {\n",
              "      background-color: #E8F0FE;\n",
              "      border: none;\n",
              "      border-radius: 50%;\n",
              "      cursor: pointer;\n",
              "      display: none;\n",
              "      fill: #1967D2;\n",
              "      height: 32px;\n",
              "      padding: 0 0 0 0;\n",
              "      width: 32px;\n",
              "    }\n",
              "\n",
              "    .colab-df-convert:hover {\n",
              "      background-color: #E2EBFA;\n",
              "      box-shadow: 0px 1px 2px rgba(60, 64, 67, 0.3), 0px 1px 3px 1px rgba(60, 64, 67, 0.15);\n",
              "      fill: #174EA6;\n",
              "    }\n",
              "\n",
              "    [theme=dark] .colab-df-convert {\n",
              "      background-color: #3B4455;\n",
              "      fill: #D2E3FC;\n",
              "    }\n",
              "\n",
              "    [theme=dark] .colab-df-convert:hover {\n",
              "      background-color: #434B5C;\n",
              "      box-shadow: 0px 1px 3px 1px rgba(0, 0, 0, 0.15);\n",
              "      filter: drop-shadow(0px 1px 2px rgba(0, 0, 0, 0.3));\n",
              "      fill: #FFFFFF;\n",
              "    }\n",
              "  </style>\n",
              "\n",
              "      <script>\n",
              "        const buttonEl =\n",
              "          document.querySelector('#df-4f937159-2b3f-47cc-b9de-f19cbd237ede button.colab-df-convert');\n",
              "        buttonEl.style.display =\n",
              "          google.colab.kernel.accessAllowed ? 'block' : 'none';\n",
              "\n",
              "        async function convertToInteractive(key) {\n",
              "          const element = document.querySelector('#df-4f937159-2b3f-47cc-b9de-f19cbd237ede');\n",
              "          const dataTable =\n",
              "            await google.colab.kernel.invokeFunction('convertToInteractive',\n",
              "                                                     [key], {});\n",
              "          if (!dataTable) return;\n",
              "\n",
              "          const docLinkHtml = 'Like what you see? Visit the ' +\n",
              "            '<a target=\"_blank\" href=https://colab.research.google.com/notebooks/data_table.ipynb>data table notebook</a>'\n",
              "            + ' to learn more about interactive tables.';\n",
              "          element.innerHTML = '';\n",
              "          dataTable['output_type'] = 'display_data';\n",
              "          await google.colab.output.renderOutput(dataTable, element);\n",
              "          const docLink = document.createElement('div');\n",
              "          docLink.innerHTML = docLinkHtml;\n",
              "          element.appendChild(docLink);\n",
              "        }\n",
              "      </script>\n",
              "    </div>\n",
              "  </div>\n",
              "  "
            ]
          },
          "metadata": {},
          "execution_count": 114
        }
      ],
      "source": [
        "#melihat hasil dari seleksi fitur\n",
        "kendall_results"
      ]
    },
    {
      "cell_type": "markdown",
      "metadata": {
        "id": "oSrWNvFCl03W"
      },
      "source": [
        "dapat dilihat bahwa fitur dengan koefisien korelasi kendall tertinggi dengan target variabel adalah pay_0, pay_2, pay_3, pay_5, pay_4, pay_6. karena menurut pribadi juga, apabila untuk pembayaran dari awal hingga ke 6 lancar, maka kan lancar juga untuk kedepannya"
      ]
    },
    {
      "cell_type": "code",
      "execution_count": 115,
      "metadata": {
        "id": "NG33BlIRkSot"
      },
      "outputs": [],
      "source": [
        "#mengambil data yg sudah di sekelsi\n",
        "selected_features = X.iloc[:, [7, 8, 9, 3, 10, 4]]"
      ]
    },
    {
      "cell_type": "code",
      "execution_count": 116,
      "metadata": {
        "colab": {
          "base_uri": "https://localhost:8080/",
          "height": 424
        },
        "id": "_hCFWIkJp7ky",
        "outputId": "82882cbf-c813-4061-d12c-01c8f8fbce10"
      },
      "outputs": [
        {
          "output_type": "execute_result",
          "data": {
            "text/plain": [
              "      pay_0  pay_2  pay_3  pay_5  pay_4  pay_6\n",
              "0         0      0      0      0      0      0\n",
              "1         0      0      0      0      0      0\n",
              "2         0      0      0      0      0      0\n",
              "3         0      0      0      0      0      0\n",
              "4         0      0      0      0      0      0\n",
              "...     ...    ...    ...    ...    ...    ...\n",
              "2960     -1     -1     -1     -1     -1     -1\n",
              "2961     -1     -1     -1     -1     -1     -1\n",
              "2962     -1     -1     -1     -1     -1     -1\n",
              "2963     -1     -1     -1     -1     -1     -1\n",
              "2964     -1     -1     -1     -1     -1     -1\n",
              "\n",
              "[2965 rows x 6 columns]"
            ],
            "text/html": [
              "\n",
              "  <div id=\"df-f941e39c-71ce-4cc9-a483-fe5f7071290e\">\n",
              "    <div class=\"colab-df-container\">\n",
              "      <div>\n",
              "<style scoped>\n",
              "    .dataframe tbody tr th:only-of-type {\n",
              "        vertical-align: middle;\n",
              "    }\n",
              "\n",
              "    .dataframe tbody tr th {\n",
              "        vertical-align: top;\n",
              "    }\n",
              "\n",
              "    .dataframe thead th {\n",
              "        text-align: right;\n",
              "    }\n",
              "</style>\n",
              "<table border=\"1\" class=\"dataframe\">\n",
              "  <thead>\n",
              "    <tr style=\"text-align: right;\">\n",
              "      <th></th>\n",
              "      <th>pay_0</th>\n",
              "      <th>pay_2</th>\n",
              "      <th>pay_3</th>\n",
              "      <th>pay_5</th>\n",
              "      <th>pay_4</th>\n",
              "      <th>pay_6</th>\n",
              "    </tr>\n",
              "  </thead>\n",
              "  <tbody>\n",
              "    <tr>\n",
              "      <th>0</th>\n",
              "      <td>0</td>\n",
              "      <td>0</td>\n",
              "      <td>0</td>\n",
              "      <td>0</td>\n",
              "      <td>0</td>\n",
              "      <td>0</td>\n",
              "    </tr>\n",
              "    <tr>\n",
              "      <th>1</th>\n",
              "      <td>0</td>\n",
              "      <td>0</td>\n",
              "      <td>0</td>\n",
              "      <td>0</td>\n",
              "      <td>0</td>\n",
              "      <td>0</td>\n",
              "    </tr>\n",
              "    <tr>\n",
              "      <th>2</th>\n",
              "      <td>0</td>\n",
              "      <td>0</td>\n",
              "      <td>0</td>\n",
              "      <td>0</td>\n",
              "      <td>0</td>\n",
              "      <td>0</td>\n",
              "    </tr>\n",
              "    <tr>\n",
              "      <th>3</th>\n",
              "      <td>0</td>\n",
              "      <td>0</td>\n",
              "      <td>0</td>\n",
              "      <td>0</td>\n",
              "      <td>0</td>\n",
              "      <td>0</td>\n",
              "    </tr>\n",
              "    <tr>\n",
              "      <th>4</th>\n",
              "      <td>0</td>\n",
              "      <td>0</td>\n",
              "      <td>0</td>\n",
              "      <td>0</td>\n",
              "      <td>0</td>\n",
              "      <td>0</td>\n",
              "    </tr>\n",
              "    <tr>\n",
              "      <th>...</th>\n",
              "      <td>...</td>\n",
              "      <td>...</td>\n",
              "      <td>...</td>\n",
              "      <td>...</td>\n",
              "      <td>...</td>\n",
              "      <td>...</td>\n",
              "    </tr>\n",
              "    <tr>\n",
              "      <th>2960</th>\n",
              "      <td>-1</td>\n",
              "      <td>-1</td>\n",
              "      <td>-1</td>\n",
              "      <td>-1</td>\n",
              "      <td>-1</td>\n",
              "      <td>-1</td>\n",
              "    </tr>\n",
              "    <tr>\n",
              "      <th>2961</th>\n",
              "      <td>-1</td>\n",
              "      <td>-1</td>\n",
              "      <td>-1</td>\n",
              "      <td>-1</td>\n",
              "      <td>-1</td>\n",
              "      <td>-1</td>\n",
              "    </tr>\n",
              "    <tr>\n",
              "      <th>2962</th>\n",
              "      <td>-1</td>\n",
              "      <td>-1</td>\n",
              "      <td>-1</td>\n",
              "      <td>-1</td>\n",
              "      <td>-1</td>\n",
              "      <td>-1</td>\n",
              "    </tr>\n",
              "    <tr>\n",
              "      <th>2963</th>\n",
              "      <td>-1</td>\n",
              "      <td>-1</td>\n",
              "      <td>-1</td>\n",
              "      <td>-1</td>\n",
              "      <td>-1</td>\n",
              "      <td>-1</td>\n",
              "    </tr>\n",
              "    <tr>\n",
              "      <th>2964</th>\n",
              "      <td>-1</td>\n",
              "      <td>-1</td>\n",
              "      <td>-1</td>\n",
              "      <td>-1</td>\n",
              "      <td>-1</td>\n",
              "      <td>-1</td>\n",
              "    </tr>\n",
              "  </tbody>\n",
              "</table>\n",
              "<p>2965 rows × 6 columns</p>\n",
              "</div>\n",
              "      <button class=\"colab-df-convert\" onclick=\"convertToInteractive('df-f941e39c-71ce-4cc9-a483-fe5f7071290e')\"\n",
              "              title=\"Convert this dataframe to an interactive table.\"\n",
              "              style=\"display:none;\">\n",
              "        \n",
              "  <svg xmlns=\"http://www.w3.org/2000/svg\" height=\"24px\"viewBox=\"0 0 24 24\"\n",
              "       width=\"24px\">\n",
              "    <path d=\"M0 0h24v24H0V0z\" fill=\"none\"/>\n",
              "    <path d=\"M18.56 5.44l.94 2.06.94-2.06 2.06-.94-2.06-.94-.94-2.06-.94 2.06-2.06.94zm-11 1L8.5 8.5l.94-2.06 2.06-.94-2.06-.94L8.5 2.5l-.94 2.06-2.06.94zm10 10l.94 2.06.94-2.06 2.06-.94-2.06-.94-.94-2.06-.94 2.06-2.06.94z\"/><path d=\"M17.41 7.96l-1.37-1.37c-.4-.4-.92-.59-1.43-.59-.52 0-1.04.2-1.43.59L10.3 9.45l-7.72 7.72c-.78.78-.78 2.05 0 2.83L4 21.41c.39.39.9.59 1.41.59.51 0 1.02-.2 1.41-.59l7.78-7.78 2.81-2.81c.8-.78.8-2.07 0-2.86zM5.41 20L4 18.59l7.72-7.72 1.47 1.35L5.41 20z\"/>\n",
              "  </svg>\n",
              "      </button>\n",
              "      \n",
              "  <style>\n",
              "    .colab-df-container {\n",
              "      display:flex;\n",
              "      flex-wrap:wrap;\n",
              "      gap: 12px;\n",
              "    }\n",
              "\n",
              "    .colab-df-convert {\n",
              "      background-color: #E8F0FE;\n",
              "      border: none;\n",
              "      border-radius: 50%;\n",
              "      cursor: pointer;\n",
              "      display: none;\n",
              "      fill: #1967D2;\n",
              "      height: 32px;\n",
              "      padding: 0 0 0 0;\n",
              "      width: 32px;\n",
              "    }\n",
              "\n",
              "    .colab-df-convert:hover {\n",
              "      background-color: #E2EBFA;\n",
              "      box-shadow: 0px 1px 2px rgba(60, 64, 67, 0.3), 0px 1px 3px 1px rgba(60, 64, 67, 0.15);\n",
              "      fill: #174EA6;\n",
              "    }\n",
              "\n",
              "    [theme=dark] .colab-df-convert {\n",
              "      background-color: #3B4455;\n",
              "      fill: #D2E3FC;\n",
              "    }\n",
              "\n",
              "    [theme=dark] .colab-df-convert:hover {\n",
              "      background-color: #434B5C;\n",
              "      box-shadow: 0px 1px 3px 1px rgba(0, 0, 0, 0.15);\n",
              "      filter: drop-shadow(0px 1px 2px rgba(0, 0, 0, 0.3));\n",
              "      fill: #FFFFFF;\n",
              "    }\n",
              "  </style>\n",
              "\n",
              "      <script>\n",
              "        const buttonEl =\n",
              "          document.querySelector('#df-f941e39c-71ce-4cc9-a483-fe5f7071290e button.colab-df-convert');\n",
              "        buttonEl.style.display =\n",
              "          google.colab.kernel.accessAllowed ? 'block' : 'none';\n",
              "\n",
              "        async function convertToInteractive(key) {\n",
              "          const element = document.querySelector('#df-f941e39c-71ce-4cc9-a483-fe5f7071290e');\n",
              "          const dataTable =\n",
              "            await google.colab.kernel.invokeFunction('convertToInteractive',\n",
              "                                                     [key], {});\n",
              "          if (!dataTable) return;\n",
              "\n",
              "          const docLinkHtml = 'Like what you see? Visit the ' +\n",
              "            '<a target=\"_blank\" href=https://colab.research.google.com/notebooks/data_table.ipynb>data table notebook</a>'\n",
              "            + ' to learn more about interactive tables.';\n",
              "          element.innerHTML = '';\n",
              "          dataTable['output_type'] = 'display_data';\n",
              "          await google.colab.output.renderOutput(dataTable, element);\n",
              "          const docLink = document.createElement('div');\n",
              "          docLink.innerHTML = docLinkHtml;\n",
              "          element.appendChild(docLink);\n",
              "        }\n",
              "      </script>\n",
              "    </div>\n",
              "  </div>\n",
              "  "
            ]
          },
          "metadata": {},
          "execution_count": 116
        }
      ],
      "source": [
        "#melihat data yg telah diseleksi\n",
        "X_new = selected_features\n",
        "X_new"
      ]
    },
    {
      "cell_type": "markdown",
      "source": [
        "Data yang sudah dipilih fitur terdiri dari kolom-kolom yang menunjukkan nilai pembayaran bulan sebelumnya (pay_0, pay_2, pay_3, pay_4, pay_5, pay_6) dari sejumlah nasabah. Nilai-nilai ini dapat membantu dalam memprediksi apakah nasabah tersebut akan gagal membayar tagihan bulanan berikutnya. Nilai kolom di setiap baris menunjukkan apakah nasabah tersebut membayar tagihan tepat waktu (nilai 0), atau mengalami keterlambatan (nilai lebih dari 1). Ada beberapa nasabah yang tampaknya mengalami keterlambatan dalam membayar tagihan mereka, seperti yang terlihat dari nilai minus di kolom-kolom tersebut."
      ],
      "metadata": {
        "id": "fs4dlNgSQad_"
      }
    },
    {
      "cell_type": "code",
      "source": [
        "# mengubah urutan kolom\n",
        "new_index = ['pay_0', 'pay_2', 'pay_3', 'pay_4', 'pay_5', 'pay_6']\n",
        "X = X_new.reindex(columns=new_index)"
      ],
      "metadata": {
        "id": "28BUkTsEqOfH"
      },
      "execution_count": 117,
      "outputs": []
    },
    {
      "cell_type": "code",
      "execution_count": 118,
      "metadata": {
        "colab": {
          "base_uri": "https://localhost:8080/",
          "height": 458
        },
        "id": "hCc95WrZrojp",
        "outputId": "eaa20ccc-f5ee-4e37-f40c-5b45ead51fcd"
      },
      "outputs": [
        {
          "output_type": "stream",
          "name": "stdout",
          "text": [
            "Train Size :  (2075, 6)\n",
            "Test Size  :  (890, 6)\n"
          ]
        },
        {
          "output_type": "execute_result",
          "data": {
            "text/plain": [
              "      pay_0  pay_2  pay_3  pay_5  pay_4  pay_6\n",
              "2544      0      0      0     -1      0      0\n",
              "1068      0      0      0      0      0      0\n",
              "1443      2      2      2      0      0      0\n",
              "2377      1     -1     -1     -2     -2     -2\n",
              "1230      0      0      0      0      0      0\n",
              "...     ...    ...    ...    ...    ...    ...\n",
              "1739      0      0      0      2      0      2\n",
              "2715     -1     -1     -1     -1     -1     -1\n",
              "2204     -2     -2     -2     -2     -2     -2\n",
              "2432      2      2      2      3      2      2\n",
              "2693     -1     -1     -1     -1     -1     -1\n",
              "\n",
              "[2075 rows x 6 columns]"
            ],
            "text/html": [
              "\n",
              "  <div id=\"df-384ff39e-fc37-400b-8372-80b39e085c51\">\n",
              "    <div class=\"colab-df-container\">\n",
              "      <div>\n",
              "<style scoped>\n",
              "    .dataframe tbody tr th:only-of-type {\n",
              "        vertical-align: middle;\n",
              "    }\n",
              "\n",
              "    .dataframe tbody tr th {\n",
              "        vertical-align: top;\n",
              "    }\n",
              "\n",
              "    .dataframe thead th {\n",
              "        text-align: right;\n",
              "    }\n",
              "</style>\n",
              "<table border=\"1\" class=\"dataframe\">\n",
              "  <thead>\n",
              "    <tr style=\"text-align: right;\">\n",
              "      <th></th>\n",
              "      <th>pay_0</th>\n",
              "      <th>pay_2</th>\n",
              "      <th>pay_3</th>\n",
              "      <th>pay_5</th>\n",
              "      <th>pay_4</th>\n",
              "      <th>pay_6</th>\n",
              "    </tr>\n",
              "  </thead>\n",
              "  <tbody>\n",
              "    <tr>\n",
              "      <th>2544</th>\n",
              "      <td>0</td>\n",
              "      <td>0</td>\n",
              "      <td>0</td>\n",
              "      <td>-1</td>\n",
              "      <td>0</td>\n",
              "      <td>0</td>\n",
              "    </tr>\n",
              "    <tr>\n",
              "      <th>1068</th>\n",
              "      <td>0</td>\n",
              "      <td>0</td>\n",
              "      <td>0</td>\n",
              "      <td>0</td>\n",
              "      <td>0</td>\n",
              "      <td>0</td>\n",
              "    </tr>\n",
              "    <tr>\n",
              "      <th>1443</th>\n",
              "      <td>2</td>\n",
              "      <td>2</td>\n",
              "      <td>2</td>\n",
              "      <td>0</td>\n",
              "      <td>0</td>\n",
              "      <td>0</td>\n",
              "    </tr>\n",
              "    <tr>\n",
              "      <th>2377</th>\n",
              "      <td>1</td>\n",
              "      <td>-1</td>\n",
              "      <td>-1</td>\n",
              "      <td>-2</td>\n",
              "      <td>-2</td>\n",
              "      <td>-2</td>\n",
              "    </tr>\n",
              "    <tr>\n",
              "      <th>1230</th>\n",
              "      <td>0</td>\n",
              "      <td>0</td>\n",
              "      <td>0</td>\n",
              "      <td>0</td>\n",
              "      <td>0</td>\n",
              "      <td>0</td>\n",
              "    </tr>\n",
              "    <tr>\n",
              "      <th>...</th>\n",
              "      <td>...</td>\n",
              "      <td>...</td>\n",
              "      <td>...</td>\n",
              "      <td>...</td>\n",
              "      <td>...</td>\n",
              "      <td>...</td>\n",
              "    </tr>\n",
              "    <tr>\n",
              "      <th>1739</th>\n",
              "      <td>0</td>\n",
              "      <td>0</td>\n",
              "      <td>0</td>\n",
              "      <td>2</td>\n",
              "      <td>0</td>\n",
              "      <td>2</td>\n",
              "    </tr>\n",
              "    <tr>\n",
              "      <th>2715</th>\n",
              "      <td>-1</td>\n",
              "      <td>-1</td>\n",
              "      <td>-1</td>\n",
              "      <td>-1</td>\n",
              "      <td>-1</td>\n",
              "      <td>-1</td>\n",
              "    </tr>\n",
              "    <tr>\n",
              "      <th>2204</th>\n",
              "      <td>-2</td>\n",
              "      <td>-2</td>\n",
              "      <td>-2</td>\n",
              "      <td>-2</td>\n",
              "      <td>-2</td>\n",
              "      <td>-2</td>\n",
              "    </tr>\n",
              "    <tr>\n",
              "      <th>2432</th>\n",
              "      <td>2</td>\n",
              "      <td>2</td>\n",
              "      <td>2</td>\n",
              "      <td>3</td>\n",
              "      <td>2</td>\n",
              "      <td>2</td>\n",
              "    </tr>\n",
              "    <tr>\n",
              "      <th>2693</th>\n",
              "      <td>-1</td>\n",
              "      <td>-1</td>\n",
              "      <td>-1</td>\n",
              "      <td>-1</td>\n",
              "      <td>-1</td>\n",
              "      <td>-1</td>\n",
              "    </tr>\n",
              "  </tbody>\n",
              "</table>\n",
              "<p>2075 rows × 6 columns</p>\n",
              "</div>\n",
              "      <button class=\"colab-df-convert\" onclick=\"convertToInteractive('df-384ff39e-fc37-400b-8372-80b39e085c51')\"\n",
              "              title=\"Convert this dataframe to an interactive table.\"\n",
              "              style=\"display:none;\">\n",
              "        \n",
              "  <svg xmlns=\"http://www.w3.org/2000/svg\" height=\"24px\"viewBox=\"0 0 24 24\"\n",
              "       width=\"24px\">\n",
              "    <path d=\"M0 0h24v24H0V0z\" fill=\"none\"/>\n",
              "    <path d=\"M18.56 5.44l.94 2.06.94-2.06 2.06-.94-2.06-.94-.94-2.06-.94 2.06-2.06.94zm-11 1L8.5 8.5l.94-2.06 2.06-.94-2.06-.94L8.5 2.5l-.94 2.06-2.06.94zm10 10l.94 2.06.94-2.06 2.06-.94-2.06-.94-.94-2.06-.94 2.06-2.06.94z\"/><path d=\"M17.41 7.96l-1.37-1.37c-.4-.4-.92-.59-1.43-.59-.52 0-1.04.2-1.43.59L10.3 9.45l-7.72 7.72c-.78.78-.78 2.05 0 2.83L4 21.41c.39.39.9.59 1.41.59.51 0 1.02-.2 1.41-.59l7.78-7.78 2.81-2.81c.8-.78.8-2.07 0-2.86zM5.41 20L4 18.59l7.72-7.72 1.47 1.35L5.41 20z\"/>\n",
              "  </svg>\n",
              "      </button>\n",
              "      \n",
              "  <style>\n",
              "    .colab-df-container {\n",
              "      display:flex;\n",
              "      flex-wrap:wrap;\n",
              "      gap: 12px;\n",
              "    }\n",
              "\n",
              "    .colab-df-convert {\n",
              "      background-color: #E8F0FE;\n",
              "      border: none;\n",
              "      border-radius: 50%;\n",
              "      cursor: pointer;\n",
              "      display: none;\n",
              "      fill: #1967D2;\n",
              "      height: 32px;\n",
              "      padding: 0 0 0 0;\n",
              "      width: 32px;\n",
              "    }\n",
              "\n",
              "    .colab-df-convert:hover {\n",
              "      background-color: #E2EBFA;\n",
              "      box-shadow: 0px 1px 2px rgba(60, 64, 67, 0.3), 0px 1px 3px 1px rgba(60, 64, 67, 0.15);\n",
              "      fill: #174EA6;\n",
              "    }\n",
              "\n",
              "    [theme=dark] .colab-df-convert {\n",
              "      background-color: #3B4455;\n",
              "      fill: #D2E3FC;\n",
              "    }\n",
              "\n",
              "    [theme=dark] .colab-df-convert:hover {\n",
              "      background-color: #434B5C;\n",
              "      box-shadow: 0px 1px 3px 1px rgba(0, 0, 0, 0.15);\n",
              "      filter: drop-shadow(0px 1px 2px rgba(0, 0, 0, 0.3));\n",
              "      fill: #FFFFFF;\n",
              "    }\n",
              "  </style>\n",
              "\n",
              "      <script>\n",
              "        const buttonEl =\n",
              "          document.querySelector('#df-384ff39e-fc37-400b-8372-80b39e085c51 button.colab-df-convert');\n",
              "        buttonEl.style.display =\n",
              "          google.colab.kernel.accessAllowed ? 'block' : 'none';\n",
              "\n",
              "        async function convertToInteractive(key) {\n",
              "          const element = document.querySelector('#df-384ff39e-fc37-400b-8372-80b39e085c51');\n",
              "          const dataTable =\n",
              "            await google.colab.kernel.invokeFunction('convertToInteractive',\n",
              "                                                     [key], {});\n",
              "          if (!dataTable) return;\n",
              "\n",
              "          const docLinkHtml = 'Like what you see? Visit the ' +\n",
              "            '<a target=\"_blank\" href=https://colab.research.google.com/notebooks/data_table.ipynb>data table notebook</a>'\n",
              "            + ' to learn more about interactive tables.';\n",
              "          element.innerHTML = '';\n",
              "          dataTable['output_type'] = 'display_data';\n",
              "          await google.colab.output.renderOutput(dataTable, element);\n",
              "          const docLink = document.createElement('div');\n",
              "          docLink.innerHTML = docLinkHtml;\n",
              "          element.appendChild(docLink);\n",
              "        }\n",
              "      </script>\n",
              "    </div>\n",
              "  </div>\n",
              "  "
            ]
          },
          "metadata": {},
          "execution_count": 118
        }
      ],
      "source": [
        "# Membagi data menjadi x train, x test dan y train, y test\n",
        "X_train, X_test, y_train, y_test = train_test_split(X_new, y, test_size=0.3, random_state=15)\n",
        "\n",
        "print('Train Size : ', X_train.shape)\n",
        "print('Test Size  : ', X_test.shape)\n",
        "X_train"
      ]
    },
    {
      "cell_type": "markdown",
      "metadata": {
        "id": "fvowdmxYsaTt"
      },
      "source": [
        "##Handling Outlier"
      ]
    },
    {
      "cell_type": "code",
      "execution_count": 119,
      "metadata": {
        "id": "kgBP2Ps8sUzw"
      },
      "outputs": [],
      "source": [
        "def diagnostic_plots(X_train, variable):\n",
        "    # Define figure size\n",
        "    plt.figure(figsize=(16, 4))\n",
        "\n",
        "    # Histogram\n",
        "    plt.subplot(1, 2, 1)\n",
        "    sns.histplot(X_train[variable], bins=30)\n",
        "    plt.title('Histogram')\n",
        "\n",
        "    # Boxplot\n",
        "    plt.subplot(1, 2, 2)\n",
        "    sns.boxplot(y=X_train[variable])\n",
        "    plt.title('Boxplot')\n",
        "\n",
        "    plt.show()"
      ]
    },
    {
      "cell_type": "code",
      "execution_count": 120,
      "metadata": {
        "colab": {
          "base_uri": "https://localhost:8080/",
          "height": 328
        },
        "id": "qk2len46sgro",
        "outputId": "838389d8-5c7d-4015-d589-6f9f82a2f5f9"
      },
      "outputs": [
        {
          "output_type": "display_data",
          "data": {
            "text/plain": [
              "<Figure size 1152x288 with 2 Axes>"
            ],
            "image/png": "[encoded data removed]"
          },
          "metadata": {
            "needs_background": "light"
          }
        },
        {
          "output_type": "stream",
          "name": "stdout",
          "text": [
            "\n",
            "Skewness Value :  0.797671352671864\n"
          ]
        }
      ],
      "source": [
        "#melihat distribusi data dan outlier kolom age\n",
        "diagnostic_plots(X_train, 'pay_0')\n",
        "print('\\nSkewness Value : ', X_train['pay_0'].skew())"
      ]
    },
    {
      "cell_type": "markdown",
      "metadata": {
        "id": "2Ww-b5odu03L"
      },
      "source": [
        "Distribusi data pada fitur \"pay_0\" cenderung condong ke arah nilai positif, namun tidak terlalu signifikan. Hal ini menunjukkan bahwa mayoritas nasabah cenderung membayar tepat waktu atau terlambat sedikit, sedangkan ada sebagian kecil nasabah yang sering terlambat membayar dengan jangka waktu yang lebih lama."
      ]
    },
    {
      "cell_type": "code",
      "execution_count": 121,
      "metadata": {
        "colab": {
          "base_uri": "https://localhost:8080/",
          "height": 328
        },
        "id": "Wn_wgGgpsnIU",
        "outputId": "b352b225-2fdf-429f-b929-d99cef55f4fc"
      },
      "outputs": [
        {
          "output_type": "display_data",
          "data": {
            "text/plain": [
              "<Figure size 1152x288 with 2 Axes>"
            ],
            "image/png": "[encoded data removed]"
          },
          "metadata": {
            "needs_background": "light"
          }
        },
        {
          "output_type": "stream",
          "name": "stdout",
          "text": [
            "\n",
            "Skewness Value :  0.8155161627337468\n"
          ]
        }
      ],
      "source": [
        "#melihat distribusi data dan outlier kolom age\n",
        "diagnostic_plots(X_train, 'pay_2')\n",
        "print('\\nSkewness Value : ', X_train['pay_2'].skew())"
      ]
    },
    {
      "cell_type": "markdown",
      "source": [
        "sebagian besar orang nasabah membayar tagihan mereka tepat waktu pada bulan kedua. Selain itu, terdapat kemiringan ke kanan dengan nilai skewness sebesar 0.8155, yang menunjukkan bahwa terdapat lebih banyak orang yang membayar tagihan mereka tepat waktu pada bulan kedua daripada yang membayar terlambat"
      ],
      "metadata": {
        "id": "Fx8zEVH2TLvz"
      }
    },
    {
      "cell_type": "code",
      "execution_count": 122,
      "metadata": {
        "colab": {
          "base_uri": "https://localhost:8080/",
          "height": 328
        },
        "id": "2w73N6c9sxGB",
        "outputId": "b1ca9370-c0e2-4601-d01c-a581091ebad5"
      },
      "outputs": [
        {
          "output_type": "display_data",
          "data": {
            "text/plain": [
              "<Figure size 1152x288 with 2 Axes>"
            ],
            "image/png": "[encoded data removed]"
          },
          "metadata": {
            "needs_background": "light"
          }
        },
        {
          "output_type": "stream",
          "name": "stdout",
          "text": [
            "\n",
            "Skewness Value :  0.9842041016750367\n"
          ]
        }
      ],
      "source": [
        "#melihat distribusi data dan outlier kolom age\n",
        "diagnostic_plots(X_train, 'pay_3')\n",
        "print('\\nSkewness Value : ', X_train['pay_3'].skew())"
      ]
    },
    {
      "cell_type": "markdown",
      "source": [
        " distribusi data tidak terlalu simetris, mayoritas nasabah memiliki keterlambatan pembayaran selama 1 atau 2 bulan dan sedikit nasabah yang mengalami keterlambatan pembayaran selama 4-7 bulan"
      ],
      "metadata": {
        "id": "TR7gwLDxUHbF"
      }
    },
    {
      "cell_type": "code",
      "execution_count": 123,
      "metadata": {
        "colab": {
          "base_uri": "https://localhost:8080/",
          "height": 328
        },
        "id": "PcjTJIextDDw",
        "outputId": "ff67ca3a-2cb1-4449-d878-91a5bbf074f8"
      },
      "outputs": [
        {
          "output_type": "display_data",
          "data": {
            "text/plain": [
              "<Figure size 1152x288 with 2 Axes>"
            ],
            "image/png": "[encoded data removed]"
          },
          "metadata": {
            "needs_background": "light"
          }
        },
        {
          "output_type": "stream",
          "name": "stdout",
          "text": [
            "\n",
            "Skewness Value :  1.1939985226230136\n"
          ]
        }
      ],
      "source": [
        "#melihat distribusi data dan outlier kolom age\n",
        "diagnostic_plots(X_train, 'pay_4')\n",
        "print('\\nSkewness Value : ', X_train['pay_4'].skew())"
      ]
    },
    {
      "cell_type": "markdown",
      "source": [
        "distribusi data pay_4 cukup simetris dengan kecenderungan yang sama kuat pada nilai-nilai negatif dan positif. mayoritas nasabah memiliki riwayat pembayaran pay_4 yang baik, yaitu dengan nilai 0. Namun, terdapat pula sebagian kecil nasabah yang memiliki riwayat pembayaran pay_4 yang buruk"
      ],
      "metadata": {
        "id": "Spk9KYC-XaT9"
      }
    },
    {
      "cell_type": "code",
      "execution_count": 124,
      "metadata": {
        "colab": {
          "base_uri": "https://localhost:8080/",
          "height": 328
        },
        "id": "hoK1c9uQtxM9",
        "outputId": "926f5d70-7b74-4d67-e4ee-c982702444a6"
      },
      "outputs": [
        {
          "output_type": "display_data",
          "data": {
            "text/plain": [
              "<Figure size 1152x288 with 2 Axes>"
            ],
            "image/png": "[encoded data removed]"
          },
          "metadata": {
            "needs_background": "light"
          }
        },
        {
          "output_type": "stream",
          "name": "stdout",
          "text": [
            "\n",
            "Skewness Value :  1.1528932090206132\n"
          ]
        }
      ],
      "source": [
        "#melihat distribusi data dan outlier kolom age\n",
        "diagnostic_plots(X_train, 'pay_5')\n",
        "print('\\nSkewness Value : ', X_train['pay_5'].skew())"
      ]
    },
    {
      "cell_type": "markdown",
      "source": [
        "mayoritas nasabah membayar tagihan kredit mereka tepat waktu, namun masih ada sebagian kecil yang terlambat dalam pembayaran. Distribusi data cenderung condong ke kanan, menunjukkan adanya beberapa nasabah yang sering terlambat dalam pembayaran"
      ],
      "metadata": {
        "id": "maXJgfzqZ2Ho"
      }
    },
    {
      "cell_type": "code",
      "execution_count": 125,
      "metadata": {
        "colab": {
          "base_uri": "https://localhost:8080/",
          "height": 328
        },
        "id": "O-zLcIIxt1S4",
        "outputId": "0aee2436-52d7-46be-f67f-2a54a4e2d735"
      },
      "outputs": [
        {
          "output_type": "display_data",
          "data": {
            "text/plain": [
              "<Figure size 1152x288 with 2 Axes>"
            ],
            "image/png": "[encoded data removed]"
          },
          "metadata": {
            "needs_background": "light"
          }
        },
        {
          "output_type": "stream",
          "name": "stdout",
          "text": [
            "\n",
            "Skewness Value :  1.077598474055725\n"
          ]
        }
      ],
      "source": [
        "#melihat distribusi data dan outlier kolom age\n",
        "diagnostic_plots(X_train, 'pay_6')\n",
        "print('\\nSkewness Value : ', X_train['pay_6'].skew())"
      ]
    },
    {
      "cell_type": "markdown",
      "source": [
        "distribusi data pay_6 condong ke kanan. dan juga dapat dilihat bahwa mayoritas nilai pay_6 berada pada kategori 0 (tidak terlambat membayar), dengan jumlah count kurang lebih sebanyak 1100. Sedangkan untuk kategori terlambat membayar, pay_6 -2 memiliki jumlah count terbanyak kurang lebih sebesar 300"
      ],
      "metadata": {
        "id": "yqSOB7fgbOcw"
      }
    },
    {
      "cell_type": "markdown",
      "metadata": {
        "id": "N8R6P5zVxHEN"
      },
      "source": [
        "Overall statment : semua data memiliki distribusi yang cukup simetris, maka tidak perlu dilakukan handling pada outliers karena hal tersebut tidak akan mempengaruhi distribusi data secara signifikan"
      ]
    },
    {
      "cell_type": "markdown",
      "metadata": {
        "id": "t7ZCHQt-xVx5"
      },
      "source": [
        "##Handling Missing Value"
      ]
    },
    {
      "cell_type": "code",
      "execution_count": 126,
      "metadata": {
        "colab": {
          "base_uri": "https://localhost:8080/"
        },
        "id": "XX5t-78Jt4qN",
        "outputId": "78e20873-c629-45cd-ac7c-2834490d9e27"
      },
      "outputs": [
        {
          "output_type": "execute_result",
          "data": {
            "text/plain": [
              "pay_0    0\n",
              "pay_2    0\n",
              "pay_3    0\n",
              "pay_5    0\n",
              "pay_4    0\n",
              "pay_6    0\n",
              "dtype: int64"
            ]
          },
          "metadata": {},
          "execution_count": 126
        }
      ],
      "source": [
        "#melihat missing value di data X_train \n",
        "X_train.isnull().sum()"
      ]
    },
    {
      "cell_type": "code",
      "execution_count": 127,
      "metadata": {
        "colab": {
          "base_uri": "https://localhost:8080/"
        },
        "id": "Tj6F1wrCxpuM",
        "outputId": "0b103730-17bc-42af-b4e6-8cd6d3efe7ae"
      },
      "outputs": [
        {
          "output_type": "execute_result",
          "data": {
            "text/plain": [
              "pay_0    0\n",
              "pay_2    0\n",
              "pay_3    0\n",
              "pay_5    0\n",
              "pay_4    0\n",
              "pay_6    0\n",
              "dtype: int64"
            ]
          },
          "metadata": {},
          "execution_count": 127
        }
      ],
      "source": [
        "#melihat missing value di data X_test\n",
        "X_test.isnull().sum()"
      ]
    },
    {
      "cell_type": "code",
      "execution_count": 128,
      "metadata": {
        "colab": {
          "base_uri": "https://localhost:8080/"
        },
        "id": "JpOl-z_wxyna",
        "outputId": "6ed0ab8e-60dc-4c6e-8e2b-d8e93d32caa5"
      },
      "outputs": [
        {
          "output_type": "execute_result",
          "data": {
            "text/plain": [
              "0"
            ]
          },
          "metadata": {},
          "execution_count": 128
        }
      ],
      "source": [
        "#melihat missing value di data y_train\n",
        "y_train.isnull().sum()"
      ]
    },
    {
      "cell_type": "code",
      "execution_count": 129,
      "metadata": {
        "colab": {
          "base_uri": "https://localhost:8080/"
        },
        "id": "0IpJz6mgx304",
        "outputId": "75a36071-f832-4d5c-96e9-c5bc58d8b42f"
      },
      "outputs": [
        {
          "output_type": "execute_result",
          "data": {
            "text/plain": [
              "0"
            ]
          },
          "metadata": {},
          "execution_count": 129
        }
      ],
      "source": [
        "#melihat missing value di data y_test\n",
        "y_test.isnull().sum()"
      ]
    },
    {
      "cell_type": "markdown",
      "metadata": {
        "id": "LCt5U3Ap4VTe"
      },
      "source": [
        "setelah di cek, didatanya tidak terdapat missing value"
      ]
    },
    {
      "cell_type": "markdown",
      "metadata": {
        "id": "dSsugddZvu2x"
      },
      "source": [
        "##Feature Scaling"
      ]
    },
    {
      "cell_type": "markdown",
      "metadata": {
        "id": "iss58SZWwT60"
      },
      "source": [
        "menggunakan standardscaler adalah untuk menormalisasi dan menyeimbangkan data karena datanya memiliki distribusi normal"
      ]
    },
    {
      "cell_type": "code",
      "source": [
        "# Menggunakan StandardScaler\n",
        "scaler = StandardScaler()\n",
        "X_train_scaled = scaler.fit_transform(X_train)\n",
        "X_test_scaled = scaler.transform(X_test)"
      ],
      "metadata": {
        "id": "1mNFuTfOgvRL"
      },
      "execution_count": 130,
      "outputs": []
    },
    {
      "cell_type": "code",
      "execution_count": 131,
      "metadata": {
        "id": "_kDWAf5AvuFy"
      },
      "outputs": [],
      "source": [
        "#membuat object pipeline untuk logistic regression\n",
        "pipe_logistic = Pipeline([\n",
        "    (\"scaler\", StandardScaler()),\n",
        "    (\"LogisticRegression\", LogisticRegression())\n",
        "])"
      ]
    },
    {
      "cell_type": "code",
      "execution_count": 132,
      "metadata": {
        "id": "JofcAIx90_Kc"
      },
      "outputs": [],
      "source": [
        "#membuat object pipeline untuk SVM\n",
        "pipe_svm = Pipeline([\n",
        "    ('scaler', StandardScaler()),\n",
        "    ('svm', SVC(kernel='rbf', probability=True))\n",
        "])"
      ]
    },
    {
      "cell_type": "code",
      "execution_count": 133,
      "metadata": {
        "id": "C-5dQMt-78A1"
      },
      "outputs": [],
      "source": [
        "#membuat object pipeline untuk Decision Tree\n",
        "pipe_dt = Pipeline([\n",
        "    ('DecisionTree', DecisionTreeClassifier(criterion='gini'))\n",
        "])"
      ]
    },
    {
      "cell_type": "code",
      "execution_count": 134,
      "metadata": {
        "id": "Ozhc2TnN1UG2"
      },
      "outputs": [],
      "source": [
        "#membuat object pipeline untuk KNN\n",
        "pipe_knn = Pipeline([\n",
        "    ('scaler', StandardScaler()),\n",
        "    ('knn', KNeighborsClassifier(n_neighbors=6))\n",
        "])\n"
      ]
    },
    {
      "cell_type": "code",
      "execution_count": 135,
      "metadata": {
        "id": "2ed8clXA23ox"
      },
      "outputs": [],
      "source": [
        "#membuat object pipeline untuk Naive Bayes\n",
        "pipe_nb = Pipeline([\n",
        "    ('scaler', StandardScaler()),\n",
        "    ('NaiveBayes', GaussianNB())\n",
        "])"
      ]
    },
    {
      "cell_type": "code",
      "execution_count": 136,
      "metadata": {
        "id": "OWQ660Ro40-7"
      },
      "outputs": [],
      "source": [
        "#membuat object pipeline untuk Random Forest dengan 500 pohon\n",
        "pipe_rf = Pipeline([\n",
        "    ('scaler', StandardScaler()),\n",
        "    ('RandomForest', RandomForestClassifier(n_estimators=500, random_state=18))\n",
        "])"
      ]
    },
    {
      "cell_type": "code",
      "execution_count": 137,
      "metadata": {
        "id": "n_zTM_1mBQ_F"
      },
      "outputs": [],
      "source": [
        "#membuat object pipeline untuk Gradient Boosting\n",
        "pipe_gb = Pipeline([\n",
        "    ('scaler', StandardScaler()),\n",
        "    ('GradientBoosting', GradientBoostingClassifier())\n",
        "])"
      ]
    },
    {
      "cell_type": "markdown",
      "metadata": {
        "id": "gutBI8Qj5aOL"
      },
      "source": [
        "#VI. Model Definition"
      ]
    },
    {
      "cell_type": "markdown",
      "metadata": {
        "id": "-iojkPuz5mxz"
      },
      "source": [
        "MOdel yg digunakan\n",
        "- Logistic Regression = untuk memprediksi probabilitas default_payment_next_month pada data yang biner atau multikelas\n",
        "- SVM = memprediksi default_payment_next_month dengan mencari hyperplane terbaik yang dapat memisahkan antara individu yang akan mengalami default_payment_next_month dan yang tidak\n",
        "- Decision Tree = ntuk memprediksi default_payment_next_month dengan membuat struktur pohon dari data input\n",
        "- Random Forest = memprediksi default_payment_next_month dengan menggabungkan beberapa pohon keputusan yang dibuat secara acak untuk mengurangi overfitting dan meningkatkan keakuratan\n",
        "- KNN =  untuk memprediksi default_payment_next_month dengan mengklasifikasikan individu berdasarkan kelas mayoritas dari data terdekat di sekitarnya\n",
        "- Naive Bayes = untuk memprediksi default_payment_next_month dengan menghitung probabilitas setiap kelas pada data input.\n",
        "\n",
        "menggunakan metriks ROC-OUC untuk mengevaluasi performa model klasifikasi pada data yang seimbang atau tidak seimbang"
      ]
    },
    {
      "cell_type": "markdown",
      "metadata": {
        "id": "drxNOAO20YRR"
      },
      "source": [
        "menggunakan StandartdScaler untuk mengubah nilai-nilai data menjadi memiliki skala yang sama dan berdistribusi normal dengan mean 0 dan variance 1"
      ]
    },
    {
      "cell_type": "markdown",
      "metadata": {
        "id": "k-mSvQcOskWL"
      },
      "source": [
        "#VII. Model Training"
      ]
    },
    {
      "cell_type": "markdown",
      "metadata": {
        "id": "sXGpE2Qrs8k1"
      },
      "source": [
        "##Logistic Regression"
      ]
    },
    {
      "cell_type": "code",
      "execution_count": 138,
      "metadata": {
        "colab": {
          "base_uri": "https://localhost:8080/",
          "height": 126
        },
        "id": "lhNK84jcx7PZ",
        "outputId": "8d79c7ed-7ef8-453b-f05a-ba8a8b85733f"
      },
      "outputs": [
        {
          "output_type": "execute_result",
          "data": {
            "text/plain": [
              "Pipeline(steps=[('scaler', StandardScaler()),\n",
              "                ('LogisticRegression', LogisticRegression())])"
            ],
            "text/html": [
              "<style>#sk-container-id-8 {color: black;background-color: white;}#sk-container-id-8 pre{padding: 0;}#sk-container-id-8 div.sk-toggleable {background-color: white;}#sk-container-id-8 label.sk-toggleable__label {cursor: pointer;display: block;width: 100%;margin-bottom: 0;padding: 0.3em;box-sizing: border-box;text-align: center;}#sk-container-id-8 label.sk-toggleable__label-arrow:before {content: \"▸\";float: left;margin-right: 0.25em;color: #696969;}#sk-container-id-8 label.sk-toggleable__label-arrow:hover:before {color: black;}#sk-container-id-8 div.sk-estimator:hover label.sk-toggleable__label-arrow:before {color: black;}#sk-container-id-8 div.sk-toggleable__content {max-height: 0;max-width: 0;overflow: hidden;text-align: left;background-color: #f0f8ff;}#sk-container-id-8 div.sk-toggleable__content pre {margin: 0.2em;color: black;border-radius: 0.25em;background-color: #f0f8ff;}#sk-container-id-8 input.sk-toggleable__control:checked~div.sk-toggleable__content {max-height: 200px;max-width: 100%;overflow: auto;}#sk-container-id-8 input.sk-toggleable__control:checked~label.sk-toggleable__label-arrow:before {content: \"▾\";}#sk-container-id-8 div.sk-estimator input.sk-toggleable__control:checked~label.sk-toggleable__label {background-color: #d4ebff;}#sk-container-id-8 div.sk-label input.sk-toggleable__control:checked~label.sk-toggleable__label {background-color: #d4ebff;}#sk-container-id-8 input.sk-hidden--visually {border: 0;clip: rect(1px 1px 1px 1px);clip: rect(1px, 1px, 1px, 1px);height: 1px;margin: -1px;overflow: hidden;padding: 0;position: absolute;width: 1px;}#sk-container-id-8 div.sk-estimator {font-family: monospace;background-color: #f0f8ff;border: 1px dotted black;border-radius: 0.25em;box-sizing: border-box;margin-bottom: 0.5em;}#sk-container-id-8 div.sk-estimator:hover {background-color: #d4ebff;}#sk-container-id-8 div.sk-parallel-item::after {content: \"\";width: 100%;border-bottom: 1px solid gray;flex-grow: 1;}#sk-container-id-8 div.sk-label:hover label.sk-toggleable__label {background-color: #d4ebff;}#sk-container-id-8 div.sk-serial::before {content: \"\";position: absolute;border-left: 1px solid gray;box-sizing: border-box;top: 0;bottom: 0;left: 50%;z-index: 0;}#sk-container-id-8 div.sk-serial {display: flex;flex-direction: column;align-items: center;background-color: white;padding-right: 0.2em;padding-left: 0.2em;position: relative;}#sk-container-id-8 div.sk-item {position: relative;z-index: 1;}#sk-container-id-8 div.sk-parallel {display: flex;align-items: stretch;justify-content: center;background-color: white;position: relative;}#sk-container-id-8 div.sk-item::before, #sk-container-id-8 div.sk-parallel-item::before {content: \"\";position: absolute;border-left: 1px solid gray;box-sizing: border-box;top: 0;bottom: 0;left: 50%;z-index: -1;}#sk-container-id-8 div.sk-parallel-item {display: flex;flex-direction: column;z-index: 1;position: relative;background-color: white;}#sk-container-id-8 div.sk-parallel-item:first-child::after {align-self: flex-end;width: 50%;}#sk-container-id-8 div.sk-parallel-item:last-child::after {align-self: flex-start;width: 50%;}#sk-container-id-8 div.sk-parallel-item:only-child::after {width: 0;}#sk-container-id-8 div.sk-dashed-wrapped {border: 1px dashed gray;margin: 0 0.4em 0.5em 0.4em;box-sizing: border-box;padding-bottom: 0.4em;background-color: white;}#sk-container-id-8 div.sk-label label {font-family: monospace;font-weight: bold;display: inline-block;line-height: 1.2em;}#sk-container-id-8 div.sk-label-container {text-align: center;}#sk-container-id-8 div.sk-container {/* jupyter's `normalize.less` sets `[hidden] { display: none; }` but bootstrap.min.css set `[hidden] { display: none !important; }` so we also need the `!important` here to be able to override the default hidden behavior on the sphinx rendered scikit-learn.org. See: https://github.com/scikit-learn/scikit-learn/issues/21755 */display: inline-block !important;position: relative;}#sk-container-id-8 div.sk-text-repr-fallback {display: none;}</style><div id=\"sk-container-id-8\" class=\"sk-top-container\"><div class=\"sk-text-repr-fallback\"><pre>Pipeline(steps=[(&#x27;scaler&#x27;, StandardScaler()),\n",
              "                (&#x27;LogisticRegression&#x27;, LogisticRegression())])</pre><b>In a Jupyter environment, please rerun this cell to show the HTML representation or trust the notebook. <br />On GitHub, the HTML representation is unable to render, please try loading this page with nbviewer.org.</b></div><div class=\"sk-container\" hidden><div class=\"sk-item sk-dashed-wrapped\"><div class=\"sk-label-container\"><div class=\"sk-label sk-toggleable\"><input class=\"sk-toggleable__control sk-hidden--visually\" id=\"sk-estimator-id-21\" type=\"checkbox\" ><label for=\"sk-estimator-id-21\" class=\"sk-toggleable__label sk-toggleable__label-arrow\">Pipeline</label><div class=\"sk-toggleable__content\"><pre>Pipeline(steps=[(&#x27;scaler&#x27;, StandardScaler()),\n",
              "                (&#x27;LogisticRegression&#x27;, LogisticRegression())])</pre></div></div></div><div class=\"sk-serial\"><div class=\"sk-item\"><div class=\"sk-estimator sk-toggleable\"><input class=\"sk-toggleable__control sk-hidden--visually\" id=\"sk-estimator-id-22\" type=\"checkbox\" ><label for=\"sk-estimator-id-22\" class=\"sk-toggleable__label sk-toggleable__label-arrow\">StandardScaler</label><div class=\"sk-toggleable__content\"><pre>StandardScaler()</pre></div></div></div><div class=\"sk-item\"><div class=\"sk-estimator sk-toggleable\"><input class=\"sk-toggleable__control sk-hidden--visually\" id=\"sk-estimator-id-23\" type=\"checkbox\" ><label for=\"sk-estimator-id-23\" class=\"sk-toggleable__label sk-toggleable__label-arrow\">LogisticRegression</label><div class=\"sk-toggleable__content\"><pre>LogisticRegression()</pre></div></div></div></div></div></div></div>"
            ]
          },
          "metadata": {},
          "execution_count": 138
        }
      ],
      "source": [
        "#training model Logistic Regression\n",
        "pipe_logistic.fit(X_train, y_train)"
      ]
    },
    {
      "cell_type": "code",
      "execution_count": 139,
      "metadata": {
        "id": "qbSSEjmsvmhb"
      },
      "outputs": [],
      "source": [
        "# Memprediksi label pada data test\n",
        "y_pred_log = pipe_logistic.predict(X_test)"
      ]
    },
    {
      "cell_type": "markdown",
      "metadata": {
        "id": "NBjtA5RE34Bp"
      },
      "source": [
        "##SVM"
      ]
    },
    {
      "cell_type": "code",
      "execution_count": 140,
      "metadata": {
        "colab": {
          "base_uri": "https://localhost:8080/",
          "height": 126
        },
        "id": "K3-HOuqb35-9",
        "outputId": "32901a92-2cdc-4206-cda8-73b4d3280218"
      },
      "outputs": [
        {
          "output_type": "execute_result",
          "data": {
            "text/plain": [
              "Pipeline(steps=[('scaler', StandardScaler()), ('svm', SVC(probability=True))])"
            ],
            "text/html": [
              "<style>#sk-container-id-9 {color: black;background-color: white;}#sk-container-id-9 pre{padding: 0;}#sk-container-id-9 div.sk-toggleable {background-color: white;}#sk-container-id-9 label.sk-toggleable__label {cursor: pointer;display: block;width: 100%;margin-bottom: 0;padding: 0.3em;box-sizing: border-box;text-align: center;}#sk-container-id-9 label.sk-toggleable__label-arrow:before {content: \"▸\";float: left;margin-right: 0.25em;color: #696969;}#sk-container-id-9 label.sk-toggleable__label-arrow:hover:before {color: black;}#sk-container-id-9 div.sk-estimator:hover label.sk-toggleable__label-arrow:before {color: black;}#sk-container-id-9 div.sk-toggleable__content {max-height: 0;max-width: 0;overflow: hidden;text-align: left;background-color: #f0f8ff;}#sk-container-id-9 div.sk-toggleable__content pre {margin: 0.2em;color: black;border-radius: 0.25em;background-color: #f0f8ff;}#sk-container-id-9 input.sk-toggleable__control:checked~div.sk-toggleable__content {max-height: 200px;max-width: 100%;overflow: auto;}#sk-container-id-9 input.sk-toggleable__control:checked~label.sk-toggleable__label-arrow:before {content: \"▾\";}#sk-container-id-9 div.sk-estimator input.sk-toggleable__control:checked~label.sk-toggleable__label {background-color: #d4ebff;}#sk-container-id-9 div.sk-label input.sk-toggleable__control:checked~label.sk-toggleable__label {background-color: #d4ebff;}#sk-container-id-9 input.sk-hidden--visually {border: 0;clip: rect(1px 1px 1px 1px);clip: rect(1px, 1px, 1px, 1px);height: 1px;margin: -1px;overflow: hidden;padding: 0;position: absolute;width: 1px;}#sk-container-id-9 div.sk-estimator {font-family: monospace;background-color: #f0f8ff;border: 1px dotted black;border-radius: 0.25em;box-sizing: border-box;margin-bottom: 0.5em;}#sk-container-id-9 div.sk-estimator:hover {background-color: #d4ebff;}#sk-container-id-9 div.sk-parallel-item::after {content: \"\";width: 100%;border-bottom: 1px solid gray;flex-grow: 1;}#sk-container-id-9 div.sk-label:hover label.sk-toggleable__label {background-color: #d4ebff;}#sk-container-id-9 div.sk-serial::before {content: \"\";position: absolute;border-left: 1px solid gray;box-sizing: border-box;top: 0;bottom: 0;left: 50%;z-index: 0;}#sk-container-id-9 div.sk-serial {display: flex;flex-direction: column;align-items: center;background-color: white;padding-right: 0.2em;padding-left: 0.2em;position: relative;}#sk-container-id-9 div.sk-item {position: relative;z-index: 1;}#sk-container-id-9 div.sk-parallel {display: flex;align-items: stretch;justify-content: center;background-color: white;position: relative;}#sk-container-id-9 div.sk-item::before, #sk-container-id-9 div.sk-parallel-item::before {content: \"\";position: absolute;border-left: 1px solid gray;box-sizing: border-box;top: 0;bottom: 0;left: 50%;z-index: -1;}#sk-container-id-9 div.sk-parallel-item {display: flex;flex-direction: column;z-index: 1;position: relative;background-color: white;}#sk-container-id-9 div.sk-parallel-item:first-child::after {align-self: flex-end;width: 50%;}#sk-container-id-9 div.sk-parallel-item:last-child::after {align-self: flex-start;width: 50%;}#sk-container-id-9 div.sk-parallel-item:only-child::after {width: 0;}#sk-container-id-9 div.sk-dashed-wrapped {border: 1px dashed gray;margin: 0 0.4em 0.5em 0.4em;box-sizing: border-box;padding-bottom: 0.4em;background-color: white;}#sk-container-id-9 div.sk-label label {font-family: monospace;font-weight: bold;display: inline-block;line-height: 1.2em;}#sk-container-id-9 div.sk-label-container {text-align: center;}#sk-container-id-9 div.sk-container {/* jupyter's `normalize.less` sets `[hidden] { display: none; }` but bootstrap.min.css set `[hidden] { display: none !important; }` so we also need the `!important` here to be able to override the default hidden behavior on the sphinx rendered scikit-learn.org. See: https://github.com/scikit-learn/scikit-learn/issues/21755 */display: inline-block !important;position: relative;}#sk-container-id-9 div.sk-text-repr-fallback {display: none;}</style><div id=\"sk-container-id-9\" class=\"sk-top-container\"><div class=\"sk-text-repr-fallback\"><pre>Pipeline(steps=[(&#x27;scaler&#x27;, StandardScaler()), (&#x27;svm&#x27;, SVC(probability=True))])</pre><b>In a Jupyter environment, please rerun this cell to show the HTML representation or trust the notebook. <br />On GitHub, the HTML representation is unable to render, please try loading this page with nbviewer.org.</b></div><div class=\"sk-container\" hidden><div class=\"sk-item sk-dashed-wrapped\"><div class=\"sk-label-container\"><div class=\"sk-label sk-toggleable\"><input class=\"sk-toggleable__control sk-hidden--visually\" id=\"sk-estimator-id-24\" type=\"checkbox\" ><label for=\"sk-estimator-id-24\" class=\"sk-toggleable__label sk-toggleable__label-arrow\">Pipeline</label><div class=\"sk-toggleable__content\"><pre>Pipeline(steps=[(&#x27;scaler&#x27;, StandardScaler()), (&#x27;svm&#x27;, SVC(probability=True))])</pre></div></div></div><div class=\"sk-serial\"><div class=\"sk-item\"><div class=\"sk-estimator sk-toggleable\"><input class=\"sk-toggleable__control sk-hidden--visually\" id=\"sk-estimator-id-25\" type=\"checkbox\" ><label for=\"sk-estimator-id-25\" class=\"sk-toggleable__label sk-toggleable__label-arrow\">StandardScaler</label><div class=\"sk-toggleable__content\"><pre>StandardScaler()</pre></div></div></div><div class=\"sk-item\"><div class=\"sk-estimator sk-toggleable\"><input class=\"sk-toggleable__control sk-hidden--visually\" id=\"sk-estimator-id-26\" type=\"checkbox\" ><label for=\"sk-estimator-id-26\" class=\"sk-toggleable__label sk-toggleable__label-arrow\">SVC</label><div class=\"sk-toggleable__content\"><pre>SVC(probability=True)</pre></div></div></div></div></div></div></div>"
            ]
          },
          "metadata": {},
          "execution_count": 140
        }
      ],
      "source": [
        "#training model SVM\n",
        "pipe_svm.fit(X_train, y_train)"
      ]
    },
    {
      "cell_type": "code",
      "execution_count": 141,
      "metadata": {
        "id": "2z-aMqz74ibB"
      },
      "outputs": [],
      "source": [
        "# Memprediksi label pada data test\n",
        "y_pred_svm = pipe_svm.predict(X_test)"
      ]
    },
    {
      "cell_type": "markdown",
      "metadata": {
        "id": "ALVDMe5T8RS0"
      },
      "source": [
        "##Decision Tree"
      ]
    },
    {
      "cell_type": "code",
      "execution_count": 142,
      "metadata": {
        "colab": {
          "base_uri": "https://localhost:8080/",
          "height": 92
        },
        "id": "WOZ7SdfF8T-B",
        "outputId": "274c81ff-e7f2-47ac-b52a-5d8cbe5d2d06"
      },
      "outputs": [
        {
          "output_type": "execute_result",
          "data": {
            "text/plain": [
              "Pipeline(steps=[('DecisionTree', DecisionTreeClassifier())])"
            ],
            "text/html": [
              "<style>#sk-container-id-10 {color: black;background-color: white;}#sk-container-id-10 pre{padding: 0;}#sk-container-id-10 div.sk-toggleable {background-color: white;}#sk-container-id-10 label.sk-toggleable__label {cursor: pointer;display: block;width: 100%;margin-bottom: 0;padding: 0.3em;box-sizing: border-box;text-align: center;}#sk-container-id-10 label.sk-toggleable__label-arrow:before {content: \"▸\";float: left;margin-right: 0.25em;color: #696969;}#sk-container-id-10 label.sk-toggleable__label-arrow:hover:before {color: black;}#sk-container-id-10 div.sk-estimator:hover label.sk-toggleable__label-arrow:before {color: black;}#sk-container-id-10 div.sk-toggleable__content {max-height: 0;max-width: 0;overflow: hidden;text-align: left;background-color: #f0f8ff;}#sk-container-id-10 div.sk-toggleable__content pre {margin: 0.2em;color: black;border-radius: 0.25em;background-color: #f0f8ff;}#sk-container-id-10 input.sk-toggleable__control:checked~div.sk-toggleable__content {max-height: 200px;max-width: 100%;overflow: auto;}#sk-container-id-10 input.sk-toggleable__control:checked~label.sk-toggleable__label-arrow:before {content: \"▾\";}#sk-container-id-10 div.sk-estimator input.sk-toggleable__control:checked~label.sk-toggleable__label {background-color: #d4ebff;}#sk-container-id-10 div.sk-label input.sk-toggleable__control:checked~label.sk-toggleable__label {background-color: #d4ebff;}#sk-container-id-10 input.sk-hidden--visually {border: 0;clip: rect(1px 1px 1px 1px);clip: rect(1px, 1px, 1px, 1px);height: 1px;margin: -1px;overflow: hidden;padding: 0;position: absolute;width: 1px;}#sk-container-id-10 div.sk-estimator {font-family: monospace;background-color: #f0f8ff;border: 1px dotted black;border-radius: 0.25em;box-sizing: border-box;margin-bottom: 0.5em;}#sk-container-id-10 div.sk-estimator:hover {background-color: #d4ebff;}#sk-container-id-10 div.sk-parallel-item::after {content: \"\";width: 100%;border-bottom: 1px solid gray;flex-grow: 1;}#sk-container-id-10 div.sk-label:hover label.sk-toggleable__label {background-color: #d4ebff;}#sk-container-id-10 div.sk-serial::before {content: \"\";position: absolute;border-left: 1px solid gray;box-sizing: border-box;top: 0;bottom: 0;left: 50%;z-index: 0;}#sk-container-id-10 div.sk-serial {display: flex;flex-direction: column;align-items: center;background-color: white;padding-right: 0.2em;padding-left: 0.2em;position: relative;}#sk-container-id-10 div.sk-item {position: relative;z-index: 1;}#sk-container-id-10 div.sk-parallel {display: flex;align-items: stretch;justify-content: center;background-color: white;position: relative;}#sk-container-id-10 div.sk-item::before, #sk-container-id-10 div.sk-parallel-item::before {content: \"\";position: absolute;border-left: 1px solid gray;box-sizing: border-box;top: 0;bottom: 0;left: 50%;z-index: -1;}#sk-container-id-10 div.sk-parallel-item {display: flex;flex-direction: column;z-index: 1;position: relative;background-color: white;}#sk-container-id-10 div.sk-parallel-item:first-child::after {align-self: flex-end;width: 50%;}#sk-container-id-10 div.sk-parallel-item:last-child::after {align-self: flex-start;width: 50%;}#sk-container-id-10 div.sk-parallel-item:only-child::after {width: 0;}#sk-container-id-10 div.sk-dashed-wrapped {border: 1px dashed gray;margin: 0 0.4em 0.5em 0.4em;box-sizing: border-box;padding-bottom: 0.4em;background-color: white;}#sk-container-id-10 div.sk-label label {font-family: monospace;font-weight: bold;display: inline-block;line-height: 1.2em;}#sk-container-id-10 div.sk-label-container {text-align: center;}#sk-container-id-10 div.sk-container {/* jupyter's `normalize.less` sets `[hidden] { display: none; }` but bootstrap.min.css set `[hidden] { display: none !important; }` so we also need the `!important` here to be able to override the default hidden behavior on the sphinx rendered scikit-learn.org. See: https://github.com/scikit-learn/scikit-learn/issues/21755 */display: inline-block !important;position: relative;}#sk-container-id-10 div.sk-text-repr-fallback {display: none;}</style><div id=\"sk-container-id-10\" class=\"sk-top-container\"><div class=\"sk-text-repr-fallback\"><pre>Pipeline(steps=[(&#x27;DecisionTree&#x27;, DecisionTreeClassifier())])</pre><b>In a Jupyter environment, please rerun this cell to show the HTML representation or trust the notebook. <br />On GitHub, the HTML representation is unable to render, please try loading this page with nbviewer.org.</b></div><div class=\"sk-container\" hidden><div class=\"sk-item sk-dashed-wrapped\"><div class=\"sk-label-container\"><div class=\"sk-label sk-toggleable\"><input class=\"sk-toggleable__control sk-hidden--visually\" id=\"sk-estimator-id-27\" type=\"checkbox\" ><label for=\"sk-estimator-id-27\" class=\"sk-toggleable__label sk-toggleable__label-arrow\">Pipeline</label><div class=\"sk-toggleable__content\"><pre>Pipeline(steps=[(&#x27;DecisionTree&#x27;, DecisionTreeClassifier())])</pre></div></div></div><div class=\"sk-serial\"><div class=\"sk-item\"><div class=\"sk-estimator sk-toggleable\"><input class=\"sk-toggleable__control sk-hidden--visually\" id=\"sk-estimator-id-28\" type=\"checkbox\" ><label for=\"sk-estimator-id-28\" class=\"sk-toggleable__label sk-toggleable__label-arrow\">DecisionTreeClassifier</label><div class=\"sk-toggleable__content\"><pre>DecisionTreeClassifier()</pre></div></div></div></div></div></div></div>"
            ]
          },
          "metadata": {},
          "execution_count": 142
        }
      ],
      "source": [
        "#training model Decision Tree\n",
        "pipe_dt.fit(X_train, y_train)"
      ]
    },
    {
      "cell_type": "code",
      "execution_count": 143,
      "metadata": {
        "id": "eruT5q6A8gQG"
      },
      "outputs": [],
      "source": [
        "# Memprediksi label pada data test\n",
        "y_pred_dt = pipe_dt.predict(X_test)"
      ]
    },
    {
      "cell_type": "markdown",
      "metadata": {
        "id": "w9nFONlby7ip"
      },
      "source": [
        "##K-Neighbors (KNN)"
      ]
    },
    {
      "cell_type": "code",
      "execution_count": 144,
      "metadata": {
        "colab": {
          "base_uri": "https://localhost:8080/",
          "height": 126
        },
        "id": "U4XPxDxf1y2C",
        "outputId": "234a0b05-a040-431d-82f3-235a5330b346"
      },
      "outputs": [
        {
          "output_type": "execute_result",
          "data": {
            "text/plain": [
              "Pipeline(steps=[('scaler', StandardScaler()),\n",
              "                ('knn', KNeighborsClassifier(n_neighbors=6))])"
            ],
            "text/html": [
              "<style>#sk-container-id-11 {color: black;background-color: white;}#sk-container-id-11 pre{padding: 0;}#sk-container-id-11 div.sk-toggleable {background-color: white;}#sk-container-id-11 label.sk-toggleable__label {cursor: pointer;display: block;width: 100%;margin-bottom: 0;padding: 0.3em;box-sizing: border-box;text-align: center;}#sk-container-id-11 label.sk-toggleable__label-arrow:before {content: \"▸\";float: left;margin-right: 0.25em;color: #696969;}#sk-container-id-11 label.sk-toggleable__label-arrow:hover:before {color: black;}#sk-container-id-11 div.sk-estimator:hover label.sk-toggleable__label-arrow:before {color: black;}#sk-container-id-11 div.sk-toggleable__content {max-height: 0;max-width: 0;overflow: hidden;text-align: left;background-color: #f0f8ff;}#sk-container-id-11 div.sk-toggleable__content pre {margin: 0.2em;color: black;border-radius: 0.25em;background-color: #f0f8ff;}#sk-container-id-11 input.sk-toggleable__control:checked~div.sk-toggleable__content {max-height: 200px;max-width: 100%;overflow: auto;}#sk-container-id-11 input.sk-toggleable__control:checked~label.sk-toggleable__label-arrow:before {content: \"▾\";}#sk-container-id-11 div.sk-estimator input.sk-toggleable__control:checked~label.sk-toggleable__label {background-color: #d4ebff;}#sk-container-id-11 div.sk-label input.sk-toggleable__control:checked~label.sk-toggleable__label {background-color: #d4ebff;}#sk-container-id-11 input.sk-hidden--visually {border: 0;clip: rect(1px 1px 1px 1px);clip: rect(1px, 1px, 1px, 1px);height: 1px;margin: -1px;overflow: hidden;padding: 0;position: absolute;width: 1px;}#sk-container-id-11 div.sk-estimator {font-family: monospace;background-color: #f0f8ff;border: 1px dotted black;border-radius: 0.25em;box-sizing: border-box;margin-bottom: 0.5em;}#sk-container-id-11 div.sk-estimator:hover {background-color: #d4ebff;}#sk-container-id-11 div.sk-parallel-item::after {content: \"\";width: 100%;border-bottom: 1px solid gray;flex-grow: 1;}#sk-container-id-11 div.sk-label:hover label.sk-toggleable__label {background-color: #d4ebff;}#sk-container-id-11 div.sk-serial::before {content: \"\";position: absolute;border-left: 1px solid gray;box-sizing: border-box;top: 0;bottom: 0;left: 50%;z-index: 0;}#sk-container-id-11 div.sk-serial {display: flex;flex-direction: column;align-items: center;background-color: white;padding-right: 0.2em;padding-left: 0.2em;position: relative;}#sk-container-id-11 div.sk-item {position: relative;z-index: 1;}#sk-container-id-11 div.sk-parallel {display: flex;align-items: stretch;justify-content: center;background-color: white;position: relative;}#sk-container-id-11 div.sk-item::before, #sk-container-id-11 div.sk-parallel-item::before {content: \"\";position: absolute;border-left: 1px solid gray;box-sizing: border-box;top: 0;bottom: 0;left: 50%;z-index: -1;}#sk-container-id-11 div.sk-parallel-item {display: flex;flex-direction: column;z-index: 1;position: relative;background-color: white;}#sk-container-id-11 div.sk-parallel-item:first-child::after {align-self: flex-end;width: 50%;}#sk-container-id-11 div.sk-parallel-item:last-child::after {align-self: flex-start;width: 50%;}#sk-container-id-11 div.sk-parallel-item:only-child::after {width: 0;}#sk-container-id-11 div.sk-dashed-wrapped {border: 1px dashed gray;margin: 0 0.4em 0.5em 0.4em;box-sizing: border-box;padding-bottom: 0.4em;background-color: white;}#sk-container-id-11 div.sk-label label {font-family: monospace;font-weight: bold;display: inline-block;line-height: 1.2em;}#sk-container-id-11 div.sk-label-container {text-align: center;}#sk-container-id-11 div.sk-container {/* jupyter's `normalize.less` sets `[hidden] { display: none; }` but bootstrap.min.css set `[hidden] { display: none !important; }` so we also need the `!important` here to be able to override the default hidden behavior on the sphinx rendered scikit-learn.org. See: https://github.com/scikit-learn/scikit-learn/issues/21755 */display: inline-block !important;position: relative;}#sk-container-id-11 div.sk-text-repr-fallback {display: none;}</style><div id=\"sk-container-id-11\" class=\"sk-top-container\"><div class=\"sk-text-repr-fallback\"><pre>Pipeline(steps=[(&#x27;scaler&#x27;, StandardScaler()),\n",
              "                (&#x27;knn&#x27;, KNeighborsClassifier(n_neighbors=6))])</pre><b>In a Jupyter environment, please rerun this cell to show the HTML representation or trust the notebook. <br />On GitHub, the HTML representation is unable to render, please try loading this page with nbviewer.org.</b></div><div class=\"sk-container\" hidden><div class=\"sk-item sk-dashed-wrapped\"><div class=\"sk-label-container\"><div class=\"sk-label sk-toggleable\"><input class=\"sk-toggleable__control sk-hidden--visually\" id=\"sk-estimator-id-29\" type=\"checkbox\" ><label for=\"sk-estimator-id-29\" class=\"sk-toggleable__label sk-toggleable__label-arrow\">Pipeline</label><div class=\"sk-toggleable__content\"><pre>Pipeline(steps=[(&#x27;scaler&#x27;, StandardScaler()),\n",
              "                (&#x27;knn&#x27;, KNeighborsClassifier(n_neighbors=6))])</pre></div></div></div><div class=\"sk-serial\"><div class=\"sk-item\"><div class=\"sk-estimator sk-toggleable\"><input class=\"sk-toggleable__control sk-hidden--visually\" id=\"sk-estimator-id-30\" type=\"checkbox\" ><label for=\"sk-estimator-id-30\" class=\"sk-toggleable__label sk-toggleable__label-arrow\">StandardScaler</label><div class=\"sk-toggleable__content\"><pre>StandardScaler()</pre></div></div></div><div class=\"sk-item\"><div class=\"sk-estimator sk-toggleable\"><input class=\"sk-toggleable__control sk-hidden--visually\" id=\"sk-estimator-id-31\" type=\"checkbox\" ><label for=\"sk-estimator-id-31\" class=\"sk-toggleable__label sk-toggleable__label-arrow\">KNeighborsClassifier</label><div class=\"sk-toggleable__content\"><pre>KNeighborsClassifier(n_neighbors=6)</pre></div></div></div></div></div></div></div>"
            ]
          },
          "metadata": {},
          "execution_count": 144
        }
      ],
      "source": [
        "#training model KNN\n",
        "pipe_knn.fit(X_train, y_train)"
      ]
    },
    {
      "cell_type": "code",
      "execution_count": 145,
      "metadata": {
        "id": "OxTkwbaN11Py"
      },
      "outputs": [],
      "source": [
        "# Memprediksi label pada data test\n",
        "y_pred_knn = pipe_knn.predict(X_test)"
      ]
    },
    {
      "cell_type": "markdown",
      "metadata": {
        "id": "PrTsMjUv3PuA"
      },
      "source": [
        "##Naive Bayes"
      ]
    },
    {
      "cell_type": "code",
      "execution_count": 146,
      "metadata": {
        "colab": {
          "base_uri": "https://localhost:8080/",
          "height": 126
        },
        "id": "o0Fe-6vY3Tct",
        "outputId": "d016d3dd-5125-4996-d1a9-395e5651e259"
      },
      "outputs": [
        {
          "output_type": "execute_result",
          "data": {
            "text/plain": [
              "Pipeline(steps=[('scaler', StandardScaler()), ('NaiveBayes', GaussianNB())])"
            ],
            "text/html": [
              "<style>#sk-container-id-12 {color: black;background-color: white;}#sk-container-id-12 pre{padding: 0;}#sk-container-id-12 div.sk-toggleable {background-color: white;}#sk-container-id-12 label.sk-toggleable__label {cursor: pointer;display: block;width: 100%;margin-bottom: 0;padding: 0.3em;box-sizing: border-box;text-align: center;}#sk-container-id-12 label.sk-toggleable__label-arrow:before {content: \"▸\";float: left;margin-right: 0.25em;color: #696969;}#sk-container-id-12 label.sk-toggleable__label-arrow:hover:before {color: black;}#sk-container-id-12 div.sk-estimator:hover label.sk-toggleable__label-arrow:before {color: black;}#sk-container-id-12 div.sk-toggleable__content {max-height: 0;max-width: 0;overflow: hidden;text-align: left;background-color: #f0f8ff;}#sk-container-id-12 div.sk-toggleable__content pre {margin: 0.2em;color: black;border-radius: 0.25em;background-color: #f0f8ff;}#sk-container-id-12 input.sk-toggleable__control:checked~div.sk-toggleable__content {max-height: 200px;max-width: 100%;overflow: auto;}#sk-container-id-12 input.sk-toggleable__control:checked~label.sk-toggleable__label-arrow:before {content: \"▾\";}#sk-container-id-12 div.sk-estimator input.sk-toggleable__control:checked~label.sk-toggleable__label {background-color: #d4ebff;}#sk-container-id-12 div.sk-label input.sk-toggleable__control:checked~label.sk-toggleable__label {background-color: #d4ebff;}#sk-container-id-12 input.sk-hidden--visually {border: 0;clip: rect(1px 1px 1px 1px);clip: rect(1px, 1px, 1px, 1px);height: 1px;margin: -1px;overflow: hidden;padding: 0;position: absolute;width: 1px;}#sk-container-id-12 div.sk-estimator {font-family: monospace;background-color: #f0f8ff;border: 1px dotted black;border-radius: 0.25em;box-sizing: border-box;margin-bottom: 0.5em;}#sk-container-id-12 div.sk-estimator:hover {background-color: #d4ebff;}#sk-container-id-12 div.sk-parallel-item::after {content: \"\";width: 100%;border-bottom: 1px solid gray;flex-grow: 1;}#sk-container-id-12 div.sk-label:hover label.sk-toggleable__label {background-color: #d4ebff;}#sk-container-id-12 div.sk-serial::before {content: \"\";position: absolute;border-left: 1px solid gray;box-sizing: border-box;top: 0;bottom: 0;left: 50%;z-index: 0;}#sk-container-id-12 div.sk-serial {display: flex;flex-direction: column;align-items: center;background-color: white;padding-right: 0.2em;padding-left: 0.2em;position: relative;}#sk-container-id-12 div.sk-item {position: relative;z-index: 1;}#sk-container-id-12 div.sk-parallel {display: flex;align-items: stretch;justify-content: center;background-color: white;position: relative;}#sk-container-id-12 div.sk-item::before, #sk-container-id-12 div.sk-parallel-item::before {content: \"\";position: absolute;border-left: 1px solid gray;box-sizing: border-box;top: 0;bottom: 0;left: 50%;z-index: -1;}#sk-container-id-12 div.sk-parallel-item {display: flex;flex-direction: column;z-index: 1;position: relative;background-color: white;}#sk-container-id-12 div.sk-parallel-item:first-child::after {align-self: flex-end;width: 50%;}#sk-container-id-12 div.sk-parallel-item:last-child::after {align-self: flex-start;width: 50%;}#sk-container-id-12 div.sk-parallel-item:only-child::after {width: 0;}#sk-container-id-12 div.sk-dashed-wrapped {border: 1px dashed gray;margin: 0 0.4em 0.5em 0.4em;box-sizing: border-box;padding-bottom: 0.4em;background-color: white;}#sk-container-id-12 div.sk-label label {font-family: monospace;font-weight: bold;display: inline-block;line-height: 1.2em;}#sk-container-id-12 div.sk-label-container {text-align: center;}#sk-container-id-12 div.sk-container {/* jupyter's `normalize.less` sets `[hidden] { display: none; }` but bootstrap.min.css set `[hidden] { display: none !important; }` so we also need the `!important` here to be able to override the default hidden behavior on the sphinx rendered scikit-learn.org. See: https://github.com/scikit-learn/scikit-learn/issues/21755 */display: inline-block !important;position: relative;}#sk-container-id-12 div.sk-text-repr-fallback {display: none;}</style><div id=\"sk-container-id-12\" class=\"sk-top-container\"><div class=\"sk-text-repr-fallback\"><pre>Pipeline(steps=[(&#x27;scaler&#x27;, StandardScaler()), (&#x27;NaiveBayes&#x27;, GaussianNB())])</pre><b>In a Jupyter environment, please rerun this cell to show the HTML representation or trust the notebook. <br />On GitHub, the HTML representation is unable to render, please try loading this page with nbviewer.org.</b></div><div class=\"sk-container\" hidden><div class=\"sk-item sk-dashed-wrapped\"><div class=\"sk-label-container\"><div class=\"sk-label sk-toggleable\"><input class=\"sk-toggleable__control sk-hidden--visually\" id=\"sk-estimator-id-32\" type=\"checkbox\" ><label for=\"sk-estimator-id-32\" class=\"sk-toggleable__label sk-toggleable__label-arrow\">Pipeline</label><div class=\"sk-toggleable__content\"><pre>Pipeline(steps=[(&#x27;scaler&#x27;, StandardScaler()), (&#x27;NaiveBayes&#x27;, GaussianNB())])</pre></div></div></div><div class=\"sk-serial\"><div class=\"sk-item\"><div class=\"sk-estimator sk-toggleable\"><input class=\"sk-toggleable__control sk-hidden--visually\" id=\"sk-estimator-id-33\" type=\"checkbox\" ><label for=\"sk-estimator-id-33\" class=\"sk-toggleable__label sk-toggleable__label-arrow\">StandardScaler</label><div class=\"sk-toggleable__content\"><pre>StandardScaler()</pre></div></div></div><div class=\"sk-item\"><div class=\"sk-estimator sk-toggleable\"><input class=\"sk-toggleable__control sk-hidden--visually\" id=\"sk-estimator-id-34\" type=\"checkbox\" ><label for=\"sk-estimator-id-34\" class=\"sk-toggleable__label sk-toggleable__label-arrow\">GaussianNB</label><div class=\"sk-toggleable__content\"><pre>GaussianNB()</pre></div></div></div></div></div></div></div>"
            ]
          },
          "metadata": {},
          "execution_count": 146
        }
      ],
      "source": [
        "#training model Naive Bayes\n",
        "pipe_nb.fit(X_train, y_train)"
      ]
    },
    {
      "cell_type": "code",
      "execution_count": 147,
      "metadata": {
        "id": "DqIUnVKB3X2V"
      },
      "outputs": [],
      "source": [
        "# Memprediksi label pada data test\n",
        "y_pred_nb = pipe_nb.predict(X_test)"
      ]
    },
    {
      "cell_type": "markdown",
      "metadata": {
        "id": "9GGgtVzq4_G_"
      },
      "source": [
        "##Random Forest"
      ]
    },
    {
      "cell_type": "code",
      "execution_count": 148,
      "metadata": {
        "colab": {
          "base_uri": "https://localhost:8080/",
          "height": 126
        },
        "id": "ErqleT7Z5BZi",
        "outputId": "2ddca2b7-e02d-49a2-dd11-dd4c59217ddb"
      },
      "outputs": [
        {
          "output_type": "execute_result",
          "data": {
            "text/plain": [
              "Pipeline(steps=[('scaler', StandardScaler()),\n",
              "                ('RandomForest',\n",
              "                 RandomForestClassifier(n_estimators=500, random_state=18))])"
            ],
            "text/html": [
              "<style>#sk-container-id-13 {color: black;background-color: white;}#sk-container-id-13 pre{padding: 0;}#sk-container-id-13 div.sk-toggleable {background-color: white;}#sk-container-id-13 label.sk-toggleable__label {cursor: pointer;display: block;width: 100%;margin-bottom: 0;padding: 0.3em;box-sizing: border-box;text-align: center;}#sk-container-id-13 label.sk-toggleable__label-arrow:before {content: \"▸\";float: left;margin-right: 0.25em;color: #696969;}#sk-container-id-13 label.sk-toggleable__label-arrow:hover:before {color: black;}#sk-container-id-13 div.sk-estimator:hover label.sk-toggleable__label-arrow:before {color: black;}#sk-container-id-13 div.sk-toggleable__content {max-height: 0;max-width: 0;overflow: hidden;text-align: left;background-color: #f0f8ff;}#sk-container-id-13 div.sk-toggleable__content pre {margin: 0.2em;color: black;border-radius: 0.25em;background-color: #f0f8ff;}#sk-container-id-13 input.sk-toggleable__control:checked~div.sk-toggleable__content {max-height: 200px;max-width: 100%;overflow: auto;}#sk-container-id-13 input.sk-toggleable__control:checked~label.sk-toggleable__label-arrow:before {content: \"▾\";}#sk-container-id-13 div.sk-estimator input.sk-toggleable__control:checked~label.sk-toggleable__label {background-color: #d4ebff;}#sk-container-id-13 div.sk-label input.sk-toggleable__control:checked~label.sk-toggleable__label {background-color: #d4ebff;}#sk-container-id-13 input.sk-hidden--visually {border: 0;clip: rect(1px 1px 1px 1px);clip: rect(1px, 1px, 1px, 1px);height: 1px;margin: -1px;overflow: hidden;padding: 0;position: absolute;width: 1px;}#sk-container-id-13 div.sk-estimator {font-family: monospace;background-color: #f0f8ff;border: 1px dotted black;border-radius: 0.25em;box-sizing: border-box;margin-bottom: 0.5em;}#sk-container-id-13 div.sk-estimator:hover {background-color: #d4ebff;}#sk-container-id-13 div.sk-parallel-item::after {content: \"\";width: 100%;border-bottom: 1px solid gray;flex-grow: 1;}#sk-container-id-13 div.sk-label:hover label.sk-toggleable__label {background-color: #d4ebff;}#sk-container-id-13 div.sk-serial::before {content: \"\";position: absolute;border-left: 1px solid gray;box-sizing: border-box;top: 0;bottom: 0;left: 50%;z-index: 0;}#sk-container-id-13 div.sk-serial {display: flex;flex-direction: column;align-items: center;background-color: white;padding-right: 0.2em;padding-left: 0.2em;position: relative;}#sk-container-id-13 div.sk-item {position: relative;z-index: 1;}#sk-container-id-13 div.sk-parallel {display: flex;align-items: stretch;justify-content: center;background-color: white;position: relative;}#sk-container-id-13 div.sk-item::before, #sk-container-id-13 div.sk-parallel-item::before {content: \"\";position: absolute;border-left: 1px solid gray;box-sizing: border-box;top: 0;bottom: 0;left: 50%;z-index: -1;}#sk-container-id-13 div.sk-parallel-item {display: flex;flex-direction: column;z-index: 1;position: relative;background-color: white;}#sk-container-id-13 div.sk-parallel-item:first-child::after {align-self: flex-end;width: 50%;}#sk-container-id-13 div.sk-parallel-item:last-child::after {align-self: flex-start;width: 50%;}#sk-container-id-13 div.sk-parallel-item:only-child::after {width: 0;}#sk-container-id-13 div.sk-dashed-wrapped {border: 1px dashed gray;margin: 0 0.4em 0.5em 0.4em;box-sizing: border-box;padding-bottom: 0.4em;background-color: white;}#sk-container-id-13 div.sk-label label {font-family: monospace;font-weight: bold;display: inline-block;line-height: 1.2em;}#sk-container-id-13 div.sk-label-container {text-align: center;}#sk-container-id-13 div.sk-container {/* jupyter's `normalize.less` sets `[hidden] { display: none; }` but bootstrap.min.css set `[hidden] { display: none !important; }` so we also need the `!important` here to be able to override the default hidden behavior on the sphinx rendered scikit-learn.org. See: https://github.com/scikit-learn/scikit-learn/issues/21755 */display: inline-block !important;position: relative;}#sk-container-id-13 div.sk-text-repr-fallback {display: none;}</style><div id=\"sk-container-id-13\" class=\"sk-top-container\"><div class=\"sk-text-repr-fallback\"><pre>Pipeline(steps=[(&#x27;scaler&#x27;, StandardScaler()),\n",
              "                (&#x27;RandomForest&#x27;,\n",
              "                 RandomForestClassifier(n_estimators=500, random_state=18))])</pre><b>In a Jupyter environment, please rerun this cell to show the HTML representation or trust the notebook. <br />On GitHub, the HTML representation is unable to render, please try loading this page with nbviewer.org.</b></div><div class=\"sk-container\" hidden><div class=\"sk-item sk-dashed-wrapped\"><div class=\"sk-label-container\"><div class=\"sk-label sk-toggleable\"><input class=\"sk-toggleable__control sk-hidden--visually\" id=\"sk-estimator-id-35\" type=\"checkbox\" ><label for=\"sk-estimator-id-35\" class=\"sk-toggleable__label sk-toggleable__label-arrow\">Pipeline</label><div class=\"sk-toggleable__content\"><pre>Pipeline(steps=[(&#x27;scaler&#x27;, StandardScaler()),\n",
              "                (&#x27;RandomForest&#x27;,\n",
              "                 RandomForestClassifier(n_estimators=500, random_state=18))])</pre></div></div></div><div class=\"sk-serial\"><div class=\"sk-item\"><div class=\"sk-estimator sk-toggleable\"><input class=\"sk-toggleable__control sk-hidden--visually\" id=\"sk-estimator-id-36\" type=\"checkbox\" ><label for=\"sk-estimator-id-36\" class=\"sk-toggleable__label sk-toggleable__label-arrow\">StandardScaler</label><div class=\"sk-toggleable__content\"><pre>StandardScaler()</pre></div></div></div><div class=\"sk-item\"><div class=\"sk-estimator sk-toggleable\"><input class=\"sk-toggleable__control sk-hidden--visually\" id=\"sk-estimator-id-37\" type=\"checkbox\" ><label for=\"sk-estimator-id-37\" class=\"sk-toggleable__label sk-toggleable__label-arrow\">RandomForestClassifier</label><div class=\"sk-toggleable__content\"><pre>RandomForestClassifier(n_estimators=500, random_state=18)</pre></div></div></div></div></div></div></div>"
            ]
          },
          "metadata": {},
          "execution_count": 148
        }
      ],
      "source": [
        "#training model Random Forest\n",
        "pipe_rf.fit(X_train, y_train)"
      ]
    },
    {
      "cell_type": "code",
      "execution_count": 149,
      "metadata": {
        "id": "C0Xch16Y5E2s"
      },
      "outputs": [],
      "source": [
        "# Memprediksi label pada data test\n",
        "y_pred_rf = pipe_rf.predict(X_test)"
      ]
    },
    {
      "cell_type": "markdown",
      "metadata": {
        "id": "HWooy0SJBjaS"
      },
      "source": [
        "##Gradient Boosting"
      ]
    },
    {
      "cell_type": "code",
      "execution_count": 150,
      "metadata": {
        "colab": {
          "base_uri": "https://localhost:8080/",
          "height": 126
        },
        "id": "J-2rXoPHBpE0",
        "outputId": "0f3169ae-072f-4d5e-8924-716b70214076"
      },
      "outputs": [
        {
          "output_type": "execute_result",
          "data": {
            "text/plain": [
              "Pipeline(steps=[('scaler', StandardScaler()),\n",
              "                ('GradientBoosting', GradientBoostingClassifier())])"
            ],
            "text/html": [
              "<style>#sk-container-id-14 {color: black;background-color: white;}#sk-container-id-14 pre{padding: 0;}#sk-container-id-14 div.sk-toggleable {background-color: white;}#sk-container-id-14 label.sk-toggleable__label {cursor: pointer;display: block;width: 100%;margin-bottom: 0;padding: 0.3em;box-sizing: border-box;text-align: center;}#sk-container-id-14 label.sk-toggleable__label-arrow:before {content: \"▸\";float: left;margin-right: 0.25em;color: #696969;}#sk-container-id-14 label.sk-toggleable__label-arrow:hover:before {color: black;}#sk-container-id-14 div.sk-estimator:hover label.sk-toggleable__label-arrow:before {color: black;}#sk-container-id-14 div.sk-toggleable__content {max-height: 0;max-width: 0;overflow: hidden;text-align: left;background-color: #f0f8ff;}#sk-container-id-14 div.sk-toggleable__content pre {margin: 0.2em;color: black;border-radius: 0.25em;background-color: #f0f8ff;}#sk-container-id-14 input.sk-toggleable__control:checked~div.sk-toggleable__content {max-height: 200px;max-width: 100%;overflow: auto;}#sk-container-id-14 input.sk-toggleable__control:checked~label.sk-toggleable__label-arrow:before {content: \"▾\";}#sk-container-id-14 div.sk-estimator input.sk-toggleable__control:checked~label.sk-toggleable__label {background-color: #d4ebff;}#sk-container-id-14 div.sk-label input.sk-toggleable__control:checked~label.sk-toggleable__label {background-color: #d4ebff;}#sk-container-id-14 input.sk-hidden--visually {border: 0;clip: rect(1px 1px 1px 1px);clip: rect(1px, 1px, 1px, 1px);height: 1px;margin: -1px;overflow: hidden;padding: 0;position: absolute;width: 1px;}#sk-container-id-14 div.sk-estimator {font-family: monospace;background-color: #f0f8ff;border: 1px dotted black;border-radius: 0.25em;box-sizing: border-box;margin-bottom: 0.5em;}#sk-container-id-14 div.sk-estimator:hover {background-color: #d4ebff;}#sk-container-id-14 div.sk-parallel-item::after {content: \"\";width: 100%;border-bottom: 1px solid gray;flex-grow: 1;}#sk-container-id-14 div.sk-label:hover label.sk-toggleable__label {background-color: #d4ebff;}#sk-container-id-14 div.sk-serial::before {content: \"\";position: absolute;border-left: 1px solid gray;box-sizing: border-box;top: 0;bottom: 0;left: 50%;z-index: 0;}#sk-container-id-14 div.sk-serial {display: flex;flex-direction: column;align-items: center;background-color: white;padding-right: 0.2em;padding-left: 0.2em;position: relative;}#sk-container-id-14 div.sk-item {position: relative;z-index: 1;}#sk-container-id-14 div.sk-parallel {display: flex;align-items: stretch;justify-content: center;background-color: white;position: relative;}#sk-container-id-14 div.sk-item::before, #sk-container-id-14 div.sk-parallel-item::before {content: \"\";position: absolute;border-left: 1px solid gray;box-sizing: border-box;top: 0;bottom: 0;left: 50%;z-index: -1;}#sk-container-id-14 div.sk-parallel-item {display: flex;flex-direction: column;z-index: 1;position: relative;background-color: white;}#sk-container-id-14 div.sk-parallel-item:first-child::after {align-self: flex-end;width: 50%;}#sk-container-id-14 div.sk-parallel-item:last-child::after {align-self: flex-start;width: 50%;}#sk-container-id-14 div.sk-parallel-item:only-child::after {width: 0;}#sk-container-id-14 div.sk-dashed-wrapped {border: 1px dashed gray;margin: 0 0.4em 0.5em 0.4em;box-sizing: border-box;padding-bottom: 0.4em;background-color: white;}#sk-container-id-14 div.sk-label label {font-family: monospace;font-weight: bold;display: inline-block;line-height: 1.2em;}#sk-container-id-14 div.sk-label-container {text-align: center;}#sk-container-id-14 div.sk-container {/* jupyter's `normalize.less` sets `[hidden] { display: none; }` but bootstrap.min.css set `[hidden] { display: none !important; }` so we also need the `!important` here to be able to override the default hidden behavior on the sphinx rendered scikit-learn.org. See: https://github.com/scikit-learn/scikit-learn/issues/21755 */display: inline-block !important;position: relative;}#sk-container-id-14 div.sk-text-repr-fallback {display: none;}</style><div id=\"sk-container-id-14\" class=\"sk-top-container\"><div class=\"sk-text-repr-fallback\"><pre>Pipeline(steps=[(&#x27;scaler&#x27;, StandardScaler()),\n",
              "                (&#x27;GradientBoosting&#x27;, GradientBoostingClassifier())])</pre><b>In a Jupyter environment, please rerun this cell to show the HTML representation or trust the notebook. <br />On GitHub, the HTML representation is unable to render, please try loading this page with nbviewer.org.</b></div><div class=\"sk-container\" hidden><div class=\"sk-item sk-dashed-wrapped\"><div class=\"sk-label-container\"><div class=\"sk-label sk-toggleable\"><input class=\"sk-toggleable__control sk-hidden--visually\" id=\"sk-estimator-id-38\" type=\"checkbox\" ><label for=\"sk-estimator-id-38\" class=\"sk-toggleable__label sk-toggleable__label-arrow\">Pipeline</label><div class=\"sk-toggleable__content\"><pre>Pipeline(steps=[(&#x27;scaler&#x27;, StandardScaler()),\n",
              "                (&#x27;GradientBoosting&#x27;, GradientBoostingClassifier())])</pre></div></div></div><div class=\"sk-serial\"><div class=\"sk-item\"><div class=\"sk-estimator sk-toggleable\"><input class=\"sk-toggleable__control sk-hidden--visually\" id=\"sk-estimator-id-39\" type=\"checkbox\" ><label for=\"sk-estimator-id-39\" class=\"sk-toggleable__label sk-toggleable__label-arrow\">StandardScaler</label><div class=\"sk-toggleable__content\"><pre>StandardScaler()</pre></div></div></div><div class=\"sk-item\"><div class=\"sk-estimator sk-toggleable\"><input class=\"sk-toggleable__control sk-hidden--visually\" id=\"sk-estimator-id-40\" type=\"checkbox\" ><label for=\"sk-estimator-id-40\" class=\"sk-toggleable__label sk-toggleable__label-arrow\">GradientBoostingClassifier</label><div class=\"sk-toggleable__content\"><pre>GradientBoostingClassifier()</pre></div></div></div></div></div></div></div>"
            ]
          },
          "metadata": {},
          "execution_count": 150
        }
      ],
      "source": [
        "#traning model Gradient Boosting\n",
        "pipe_gb.fit(X_train, y_train)"
      ]
    },
    {
      "cell_type": "code",
      "execution_count": 151,
      "metadata": {
        "id": "w3H6PnwgB63c"
      },
      "outputs": [],
      "source": [
        "#prediksi model\n",
        "y_pred_gb = pipe_gb.predict(X_test)"
      ]
    },
    {
      "cell_type": "markdown",
      "metadata": {
        "id": "yL9raAKCw4Sx"
      },
      "source": [
        "#VIII. Model Evaluation"
      ]
    },
    {
      "cell_type": "markdown",
      "metadata": {
        "id": "lYNHoYpZ3M55"
      },
      "source": [
        "##Logistic Regression"
      ]
    },
    {
      "cell_type": "code",
      "execution_count": 152,
      "metadata": {
        "colab": {
          "base_uri": "https://localhost:8080/"
        },
        "id": "XdzLVtwmxBva",
        "outputId": "3fef6785-09c5-4cb1-de42-fb14e4322940"
      },
      "outputs": [
        {
          "output_type": "stream",
          "name": "stdout",
          "text": [
            "ROC AUC Score: 0.7029738031576267\n"
          ]
        }
      ],
      "source": [
        "#melakukan prediksi proba dan hitung score \n",
        "y_pred_proba_log = pipe_logistic.predict_proba(X_test)[:,1]\n",
        "auc_score_log = roc_auc_score(y_test, y_pred_proba_log)\n",
        "print(\"ROC AUC Score:\", auc_score_log)"
      ]
    },
    {
      "cell_type": "code",
      "execution_count": 153,
      "metadata": {
        "colab": {
          "base_uri": "https://localhost:8080/"
        },
        "id": "roHzWM4Txzna",
        "outputId": "6212e226-c4cc-4d8f-ef31-b229c356a181"
      },
      "outputs": [
        {
          "output_type": "stream",
          "name": "stdout",
          "text": [
            "Classification Report:\n",
            "              precision    recall  f1-score   support\n",
            "\n",
            "           0       0.85      0.96      0.90       714\n",
            "           1       0.66      0.34      0.45       176\n",
            "\n",
            "    accuracy                           0.83       890\n",
            "   macro avg       0.76      0.65      0.68       890\n",
            "weighted avg       0.82      0.83      0.81       890\n",
            "\n",
            "AUC-ROC Score: 0.703\n"
          ]
        }
      ],
      "source": [
        "# Menghitung metrik evaluasi\n",
        "print(\"Classification Report:\")\n",
        "print(classification_report(y_test, y_pred_log))\n",
        "\n",
        "auc_score_log = roc_auc_score(y_test, y_pred_proba_log)\n",
        "print(f\"AUC-ROC Score: {auc_score_log:.3f}\") "
      ]
    },
    {
      "cell_type": "markdown",
      "metadata": {
        "id": "V1cYroVu0ub7"
      },
      "source": [
        "model logistic regression memiliki akurasi sebesar 0.83, yang berarti model berhasil memprediksi 83% data dengan benar. Namun, recall untuk class 1 (orang yang gagal membayar) cukup rendah, yaitu sebesar 0.34, yang berarti model cenderung banyak memprediksi orang yang sebenarnya mampu membayar sebagai orang yang gagal membayar."
      ]
    },
    {
      "cell_type": "markdown",
      "metadata": {
        "id": "9xn2xcea4kRN"
      },
      "source": [
        "##SVM"
      ]
    },
    {
      "cell_type": "code",
      "execution_count": 154,
      "metadata": {
        "colab": {
          "base_uri": "https://localhost:8080/"
        },
        "id": "st4GlHF34lmN",
        "outputId": "050bc04e-e31b-4fbc-e7a2-286e40037a76"
      },
      "outputs": [
        {
          "output_type": "stream",
          "name": "stdout",
          "text": [
            "ROC AUC score: 0.6863501082251081\n"
          ]
        }
      ],
      "source": [
        "# Predict the probabilities of the test set\n",
        "y_pred_proba_svm = pipe_svm.predict_proba(X_test)[:, 1]\n",
        "roc_auc_svm = roc_auc_score(y_test, y_pred_proba_svm)\n",
        "print(f\"ROC AUC score: {roc_auc_svm}\")"
      ]
    },
    {
      "cell_type": "code",
      "execution_count": 155,
      "metadata": {
        "colab": {
          "base_uri": "https://localhost:8080/"
        },
        "id": "mJgxKVm547If",
        "outputId": "c7be6c75-8e94-4f86-dd11-ed6806ae4cbb"
      },
      "outputs": [
        {
          "output_type": "stream",
          "name": "stdout",
          "text": [
            "Classification Report:\n",
            "              precision    recall  f1-score   support\n",
            "\n",
            "           0       0.86      0.93      0.90       714\n",
            "           1       0.60      0.40      0.48       176\n",
            "\n",
            "    accuracy                           0.83       890\n",
            "   macro avg       0.73      0.67      0.69       890\n",
            "weighted avg       0.81      0.83      0.81       890\n",
            "\n",
            "AUC-ROC Score: 0.686\n"
          ]
        }
      ],
      "source": [
        "# Menghitung metrik evaluasi\n",
        "print(\"Classification Report:\")\n",
        "print(classification_report(y_test, y_pred_svm))\n",
        "\n",
        "auc_score_svm = roc_auc_score(y_test, y_pred_proba_svm)\n",
        "print(f\"AUC-ROC Score: {auc_score_svm:.3f}\") "
      ]
    },
    {
      "cell_type": "markdown",
      "source": [
        "Model SVM memiliki akurasi sebesar 83%, dengan kemampuan lebih baik dalam memprediksi class 0 daripada class 1. Model ini juga memiliki kemampuan yang cukup baik dalam membedakan antara class 0 dan 1 dengan skor AUC-ROC sebesar 0.686"
      ],
      "metadata": {
        "id": "bgxcn9KIdQvE"
      }
    },
    {
      "cell_type": "markdown",
      "metadata": {
        "id": "SFOo4K-Q8n55"
      },
      "source": [
        "##Decision Tree"
      ]
    },
    {
      "cell_type": "code",
      "execution_count": 156,
      "metadata": {
        "colab": {
          "base_uri": "https://localhost:8080/"
        },
        "id": "UiQW3v2l5SPg",
        "outputId": "e6ed1fa0-c974-45ed-a9ac-10f0aa67ea86"
      },
      "outputs": [
        {
          "output_type": "stream",
          "name": "stdout",
          "text": [
            "ROC AUC Score: 0.7031329577285461\n"
          ]
        }
      ],
      "source": [
        "#melakukan prediksi proba dan hitung score \n",
        "y_pred_proba_dt = pipe_dt.predict_proba(X_test)[:,1]\n",
        "auc_score_dt = roc_auc_score(y_test, y_pred_proba_dt)\n",
        "print(\"ROC AUC Score:\", auc_score_dt)"
      ]
    },
    {
      "cell_type": "code",
      "execution_count": 157,
      "metadata": {
        "colab": {
          "base_uri": "https://localhost:8080/"
        },
        "id": "jr_QeTQW9Jr_",
        "outputId": "64e24915-2719-4cae-9bd7-fc04713dd096"
      },
      "outputs": [
        {
          "output_type": "stream",
          "name": "stdout",
          "text": [
            "Classification Report:\n",
            "              precision    recall  f1-score   support\n",
            "\n",
            "           0       0.86      0.93      0.90       714\n",
            "           1       0.59      0.39      0.47       176\n",
            "\n",
            "    accuracy                           0.83       890\n",
            "   macro avg       0.73      0.66      0.68       890\n",
            "weighted avg       0.81      0.83      0.81       890\n",
            "\n",
            "AUC-ROC Score: 0.703\n"
          ]
        }
      ],
      "source": [
        "# Menghitung metrik evaluasi\n",
        "print(\"Classification Report:\")\n",
        "print(classification_report(y_test, y_pred_dt))\n",
        "\n",
        "auc_score_dt = roc_auc_score(y_test, y_pred_proba_dt)\n",
        "print(f\"AUC-ROC Score: {auc_score_dt:.3f}\") "
      ]
    },
    {
      "cell_type": "markdown",
      "source": [
        "Model decision tree memiliki tingkat akurasi 83% dengan recall yang cukup rendah di class 1 39%. AUC-ROC Score sebesar 0.698 menunjukkan model cukup baik dalam membedakan antara class 0 dan 1."
      ],
      "metadata": {
        "id": "vrO_Bh1uftFR"
      }
    },
    {
      "cell_type": "markdown",
      "metadata": {
        "id": "gCmh0mxM16m_"
      },
      "source": [
        "##K-Neighbors (KNN)"
      ]
    },
    {
      "cell_type": "code",
      "execution_count": 158,
      "metadata": {
        "colab": {
          "base_uri": "https://localhost:8080/"
        },
        "id": "51XpcMqT9Tfc",
        "outputId": "149d24a0-71ad-4e16-c5ca-2c3b9b24b40c"
      },
      "outputs": [
        {
          "output_type": "stream",
          "name": "stdout",
          "text": [
            "ROC AUC Score: 0.701792080468551\n"
          ]
        }
      ],
      "source": [
        "#melakukan prediksi proba dan hitung score \n",
        "y_pred_proba_knn = pipe_knn.predict_proba(X_test)[:,1]\n",
        "auc_score_knn = roc_auc_score(y_test, y_pred_proba_knn)\n",
        "print(\"ROC AUC Score:\", auc_score_knn)"
      ]
    },
    {
      "cell_type": "code",
      "execution_count": 159,
      "metadata": {
        "colab": {
          "base_uri": "https://localhost:8080/"
        },
        "id": "YKy75W6E2aQy",
        "outputId": "aec1c95c-c0df-4a63-df50-3e641bb5a20d"
      },
      "outputs": [
        {
          "output_type": "stream",
          "name": "stdout",
          "text": [
            "Classification Report:\n",
            "              precision    recall  f1-score   support\n",
            "\n",
            "           0       0.86      0.95      0.90       714\n",
            "           1       0.64      0.36      0.46       176\n",
            "\n",
            "    accuracy                           0.83       890\n",
            "   macro avg       0.75      0.66      0.68       890\n",
            "weighted avg       0.82      0.83      0.82       890\n",
            "\n",
            "AUC-ROC Score: 0.702\n"
          ]
        }
      ],
      "source": [
        "# Menghitung metrik evaluasi\n",
        "print(\"Classification Report:\")\n",
        "print(classification_report(y_test, y_pred_knn))\n",
        "\n",
        "auc_score_knn = roc_auc_score(y_test, y_pred_proba_knn)\n",
        "print(f\"AUC-ROC Score: {auc_score_knn:.3f}\") "
      ]
    },
    {
      "cell_type": "markdown",
      "source": [
        "Model decision tree memiliki tingkat akurasi 83% dengan recall yang cukup rendah class 1 36%. AUC-ROC Score sebesar 0.698 menunjukkan model cukup baik dalam membedakan antara class 0 dan 1."
      ],
      "metadata": {
        "id": "qSRAowv8gHJ0"
      }
    },
    {
      "cell_type": "markdown",
      "metadata": {
        "id": "npCHDiB33ftZ"
      },
      "source": [
        "##Naive Bayes"
      ]
    },
    {
      "cell_type": "code",
      "execution_count": 160,
      "metadata": {
        "colab": {
          "base_uri": "https://localhost:8080/"
        },
        "id": "yqAtiq3M3kOO",
        "outputId": "106ab24b-250c-4a00-981d-0ca27c09989e"
      },
      "outputs": [
        {
          "output_type": "stream",
          "name": "stdout",
          "text": [
            "ROC AUC Score: 0.7309611344537815\n"
          ]
        }
      ],
      "source": [
        "#melakukan prediksi proba dan hitung score \n",
        "y_pred_proba_nb = pipe_nb.predict_proba(X_test)[:,1]\n",
        "auc_score_nb = roc_auc_score(y_test, y_pred_proba_nb)\n",
        "print(\"ROC AUC Score:\", auc_score_nb)"
      ]
    },
    {
      "cell_type": "code",
      "execution_count": 161,
      "metadata": {
        "colab": {
          "base_uri": "https://localhost:8080/"
        },
        "id": "oe7-Aijt3yzB",
        "outputId": "7b065ad3-f655-467e-c975-bbef4df4267b"
      },
      "outputs": [
        {
          "output_type": "stream",
          "name": "stdout",
          "text": [
            "Classification Report:\n",
            "              precision    recall  f1-score   support\n",
            "\n",
            "           0       0.86      0.90      0.88       714\n",
            "           1       0.50      0.41      0.45       176\n",
            "\n",
            "    accuracy                           0.80       890\n",
            "   macro avg       0.68      0.66      0.67       890\n",
            "weighted avg       0.79      0.80      0.80       890\n",
            "\n",
            "AUC-ROC Score: 0.731\n"
          ]
        }
      ],
      "source": [
        "# Menghitung metrik evaluasi\n",
        "print(\"Classification Report:\")\n",
        "print(classification_report(y_test, y_pred_nb))\n",
        "\n",
        "auc_score_nb = roc_auc_score(y_test, y_pred_proba_nb)\n",
        "print(f\"AUC-ROC Score: {auc_score_nb:.3f}\") "
      ]
    },
    {
      "cell_type": "markdown",
      "source": [
        "Model Naive Bayes memiliki akurasi sebesar 80%, dengan kemampuan lebih baik dalam memprediksi class 0 daripada class 1. Model ini juga memiliki kemampuan yang cukup baik dalam membedakan antara class 0 dan 1 dengan skor AUC-ROC sebesar 0.731"
      ],
      "metadata": {
        "id": "eBJzy2bSjOVC"
      }
    },
    {
      "cell_type": "markdown",
      "metadata": {
        "id": "KARotKXc5IN-"
      },
      "source": [
        "##Random Forest"
      ]
    },
    {
      "cell_type": "code",
      "execution_count": 162,
      "metadata": {
        "colab": {
          "base_uri": "https://localhost:8080/"
        },
        "id": "nGqd8W1k5KYh",
        "outputId": "d991d5e1-da8e-4657-90ac-64b06ac66d05"
      },
      "outputs": [
        {
          "output_type": "stream",
          "name": "stdout",
          "text": [
            "ROC AUC Score: 0.7061171059332825\n"
          ]
        },
        {
          "output_type": "stream",
          "name": "stderr",
          "text": [
            "/usr/local/lib/python3.9/dist-packages/sklearn/base.py:439: UserWarning: X does not have valid feature names, but StandardScaler was fitted with feature names\n",
            "  warnings.warn(\n"
          ]
        }
      ],
      "source": [
        "#melakukan prediksi proba dan hitung score \n",
        "y_pred_proba_rf = pipe_rf.predict_proba(X_test_scaled)[:,1]\n",
        "auc_score_rf = roc_auc_score(y_test, y_pred_proba_rf)\n",
        "print(\"ROC AUC Score:\", auc_score_rf)"
      ]
    },
    {
      "cell_type": "code",
      "execution_count": 163,
      "metadata": {
        "colab": {
          "base_uri": "https://localhost:8080/"
        },
        "id": "xRQ_jVtc5U_S",
        "outputId": "6c456579-9d1c-42c1-82df-5c72c8844956"
      },
      "outputs": [
        {
          "output_type": "stream",
          "name": "stdout",
          "text": [
            "Classification Report:\n",
            "              precision    recall  f1-score   support\n",
            "\n",
            "           0       0.87      0.93      0.90       714\n",
            "           1       0.59      0.43      0.50       176\n",
            "\n",
            "    accuracy                           0.83       890\n",
            "   macro avg       0.73      0.68      0.70       890\n",
            "weighted avg       0.81      0.83      0.82       890\n",
            "\n",
            "AUC-ROC Score: 0.706\n"
          ]
        }
      ],
      "source": [
        "# Menghitung metrik evaluasi\n",
        "print(\"Classification Report:\")\n",
        "print(classification_report(y_test, y_pred_rf))\n",
        "\n",
        "auc_score_rf = roc_auc_score(y_test, y_pred_proba_rf)\n",
        "print(f\"AUC-ROC Score: {auc_score_rf:.3f}\") "
      ]
    },
    {
      "cell_type": "markdown",
      "metadata": {
        "id": "HlsBu7115S9c"
      },
      "source": [
        "Dari Classification Report tersebut, dapat dilihat bahwa model memiliki nilai akurasi sebesar 0,83. Nilai precision untuk class 0 sebesar 0,86 dan recall sebesar 0,93, sedangkan untuk class 1 nilai precision sebesar 0,59 dan recall sebesar 0,39. Hal ini menunjukkan bahwa model mampu mengklasifikasikan class 0 dengan lebih baik daripada class 1."
      ]
    },
    {
      "cell_type": "markdown",
      "metadata": {
        "id": "xKp_53M2CUyO"
      },
      "source": [
        "##Gradient Boosting"
      ]
    },
    {
      "cell_type": "code",
      "execution_count": 164,
      "metadata": {
        "colab": {
          "base_uri": "https://localhost:8080/"
        },
        "id": "KB3Gw3zbCXSi",
        "outputId": "48de4e46-ae05-41ae-c526-b903341293b0"
      },
      "outputs": [
        {
          "output_type": "stream",
          "name": "stdout",
          "text": [
            "ROC AUC Score: 0.7357397504456328\n"
          ]
        }
      ],
      "source": [
        "#melakukan prediksi proba dan hitung score \n",
        "y_pred_proba_gb = pipe_gb.predict_proba(X_test)[:,1]\n",
        "auc_score_gb = roc_auc_score(y_test, y_pred_proba_gb)\n",
        "print(\"ROC AUC Score:\", auc_score_gb)"
      ]
    },
    {
      "cell_type": "code",
      "execution_count": 165,
      "metadata": {
        "colab": {
          "base_uri": "https://localhost:8080/"
        },
        "id": "ika7-ietCblr",
        "outputId": "e5a8ba3f-5230-4a1f-bdaa-74cc926683f5"
      },
      "outputs": [
        {
          "output_type": "stream",
          "name": "stdout",
          "text": [
            "Classification Report:\n",
            "              precision    recall  f1-score   support\n",
            "\n",
            "           0       0.86      0.94      0.90       714\n",
            "           1       0.62      0.40      0.49       176\n",
            "\n",
            "    accuracy                           0.83       890\n",
            "   macro avg       0.74      0.67      0.70       890\n",
            "weighted avg       0.82      0.83      0.82       890\n",
            "\n",
            "AUC-ROC Score: 0.736\n"
          ]
        }
      ],
      "source": [
        "# Menghitung metrik evaluasi\n",
        "print(\"Classification Report:\")\n",
        "print(classification_report(y_test, y_pred_gb))\n",
        "\n",
        "auc_score_gb = roc_auc_score(y_test, y_pred_proba_gb)\n",
        "print(f\"AUC-ROC Score: {auc_score_gb:.3f}\") "
      ]
    },
    {
      "cell_type": "markdown",
      "source": [
        "Model Gradient Boosting memiliki tingkat akurasi yang cukup baik dengan recall tergolong rendah di class 1 40%, dan AUC-ROC Score sebesar 0.736 menunjukkan bahwa model cukup baik dalam membedakan antara label 0 dan 1."
      ],
      "metadata": {
        "id": "B2YaKqTTh76B"
      }
    },
    {
      "cell_type": "markdown",
      "metadata": {
        "id": "0phJNGzVIFTL"
      },
      "source": [
        "##selecting best model using Cross Validation"
      ]
    },
    {
      "cell_type": "code",
      "execution_count": 166,
      "metadata": {
        "colab": {
          "base_uri": "https://localhost:8080/"
        },
        "id": "Zr7s6f5RIEme",
        "outputId": "073ccb27-bb52-4fbf-d3c9-e9d00064ae8a"
      },
      "outputs": [
        {
          "output_type": "stream",
          "name": "stdout",
          "text": [
            "LogisticRegression: 0.743 +/- 0.050\n",
            "SVM: 0.739 +/- 0.049\n",
            "DecisionTree: 0.715 +/- 0.032\n",
            "KNN: 0.714 +/- 0.046\n",
            "Naive Bayes: 0.758 +/- 0.041\n",
            "Random Forest: 0.742 +/- 0.030\n",
            "Gradient Boosting: 0.759 +/- 0.030\n",
            "\n",
            "Best model: dict_keys(['scaler', 'GradientBoosting']) with ROC AUC score of 0.759\n"
          ]
        }
      ],
      "source": [
        "best_score = 0\n",
        "best_model = None\n",
        "\n",
        "#seleksi model\n",
        "models = {\n",
        "    'LogisticRegression': pipe_logistic,\n",
        "    'SVM': pipe_svm,\n",
        "    'DecisionTree': pipe_dt,\n",
        "    'KNN': pipe_knn,\n",
        "    'Naive Bayes': pipe_nb,\n",
        "    'Random Forest': pipe_rf,\n",
        "    'Gradient Boosting': pipe_gb,\n",
        "}\n",
        "\n",
        "for name, model in models.items():\n",
        "    scores = cross_val_score(model, X_train, y_train, cv=10, scoring='roc_auc')\n",
        "    score_mean = scores.mean()\n",
        "    score_std = scores.std()\n",
        "    print(f\"{name}: {score_mean:.3f} +/- {score_std:.3f}\")\n",
        "    \n",
        "    if score_mean > best_score:\n",
        "        best_score = score_mean\n",
        "        best_model = model\n",
        "\n",
        "print(f\"\\nBest model: {best_model.named_steps.keys()} with ROC AUC score of {best_score:.3f}\")\n"
      ]
    },
    {
      "cell_type": "markdown",
      "metadata": {
        "id": "z_icoR3AL7yK"
      },
      "source": [
        "dari 7 model yg dibuat, modet terbaik adalah Gradient Boosting, maka dari itu untuk mengoptimalkan lagi menggunakan hyperparameter tunning Naive Bayes"
      ]
    },
    {
      "cell_type": "markdown",
      "metadata": {
        "id": "BhfMCdCx7qE_"
      },
      "source": [
        "##Hyperparameter Tunning"
      ]
    },
    {
      "cell_type": "markdown",
      "metadata": {
        "id": "d4rLLc0UMnE8"
      },
      "source": [
        "menggunakan gridsearchCV untuk meningkatkan performa model"
      ]
    },
    {
      "cell_type": "code",
      "execution_count": 167,
      "metadata": {
        "id": "zQ-vFxnRNOxY"
      },
      "outputs": [],
      "source": [
        "# Membuat objek untuk Gradient Boosting\n",
        "gb = GradientBoostingClassifier()"
      ]
    },
    {
      "cell_type": "code",
      "execution_count": 168,
      "metadata": {
        "id": "UF1BiHIDMS9B"
      },
      "outputs": [],
      "source": [
        "# Parameter grid untuk Gradient Boosting\n",
        "param_grid_gb = {\n",
        "    'learning_rate': [0.1, 0.2, 0.3],\n",
        "    'n_estimators': [50, 100, 200],\n",
        "    'max_depth': [3, 5, 7]\n",
        "}"
      ]
    },
    {
      "cell_type": "code",
      "execution_count": 169,
      "metadata": {
        "id": "j0twnHUMMtyU"
      },
      "outputs": [],
      "source": [
        "# Membuat object GridSearchCV\n",
        "grid_gb = GridSearchCV(gb, param_grid=param_grid_gb, cv=5, scoring='roc_auc')"
      ]
    },
    {
      "cell_type": "code",
      "execution_count": 170,
      "metadata": {
        "colab": {
          "base_uri": "https://localhost:8080/"
        },
        "id": "_BMj9UwOMyRg",
        "outputId": "c91d4524-ed57-4165-ea7e-e732b28cc75b"
      },
      "outputs": [
        {
          "output_type": "stream",
          "name": "stdout",
          "text": [
            "Best score: 0.763236247382835\n",
            "Best parameters: {'learning_rate': 0.1, 'max_depth': 3, 'n_estimators': 50}\n"
          ]
        }
      ],
      "source": [
        "# Fitting GridSearchCV object ke training data\n",
        "grid_gb.fit(X_train, y_train)\n",
        "\n",
        "print(\"Best score:\", grid_gb.best_score_)\n",
        "print(\"Best parameters:\", grid_gb.best_params_)"
      ]
    },
    {
      "cell_type": "code",
      "execution_count": 173,
      "metadata": {
        "id": "SPw8o5VPM1Hf"
      },
      "outputs": [],
      "source": [
        "# Menggunakan model Gradient Boosting dengan hyperparameters terbaik\n",
        "best_gb = GradientBoostingClassifier(n_estimators=50, learning_rate=0.1, max_depth=3)"
      ]
    },
    {
      "cell_type": "code",
      "execution_count": 175,
      "metadata": {
        "colab": {
          "base_uri": "https://localhost:8080/",
          "height": 75
        },
        "id": "6Z1vfus9OCaj",
        "outputId": "9d6d3a49-bca6-4333-ee26-e2fae2d14a8b"
      },
      "outputs": [
        {
          "output_type": "execute_result",
          "data": {
            "text/plain": [
              "GradientBoostingClassifier(n_estimators=50)"
            ],
            "text/html": [
              "<style>#sk-container-id-16 {color: black;background-color: white;}#sk-container-id-16 pre{padding: 0;}#sk-container-id-16 div.sk-toggleable {background-color: white;}#sk-container-id-16 label.sk-toggleable__label {cursor: pointer;display: block;width: 100%;margin-bottom: 0;padding: 0.3em;box-sizing: border-box;text-align: center;}#sk-container-id-16 label.sk-toggleable__label-arrow:before {content: \"▸\";float: left;margin-right: 0.25em;color: #696969;}#sk-container-id-16 label.sk-toggleable__label-arrow:hover:before {color: black;}#sk-container-id-16 div.sk-estimator:hover label.sk-toggleable__label-arrow:before {color: black;}#sk-container-id-16 div.sk-toggleable__content {max-height: 0;max-width: 0;overflow: hidden;text-align: left;background-color: #f0f8ff;}#sk-container-id-16 div.sk-toggleable__content pre {margin: 0.2em;color: black;border-radius: 0.25em;background-color: #f0f8ff;}#sk-container-id-16 input.sk-toggleable__control:checked~div.sk-toggleable__content {max-height: 200px;max-width: 100%;overflow: auto;}#sk-container-id-16 input.sk-toggleable__control:checked~label.sk-toggleable__label-arrow:before {content: \"▾\";}#sk-container-id-16 div.sk-estimator input.sk-toggleable__control:checked~label.sk-toggleable__label {background-color: #d4ebff;}#sk-container-id-16 div.sk-label input.sk-toggleable__control:checked~label.sk-toggleable__label {background-color: #d4ebff;}#sk-container-id-16 input.sk-hidden--visually {border: 0;clip: rect(1px 1px 1px 1px);clip: rect(1px, 1px, 1px, 1px);height: 1px;margin: -1px;overflow: hidden;padding: 0;position: absolute;width: 1px;}#sk-container-id-16 div.sk-estimator {font-family: monospace;background-color: #f0f8ff;border: 1px dotted black;border-radius: 0.25em;box-sizing: border-box;margin-bottom: 0.5em;}#sk-container-id-16 div.sk-estimator:hover {background-color: #d4ebff;}#sk-container-id-16 div.sk-parallel-item::after {content: \"\";width: 100%;border-bottom: 1px solid gray;flex-grow: 1;}#sk-container-id-16 div.sk-label:hover label.sk-toggleable__label {background-color: #d4ebff;}#sk-container-id-16 div.sk-serial::before {content: \"\";position: absolute;border-left: 1px solid gray;box-sizing: border-box;top: 0;bottom: 0;left: 50%;z-index: 0;}#sk-container-id-16 div.sk-serial {display: flex;flex-direction: column;align-items: center;background-color: white;padding-right: 0.2em;padding-left: 0.2em;position: relative;}#sk-container-id-16 div.sk-item {position: relative;z-index: 1;}#sk-container-id-16 div.sk-parallel {display: flex;align-items: stretch;justify-content: center;background-color: white;position: relative;}#sk-container-id-16 div.sk-item::before, #sk-container-id-16 div.sk-parallel-item::before {content: \"\";position: absolute;border-left: 1px solid gray;box-sizing: border-box;top: 0;bottom: 0;left: 50%;z-index: -1;}#sk-container-id-16 div.sk-parallel-item {display: flex;flex-direction: column;z-index: 1;position: relative;background-color: white;}#sk-container-id-16 div.sk-parallel-item:first-child::after {align-self: flex-end;width: 50%;}#sk-container-id-16 div.sk-parallel-item:last-child::after {align-self: flex-start;width: 50%;}#sk-container-id-16 div.sk-parallel-item:only-child::after {width: 0;}#sk-container-id-16 div.sk-dashed-wrapped {border: 1px dashed gray;margin: 0 0.4em 0.5em 0.4em;box-sizing: border-box;padding-bottom: 0.4em;background-color: white;}#sk-container-id-16 div.sk-label label {font-family: monospace;font-weight: bold;display: inline-block;line-height: 1.2em;}#sk-container-id-16 div.sk-label-container {text-align: center;}#sk-container-id-16 div.sk-container {/* jupyter's `normalize.less` sets `[hidden] { display: none; }` but bootstrap.min.css set `[hidden] { display: none !important; }` so we also need the `!important` here to be able to override the default hidden behavior on the sphinx rendered scikit-learn.org. See: https://github.com/scikit-learn/scikit-learn/issues/21755 */display: inline-block !important;position: relative;}#sk-container-id-16 div.sk-text-repr-fallback {display: none;}</style><div id=\"sk-container-id-16\" class=\"sk-top-container\"><div class=\"sk-text-repr-fallback\"><pre>GradientBoostingClassifier(n_estimators=50)</pre><b>In a Jupyter environment, please rerun this cell to show the HTML representation or trust the notebook. <br />On GitHub, the HTML representation is unable to render, please try loading this page with nbviewer.org.</b></div><div class=\"sk-container\" hidden><div class=\"sk-item\"><div class=\"sk-estimator sk-toggleable\"><input class=\"sk-toggleable__control sk-hidden--visually\" id=\"sk-estimator-id-42\" type=\"checkbox\" checked><label for=\"sk-estimator-id-42\" class=\"sk-toggleable__label sk-toggleable__label-arrow\">GradientBoostingClassifier</label><div class=\"sk-toggleable__content\"><pre>GradientBoostingClassifier(n_estimators=50)</pre></div></div></div></div></div>"
            ]
          },
          "metadata": {},
          "execution_count": 175
        }
      ],
      "source": [
        "# Fitting model\n",
        "best_gb.fit(X_train, y_train)"
      ]
    },
    {
      "cell_type": "code",
      "execution_count": 176,
      "metadata": {
        "id": "oQsfl8fKOE2k"
      },
      "outputs": [],
      "source": [
        "# Melakukan prediksi\n",
        "y_pred_gb_grid = best_gb.predict(X_test)"
      ]
    },
    {
      "cell_type": "code",
      "source": [
        "# Menghitung skor AUC-ROC pada data test\n",
        "auc_score_gb_grid = roc_auc_score(y_test, y_pred_gb_grid)"
      ],
      "metadata": {
        "id": "SwetjgNVFIYl"
      },
      "execution_count": 177,
      "outputs": []
    },
    {
      "cell_type": "code",
      "execution_count": 178,
      "metadata": {
        "colab": {
          "base_uri": "https://localhost:8080/"
        },
        "id": "M4jjiLpSOI9Y",
        "outputId": "862c0a63-88f2-4e28-e5f7-2c5049ed1c59"
      },
      "outputs": [
        {
          "output_type": "stream",
          "name": "stdout",
          "text": [
            "Classification Report:\n",
            "              precision    recall  f1-score   support\n",
            "\n",
            "           0       0.86      0.94      0.90       714\n",
            "           1       0.62      0.40      0.49       176\n",
            "\n",
            "    accuracy                           0.83       890\n",
            "   macro avg       0.74      0.67      0.69       890\n",
            "weighted avg       0.82      0.83      0.82       890\n",
            "\n",
            "AUC-ROC Score: 0.671\n"
          ]
        }
      ],
      "source": [
        "# Mencetak classification report dan score AUC-ROC\n",
        "print(\"Classification Report:\")\n",
        "print(classification_report(y_test, y_pred_gb_grid))\n",
        "\n",
        "print(f\"AUC-ROC Score: {auc_score_gb_grid:.3f}\")"
      ]
    },
    {
      "cell_type": "markdown",
      "source": [
        "ROC AUC scorenya mengalami penurunan setelah modelnya di tuning, yg awalnya 0.736 menjadi 0.671"
      ],
      "metadata": {
        "id": "Qv3lxpgcFXMH"
      }
    },
    {
      "cell_type": "code",
      "execution_count": 179,
      "metadata": {
        "colab": {
          "base_uri": "https://localhost:8080/"
        },
        "id": "jlCd68MLfuIT",
        "outputId": "ef7d8931-6a3f-4cd4-a02a-98b35ffc1713"
      },
      "outputs": [
        {
          "output_type": "stream",
          "name": "stdout",
          "text": [
            "Jumlah data class 0: 776\n",
            "Jumlah data class 1: 114\n"
          ]
        }
      ],
      "source": [
        "# Menghitung jumlah data pada class 0 dan class 1\n",
        "n_class_0 = len(y_pred_gb[y_pred_gb == 0])\n",
        "n_class_1 = len(y_pred_gb[y_pred_gb == 1])\n",
        "\n",
        "# Menampilkan jumlah data pada class 0 dan class 1\n",
        "print(f\"Jumlah data class 0: {n_class_0}\")\n",
        "print(f\"Jumlah data class 1: {n_class_1}\")"
      ]
    },
    {
      "cell_type": "code",
      "execution_count": 180,
      "metadata": {
        "colab": {
          "base_uri": "https://localhost:8080/",
          "height": 282
        },
        "id": "Of4h9aAwfuIV",
        "outputId": "df41819d-c3d2-4c82-f340-2a63dbf38706"
      },
      "outputs": [
        {
          "output_type": "execute_result",
          "data": {
            "text/plain": [
              "<AxesSubplot:>"
            ]
          },
          "metadata": {},
          "execution_count": 180
        },
        {
          "output_type": "display_data",
          "data": {
            "text/plain": [
              "<Figure size 432x288 with 2 Axes>"
            ],
            "image/png": "[encoded data removed]"
          },
          "metadata": {
            "needs_background": "light"
          }
        }
      ],
      "source": [
        "# Membuat confusion matrix\n",
        "cm = confusion_matrix(y_test, y_pred_gb)\n",
        "\n",
        "# Normalisasi confusion matrix\n",
        "cm_norm = cm / cm.sum(axis=1)[:, np.newaxis]\n",
        "\n",
        "# Membuat heatmap\n",
        "sns.heatmap(cm_norm, annot=True, cmap='Blues', fmt='.2f')"
      ]
    },
    {
      "cell_type": "markdown",
      "source": [
        "Dari hasil confusion matrix, terlihat bahwa model memiliki kemampuan yang baik dalam memprediksi class 0(tidak akan mengalami keterlambatan pembayaran) dengan akurasi 94% pada true negative (class 0 diprediksi benar) dan 6% false positive (class 0 diprediksi salah). Namun, model memiliki kemampuan yang kurang baik dalam memprediksi class 1(akan mengalami keterlambatan pembayaran, hanya memiliki akurasi 40% pada true positive (class 1 diprediksi benar) dan 60% false negative (class 1 diprediksi salah)"
      ],
      "metadata": {
        "id": "asL3vaRbZ0rf"
      }
    },
    {
      "cell_type": "markdown",
      "metadata": {
        "id": "F5sGSHnLfuIU"
      },
      "source": [
        "##Try to Using Oversampling"
      ]
    },
    {
      "cell_type": "code",
      "source": [
        "# definisi Pipeline dengan SMOTE dan GradientBoostingClassifier\n",
        "pipe_over_gb = make_pipeline([\n",
        "    ('scaler', StandardScaler()),\n",
        "    ('smote', SMOTE(k_neighbors=6, sampling_strategy='minority', random_state=10)),\n",
        "    ('gb', GradientBoostingClassifier())\n",
        "])"
      ],
      "metadata": {
        "id": "fWQOa5dCgetV"
      },
      "execution_count": 181,
      "outputs": []
    },
    {
      "cell_type": "code",
      "source": [
        "# definisi hyperparameter space\n",
        "param_over_grid = {\n",
        "    'gb__n_estimators': [50, 100, 200],\n",
        "    'gb__max_depth': [3, 4, 5],\n",
        "    'gb__learning_rate': [0.1, 0.01, 0.001]\n",
        "}"
      ],
      "metadata": {
        "id": "iBT9dbwNL9in"
      },
      "execution_count": 182,
      "outputs": []
    },
    {
      "cell_type": "code",
      "source": [
        "# inisialisasi GridSearchCV\n",
        "grid_over_gb = GridSearchCV(\n",
        "    pipe_over_gb, param_grid=param_over_grid, cv=5, n_jobs=-1, scoring='roc_auc'\n",
        ")\n",
        "smote = SMOTE(k_neighbors=6, sampling_strategy='minority', random_state=10)\n",
        "X_train_balanced, y_train_balanced = smote.fit_resample(X_train, y_train)\n",
        "y_train_balanced.value_counts()"
      ],
      "metadata": {
        "id": "wWtmsRKSMLJQ",
        "colab": {
          "base_uri": "https://localhost:8080/"
        },
        "outputId": "4407aadc-2a6e-45fa-aa75-1853ab588471"
      },
      "execution_count": 183,
      "outputs": [
        {
          "output_type": "execute_result",
          "data": {
            "text/plain": [
              "0    1616\n",
              "1    1616\n",
              "Name: default_payment_next_month, dtype: int64"
            ]
          },
          "metadata": {},
          "execution_count": 183
        }
      ]
    },
    {
      "cell_type": "code",
      "source": [
        "# melatih model dengan Pipeline\n",
        "pipe_over_gb.fit(X_train_balanced, y_train_balanced)"
      ],
      "metadata": {
        "colab": {
          "base_uri": "https://localhost:8080/",
          "height": 161
        },
        "id": "WjK8bPNwNHgq",
        "outputId": "bd86b4eb-102b-40f6-c93f-555a3187fd4f"
      },
      "execution_count": 184,
      "outputs": [
        {
          "output_type": "execute_result",
          "data": {
            "text/plain": [
              "Pipeline(steps=[('scaler', StandardScaler()),\n",
              "                ('smote',\n",
              "                 SMOTE(k_neighbors=6, random_state=10,\n",
              "                       sampling_strategy='minority')),\n",
              "                ('gb', GradientBoostingClassifier())])"
            ],
            "text/html": [
              "<style>#sk-container-id-17 {color: black;background-color: white;}#sk-container-id-17 pre{padding: 0;}#sk-container-id-17 div.sk-toggleable {background-color: white;}#sk-container-id-17 label.sk-toggleable__label {cursor: pointer;display: block;width: 100%;margin-bottom: 0;padding: 0.3em;box-sizing: border-box;text-align: center;}#sk-container-id-17 label.sk-toggleable__label-arrow:before {content: \"▸\";float: left;margin-right: 0.25em;color: #696969;}#sk-container-id-17 label.sk-toggleable__label-arrow:hover:before {color: black;}#sk-container-id-17 div.sk-estimator:hover label.sk-toggleable__label-arrow:before {color: black;}#sk-container-id-17 div.sk-toggleable__content {max-height: 0;max-width: 0;overflow: hidden;text-align: left;background-color: #f0f8ff;}#sk-container-id-17 div.sk-toggleable__content pre {margin: 0.2em;color: black;border-radius: 0.25em;background-color: #f0f8ff;}#sk-container-id-17 input.sk-toggleable__control:checked~div.sk-toggleable__content {max-height: 200px;max-width: 100%;overflow: auto;}#sk-container-id-17 input.sk-toggleable__control:checked~label.sk-toggleable__label-arrow:before {content: \"▾\";}#sk-container-id-17 div.sk-estimator input.sk-toggleable__control:checked~label.sk-toggleable__label {background-color: #d4ebff;}#sk-container-id-17 div.sk-label input.sk-toggleable__control:checked~label.sk-toggleable__label {background-color: #d4ebff;}#sk-container-id-17 input.sk-hidden--visually {border: 0;clip: rect(1px 1px 1px 1px);clip: rect(1px, 1px, 1px, 1px);height: 1px;margin: -1px;overflow: hidden;padding: 0;position: absolute;width: 1px;}#sk-container-id-17 div.sk-estimator {font-family: monospace;background-color: #f0f8ff;border: 1px dotted black;border-radius: 0.25em;box-sizing: border-box;margin-bottom: 0.5em;}#sk-container-id-17 div.sk-estimator:hover {background-color: #d4ebff;}#sk-container-id-17 div.sk-parallel-item::after {content: \"\";width: 100%;border-bottom: 1px solid gray;flex-grow: 1;}#sk-container-id-17 div.sk-label:hover label.sk-toggleable__label {background-color: #d4ebff;}#sk-container-id-17 div.sk-serial::before {content: \"\";position: absolute;border-left: 1px solid gray;box-sizing: border-box;top: 0;bottom: 0;left: 50%;z-index: 0;}#sk-container-id-17 div.sk-serial {display: flex;flex-direction: column;align-items: center;background-color: white;padding-right: 0.2em;padding-left: 0.2em;position: relative;}#sk-container-id-17 div.sk-item {position: relative;z-index: 1;}#sk-container-id-17 div.sk-parallel {display: flex;align-items: stretch;justify-content: center;background-color: white;position: relative;}#sk-container-id-17 div.sk-item::before, #sk-container-id-17 div.sk-parallel-item::before {content: \"\";position: absolute;border-left: 1px solid gray;box-sizing: border-box;top: 0;bottom: 0;left: 50%;z-index: -1;}#sk-container-id-17 div.sk-parallel-item {display: flex;flex-direction: column;z-index: 1;position: relative;background-color: white;}#sk-container-id-17 div.sk-parallel-item:first-child::after {align-self: flex-end;width: 50%;}#sk-container-id-17 div.sk-parallel-item:last-child::after {align-self: flex-start;width: 50%;}#sk-container-id-17 div.sk-parallel-item:only-child::after {width: 0;}#sk-container-id-17 div.sk-dashed-wrapped {border: 1px dashed gray;margin: 0 0.4em 0.5em 0.4em;box-sizing: border-box;padding-bottom: 0.4em;background-color: white;}#sk-container-id-17 div.sk-label label {font-family: monospace;font-weight: bold;display: inline-block;line-height: 1.2em;}#sk-container-id-17 div.sk-label-container {text-align: center;}#sk-container-id-17 div.sk-container {/* jupyter's `normalize.less` sets `[hidden] { display: none; }` but bootstrap.min.css set `[hidden] { display: none !important; }` so we also need the `!important` here to be able to override the default hidden behavior on the sphinx rendered scikit-learn.org. See: https://github.com/scikit-learn/scikit-learn/issues/21755 */display: inline-block !important;position: relative;}#sk-container-id-17 div.sk-text-repr-fallback {display: none;}</style><div id=\"sk-container-id-17\" class=\"sk-top-container\"><div class=\"sk-text-repr-fallback\"><pre>Pipeline(steps=[(&#x27;scaler&#x27;, StandardScaler()),\n",
              "                (&#x27;smote&#x27;,\n",
              "                 SMOTE(k_neighbors=6, random_state=10,\n",
              "                       sampling_strategy=&#x27;minority&#x27;)),\n",
              "                (&#x27;gb&#x27;, GradientBoostingClassifier())])</pre><b>In a Jupyter environment, please rerun this cell to show the HTML representation or trust the notebook. <br />On GitHub, the HTML representation is unable to render, please try loading this page with nbviewer.org.</b></div><div class=\"sk-container\" hidden><div class=\"sk-item sk-dashed-wrapped\"><div class=\"sk-label-container\"><div class=\"sk-label sk-toggleable\"><input class=\"sk-toggleable__control sk-hidden--visually\" id=\"sk-estimator-id-43\" type=\"checkbox\" ><label for=\"sk-estimator-id-43\" class=\"sk-toggleable__label sk-toggleable__label-arrow\">Pipeline</label><div class=\"sk-toggleable__content\"><pre>Pipeline(steps=[(&#x27;scaler&#x27;, StandardScaler()),\n",
              "                (&#x27;smote&#x27;,\n",
              "                 SMOTE(k_neighbors=6, random_state=10,\n",
              "                       sampling_strategy=&#x27;minority&#x27;)),\n",
              "                (&#x27;gb&#x27;, GradientBoostingClassifier())])</pre></div></div></div><div class=\"sk-serial\"><div class=\"sk-item\"><div class=\"sk-estimator sk-toggleable\"><input class=\"sk-toggleable__control sk-hidden--visually\" id=\"sk-estimator-id-44\" type=\"checkbox\" ><label for=\"sk-estimator-id-44\" class=\"sk-toggleable__label sk-toggleable__label-arrow\">StandardScaler</label><div class=\"sk-toggleable__content\"><pre>StandardScaler()</pre></div></div></div><div class=\"sk-item\"><div class=\"sk-estimator sk-toggleable\"><input class=\"sk-toggleable__control sk-hidden--visually\" id=\"sk-estimator-id-45\" type=\"checkbox\" ><label for=\"sk-estimator-id-45\" class=\"sk-toggleable__label sk-toggleable__label-arrow\">SMOTE</label><div class=\"sk-toggleable__content\"><pre>SMOTE(k_neighbors=6, random_state=10, sampling_strategy=&#x27;minority&#x27;)</pre></div></div></div><div class=\"sk-item\"><div class=\"sk-estimator sk-toggleable\"><input class=\"sk-toggleable__control sk-hidden--visually\" id=\"sk-estimator-id-46\" type=\"checkbox\" ><label for=\"sk-estimator-id-46\" class=\"sk-toggleable__label sk-toggleable__label-arrow\">GradientBoostingClassifier</label><div class=\"sk-toggleable__content\"><pre>GradientBoostingClassifier()</pre></div></div></div></div></div></div></div>"
            ]
          },
          "metadata": {},
          "execution_count": 184
        }
      ]
    },
    {
      "cell_type": "code",
      "source": [
        "# Check Train Results\n",
        "print(classification_report(y_train, best_gb.predict(X_train)))\n",
        "print(classification_report(y_train_balanced, pipe_over_gb.predict(X_train_balanced)))"
      ],
      "metadata": {
        "colab": {
          "base_uri": "https://localhost:8080/"
        },
        "id": "mrOAw6cRfAsi",
        "outputId": "6fb6b46a-dd08-43f3-a2fa-0fbdac13b69a"
      },
      "execution_count": 185,
      "outputs": [
        {
          "output_type": "stream",
          "name": "stdout",
          "text": [
            "              precision    recall  f1-score   support\n",
            "\n",
            "           0       0.87      0.96      0.91      1616\n",
            "           1       0.77      0.47      0.59       459\n",
            "\n",
            "    accuracy                           0.85      2075\n",
            "   macro avg       0.82      0.72      0.75      2075\n",
            "weighted avg       0.84      0.85      0.84      2075\n",
            "\n",
            "              precision    recall  f1-score   support\n",
            "\n",
            "           0       0.70      0.87      0.78      1616\n",
            "           1       0.83      0.63      0.72      1616\n",
            "\n",
            "    accuracy                           0.75      3232\n",
            "   macro avg       0.76      0.75      0.75      3232\n",
            "weighted avg       0.76      0.75      0.75      3232\n",
            "\n"
          ]
        }
      ]
    },
    {
      "cell_type": "markdown",
      "source": [
        "terlihat perbedaan antara data tidak yg menggunakan SMOTE dan data yg menggunakan SMOTE, terjadi peningkatan precision class minoritas (class 1) yg awalnya 0.77, menjadi 0.83, dan recall yg tadinya 0.47 menjadi 0.63"
      ],
      "metadata": {
        "id": "QdZnxbaDLMGR"
      }
    },
    {
      "cell_type": "markdown",
      "source": [
        "kesimpulannya : menggunakan SMOTE mampu meningkatkan kelas minoritas untuk data yg imbalance"
      ],
      "metadata": {
        "id": "y3fYdJhLQjWh"
      }
    },
    {
      "cell_type": "markdown",
      "source": [
        "#Model Saving"
      ],
      "metadata": {
        "id": "SHYqj36GXQvP"
      }
    },
    {
      "cell_type": "code",
      "source": [
        "# Save the Files\n",
        "\n",
        "with open('model_gradient_boosting.pkl', 'wb') as file_1:\n",
        "  pickle.dump(best_gb, file_1)\n",
        "\n",
        "with open('model_scaler.pkl', 'wb') as file_2:\n",
        "  pickle.dump(scaler, file_2)\n",
        "\n",
        "with open('model_pipeline.pkl', 'wb') as file_3:\n",
        "  pickle.dump(pipe_gb, file_3)"
      ],
      "metadata": {
        "id": "7gSK9HZCXiqF"
      },
      "execution_count": 186,
      "outputs": []
    }
  ],
  "metadata": {
    "colab": {
      "provenance": [],
      "toc_visible": true
    },
    "gpuClass": "standard",
    "kernelspec": {
      "display_name": "Python 3 (ipykernel)",
      "language": "python",
      "name": "python3"
    },
    "language_info": {
      "codemirror_mode": {
        "name": "ipython",
        "version": 3
      },
      "file_extension": ".py",
      "mimetype": "text/x-python",
      "name": "python",
      "nbconvert_exporter": "python",
      "pygments_lexer": "ipython3",
      "version": "3.9.13"
    }
  },
  "nbformat": 4,
  "nbformat_minor": 0
}